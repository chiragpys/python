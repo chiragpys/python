{
 "cells": [
  {
   "cell_type": "code",
   "execution_count": 2,
   "id": "479e78cd",
   "metadata": {},
   "outputs": [],
   "source": [
    "import pandas as pd"
   ]
  },
  {
   "cell_type": "markdown",
   "id": "4c10772d",
   "metadata": {},
   "source": [
    "### Reading files\n",
    "In pandas reading files used `pd.read_'type of file'` i.e.. pd.read_csv(filename):"
   ]
  },
  {
   "cell_type": "code",
   "execution_count": 3,
   "id": "cd7093f8",
   "metadata": {},
   "outputs": [],
   "source": [
    "cast = pd.read_csv(r'C:\\Users\\chira\\Desktop\\Pysquad\\Pandas\\pythondsp-pandasguide-b936c3b43406\\data\\cast.csv', index_col=None)"
   ]
  },
  {
   "cell_type": "code",
   "execution_count": 4,
   "id": "d513360e",
   "metadata": {},
   "outputs": [
    {
     "data": {
      "text/html": [
       "<div>\n",
       "<style scoped>\n",
       "    .dataframe tbody tr th:only-of-type {\n",
       "        vertical-align: middle;\n",
       "    }\n",
       "\n",
       "    .dataframe tbody tr th {\n",
       "        vertical-align: top;\n",
       "    }\n",
       "\n",
       "    .dataframe thead th {\n",
       "        text-align: right;\n",
       "    }\n",
       "</style>\n",
       "<table border=\"1\" class=\"dataframe\">\n",
       "  <thead>\n",
       "    <tr style=\"text-align: right;\">\n",
       "      <th></th>\n",
       "      <th>title</th>\n",
       "      <th>year</th>\n",
       "      <th>name</th>\n",
       "      <th>type</th>\n",
       "      <th>character</th>\n",
       "      <th>n</th>\n",
       "    </tr>\n",
       "  </thead>\n",
       "  <tbody>\n",
       "    <tr>\n",
       "      <th>0</th>\n",
       "      <td>Closet Monster</td>\n",
       "      <td>2015</td>\n",
       "      <td>Buffy #1</td>\n",
       "      <td>actor</td>\n",
       "      <td>Buffy 4</td>\n",
       "      <td>31.0</td>\n",
       "    </tr>\n",
       "    <tr>\n",
       "      <th>1</th>\n",
       "      <td>Suuri illusioni</td>\n",
       "      <td>1985</td>\n",
       "      <td>Homo $</td>\n",
       "      <td>actor</td>\n",
       "      <td>Guests</td>\n",
       "      <td>22.0</td>\n",
       "    </tr>\n",
       "    <tr>\n",
       "      <th>2</th>\n",
       "      <td>Battle of the Sexes</td>\n",
       "      <td>2017</td>\n",
       "      <td>$hutter</td>\n",
       "      <td>actor</td>\n",
       "      <td>Bobby Riggs Fan</td>\n",
       "      <td>10.0</td>\n",
       "    </tr>\n",
       "    <tr>\n",
       "      <th>3</th>\n",
       "      <td>Secret in Their Eyes</td>\n",
       "      <td>2015</td>\n",
       "      <td>$hutter</td>\n",
       "      <td>actor</td>\n",
       "      <td>2002 Dodger Fan</td>\n",
       "      <td>NaN</td>\n",
       "    </tr>\n",
       "    <tr>\n",
       "      <th>4</th>\n",
       "      <td>Steve Jobs</td>\n",
       "      <td>2015</td>\n",
       "      <td>$hutter</td>\n",
       "      <td>actor</td>\n",
       "      <td>1988 Opera House Patron</td>\n",
       "      <td>NaN</td>\n",
       "    </tr>\n",
       "  </tbody>\n",
       "</table>\n",
       "</div>"
      ],
      "text/plain": [
       "                  title  year      name   type                character     n\n",
       "0        Closet Monster  2015  Buffy #1  actor                  Buffy 4  31.0\n",
       "1       Suuri illusioni  1985    Homo $  actor                   Guests  22.0\n",
       "2   Battle of the Sexes  2017   $hutter  actor          Bobby Riggs Fan  10.0\n",
       "3  Secret in Their Eyes  2015   $hutter  actor          2002 Dodger Fan   NaN\n",
       "4            Steve Jobs  2015   $hutter  actor  1988 Opera House Patron   NaN"
      ]
     },
     "execution_count": 4,
     "metadata": {},
     "output_type": "execute_result"
    }
   ],
   "source": [
    "cast.head()"
   ]
  },
  {
   "cell_type": "code",
   "execution_count": 5,
   "id": "22e5313c",
   "metadata": {},
   "outputs": [],
   "source": [
    "titles = pd.read_csv(r'C:\\Users\\chira\\Desktop\\Pysquad\\Pandas\\pythondsp-pandasguide-b936c3b43406\\data\\titles.csv')"
   ]
  },
  {
   "cell_type": "code",
   "execution_count": 6,
   "id": "26f07c4e",
   "metadata": {},
   "outputs": [
    {
     "data": {
      "text/html": [
       "<div>\n",
       "<style scoped>\n",
       "    .dataframe tbody tr th:only-of-type {\n",
       "        vertical-align: middle;\n",
       "    }\n",
       "\n",
       "    .dataframe tbody tr th {\n",
       "        vertical-align: top;\n",
       "    }\n",
       "\n",
       "    .dataframe thead th {\n",
       "        text-align: right;\n",
       "    }\n",
       "</style>\n",
       "<table border=\"1\" class=\"dataframe\">\n",
       "  <thead>\n",
       "    <tr style=\"text-align: right;\">\n",
       "      <th></th>\n",
       "      <th>title</th>\n",
       "      <th>year</th>\n",
       "    </tr>\n",
       "  </thead>\n",
       "  <tbody>\n",
       "    <tr>\n",
       "      <th>49995</th>\n",
       "      <td>Rebel</td>\n",
       "      <td>1970</td>\n",
       "    </tr>\n",
       "    <tr>\n",
       "      <th>49996</th>\n",
       "      <td>Suzanne</td>\n",
       "      <td>1996</td>\n",
       "    </tr>\n",
       "    <tr>\n",
       "      <th>49997</th>\n",
       "      <td>Bomba</td>\n",
       "      <td>2013</td>\n",
       "    </tr>\n",
       "    <tr>\n",
       "      <th>49998</th>\n",
       "      <td>Aao Jao Ghar Tumhara</td>\n",
       "      <td>1984</td>\n",
       "    </tr>\n",
       "    <tr>\n",
       "      <th>49999</th>\n",
       "      <td>Mrs. Munck</td>\n",
       "      <td>1995</td>\n",
       "    </tr>\n",
       "  </tbody>\n",
       "</table>\n",
       "</div>"
      ],
      "text/plain": [
       "                      title  year\n",
       "49995                 Rebel  1970\n",
       "49996               Suzanne  1996\n",
       "49997                 Bomba  2013\n",
       "49998  Aao Jao Ghar Tumhara  1984\n",
       "49999            Mrs. Munck  1995"
      ]
     },
     "execution_count": 6,
     "metadata": {},
     "output_type": "execute_result"
    }
   ],
   "source": [
    "titles.head()\n",
    "titles.tail()"
   ]
  },
  {
   "cell_type": "markdown",
   "id": "7ab40ffe",
   "metadata": {},
   "source": [
    "* `read_csv` : read the data from the csv file.\n",
    "* `index_col` = None : there is no index i.e. first column is data\n",
    "* `head()` : show only first five elements of the DataFrame\n",
    "* `tail()` : show only last five elements of the DataFrame"
   ]
  },
  {
   "cell_type": "code",
   "execution_count": null,
   "id": "53cbc347",
   "metadata": {
    "scrolled": true
   },
   "outputs": [],
   "source": [
    "titles"
   ]
  },
  {
   "cell_type": "markdown",
   "id": "728554a0",
   "metadata": {},
   "source": [
    "* `len` : `‘len’` commmand can be used to see the total number of rows in the file,"
   ]
  },
  {
   "cell_type": "code",
   "execution_count": null,
   "id": "2ee0077e",
   "metadata": {},
   "outputs": [],
   "source": [
    "len(titles)"
   ]
  },
  {
   "cell_type": "code",
   "execution_count": null,
   "id": "241201ca",
   "metadata": {},
   "outputs": [],
   "source": [
    "titles.head(10)"
   ]
  },
  {
   "cell_type": "code",
   "execution_count": null,
   "id": "85356a46",
   "metadata": {},
   "outputs": [],
   "source": [
    "t = titles['title']"
   ]
  },
  {
   "cell_type": "code",
   "execution_count": null,
   "id": "c63f4eda",
   "metadata": {},
   "outputs": [],
   "source": [
    "t.head()"
   ]
  },
  {
   "cell_type": "markdown",
   "id": "eb8cc201",
   "metadata": {},
   "source": [
    "### Filter Data\n",
    "Data can be filtered by providing some boolean expression in DataFrame."
   ]
  },
  {
   "cell_type": "code",
   "execution_count": null,
   "id": "02d94ce7",
   "metadata": {},
   "outputs": [],
   "source": [
    "after20 = titles[titles['year'] > 2000]"
   ]
  },
  {
   "cell_type": "code",
   "execution_count": null,
   "id": "dd9f8105",
   "metadata": {},
   "outputs": [],
   "source": [
    "after20.head()"
   ]
  },
  {
   "cell_type": "code",
   "execution_count": null,
   "id": "4917cf5b",
   "metadata": {},
   "outputs": [],
   "source": [
    "t = titles\n",
    "movies90 = t[(t['year'] >= 1990) & (t['year'] < 2000)]\n",
    "movies90.head()"
   ]
  },
  {
   "cell_type": "markdown",
   "id": "62fc8660",
   "metadata": {},
   "source": [
    "### Sorting\n",
    "`Sorting` can be performed using `‘sort_index’` or `‘sort_values’` keywords:"
   ]
  },
  {
   "cell_type": "code",
   "execution_count": null,
   "id": "f02069c9",
   "metadata": {},
   "outputs": [],
   "source": [
    "t = titles\n",
    "macbeth = t[t['title'] == 'Macbeth']\n",
    "macbeth"
   ]
  },
  {
   "cell_type": "code",
   "execution_count": null,
   "id": "512d4307",
   "metadata": {
    "scrolled": true
   },
   "outputs": [],
   "source": [
    "macbeth = t[t['title'] == 'Macbeth'].sort_index()\n",
    "macbeth"
   ]
  },
  {
   "cell_type": "markdown",
   "id": "5510a55a",
   "metadata": {},
   "source": [
    "### To sort the data by values, the `‘sort_value’` option can be used."
   ]
  },
  {
   "cell_type": "code",
   "execution_count": null,
   "id": "4dadf4a7",
   "metadata": {
    "scrolled": true
   },
   "outputs": [],
   "source": [
    "macbeth = t[t['title'] == 'Macbeth'].sort_values('year')\n",
    "macbeth"
   ]
  },
  {
   "cell_type": "markdown",
   "id": "39afce6a",
   "metadata": {},
   "source": [
    "### Null values\n",
    "Note that, various columns may contains no values, which are usually filled as NaN."
   ]
  },
  {
   "cell_type": "code",
   "execution_count": null,
   "id": "36791301",
   "metadata": {
    "scrolled": true
   },
   "outputs": [],
   "source": [
    "cast.head()"
   ]
  },
  {
   "cell_type": "markdown",
   "id": "780708a7",
   "metadata": {},
   "source": [
    "`‘isnull’` command returns the true value if any row of has null values. Since the rows 3-4 has NaN value,\n",
    "therefore, these are displayed as True."
   ]
  },
  {
   "cell_type": "code",
   "execution_count": null,
   "id": "709ed7ff",
   "metadata": {},
   "outputs": [],
   "source": [
    "c = cast\n",
    "c['n'].isnull().head()"
   ]
  },
  {
   "cell_type": "markdown",
   "id": "bdc01414",
   "metadata": {},
   "source": [
    "`‘notnull’` is opposite of isnull, it returns true for not null values:"
   ]
  },
  {
   "cell_type": "code",
   "execution_count": null,
   "id": "a863d7b8",
   "metadata": {},
   "outputs": [],
   "source": [
    "c['n'].notnull().head()"
   ]
  },
  {
   "cell_type": "code",
   "execution_count": 7,
   "id": "e9cf4096",
   "metadata": {},
   "outputs": [
    {
     "data": {
      "text/plain": [
       "RangeIndex(start=0, stop=75001, step=1)"
      ]
     },
     "execution_count": 7,
     "metadata": {},
     "output_type": "execute_result"
    }
   ],
   "source": [
    "cast.index"
   ]
  },
  {
   "cell_type": "code",
   "execution_count": 8,
   "id": "8345943f",
   "metadata": {},
   "outputs": [
    {
     "data": {
      "text/plain": [
       "Index(['title', 'year', 'name', 'type', 'character', 'n'], dtype='object')"
      ]
     },
     "execution_count": 8,
     "metadata": {},
     "output_type": "execute_result"
    }
   ],
   "source": [
    "cast.columns"
   ]
  },
  {
   "cell_type": "markdown",
   "id": "6d6b192e",
   "metadata": {},
   "source": [
    "### String operations\n",
    "Various string operations can be performed using `‘.str.’` option."
   ]
  },
  {
   "cell_type": "code",
   "execution_count": null,
   "id": "a912660b",
   "metadata": {},
   "outputs": [],
   "source": [
    "t = titles\n",
    "t[t['title'] == 'Maa']"
   ]
  },
  {
   "cell_type": "code",
   "execution_count": null,
   "id": "0f8e420b",
   "metadata": {},
   "outputs": [],
   "source": [
    "t[t['title'].str.startswith('Maa ')].head()"
   ]
  },
  {
   "cell_type": "markdown",
   "id": "7b3728fb",
   "metadata": {},
   "source": [
    "### Count Values\n",
    "Total number of occurrences can be counted using `value_counts()` option:"
   ]
  },
  {
   "cell_type": "code",
   "execution_count": null,
   "id": "7ec19eff",
   "metadata": {},
   "outputs": [],
   "source": [
    "a= t['year'].value_counts()"
   ]
  },
  {
   "cell_type": "code",
   "execution_count": null,
   "id": "f1629f1f",
   "metadata": {},
   "outputs": [],
   "source": [
    "a"
   ]
  },
  {
   "cell_type": "code",
   "execution_count": null,
   "id": "2f17aab9",
   "metadata": {},
   "outputs": [],
   "source": [
    "import matplotlib.pyplot as plt"
   ]
  },
  {
   "cell_type": "code",
   "execution_count": null,
   "id": "94ca5a41",
   "metadata": {},
   "outputs": [],
   "source": [
    "t = titles\n",
    "p = t['year'].value_counts()\n",
    "p.plot()\n",
    "plt.show()"
   ]
  },
  {
   "cell_type": "code",
   "execution_count": null,
   "id": "def6f1ca",
   "metadata": {},
   "outputs": [],
   "source": [
    "p.sort_index().plot()\n",
    "plt.show()"
   ]
  },
  {
   "cell_type": "code",
   "execution_count": 12,
   "id": "956f7d70",
   "metadata": {},
   "outputs": [
    {
     "data": {
      "text/plain": [
       "True"
      ]
     },
     "execution_count": 12,
     "metadata": {},
     "output_type": "execute_result"
    }
   ],
   "source": [
    "cast.index.is_integer"
   ]
  },
  {
   "cell_type": "code",
   "execution_count": 9,
   "id": "53ce3b85",
   "metadata": {},
   "outputs": [
    {
     "data": {
      "text/plain": [
       "dtype('int64')"
      ]
     },
     "execution_count": 9,
     "metadata": {},
     "output_type": "execute_result"
    }
   ],
   "source": [
    "cast.index.dtype"
   ]
  },
  {
   "cell_type": "code",
   "execution_count": null,
   "id": "cf1c05ed",
   "metadata": {},
   "outputs": [],
   "source": []
  },
  {
   "cell_type": "code",
   "execution_count": null,
   "id": "30181156",
   "metadata": {},
   "outputs": [],
   "source": []
  }
 ],
 "metadata": {
  "kernelspec": {
   "display_name": "Python 3 (ipykernel)",
   "language": "python",
   "name": "python3"
  },
  "language_info": {
   "codemirror_mode": {
    "name": "ipython",
    "version": 3
   },
   "file_extension": ".py",
   "mimetype": "text/x-python",
   "name": "python",
   "nbconvert_exporter": "python",
   "pygments_lexer": "ipython3",
   "version": "3.9.12"
  }
 },
 "nbformat": 4,
 "nbformat_minor": 5
}
