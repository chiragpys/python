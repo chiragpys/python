{
 "cells": [
  {
   "cell_type": "code",
   "execution_count": 27,
   "id": "abf64625",
   "metadata": {},
   "outputs": [],
   "source": [
    "import json\n",
    "class Staff:\n",
    "    \n",
    "    def __init__(self, name):\n",
    "        self.name = name\n",
    "        self.member = []\n",
    "        \n",
    "    def add_member(self, staff):\n",
    "        self.member.append(staff)\n",
    "        with open(\"Staff.json\", 'w') as file:\n",
    "            json.dump(self.member, file)\n",
    "    \n",
    "    def get_member(self):\n",
    "        return self.member\n"
   ]
  },
  {
   "cell_type": "code",
   "execution_count": null,
   "id": "dd5c5ab9",
   "metadata": {},
   "outputs": [],
   "source": [
    "mem = Staff('chirag')"
   ]
  },
  {
   "cell_type": "code",
   "execution_count": null,
   "id": "b992119f",
   "metadata": {},
   "outputs": [],
   "source": [
    "mem.add_member(\"chirag\")"
   ]
  },
  {
   "cell_type": "code",
   "execution_count": null,
   "id": "2b419b7d",
   "metadata": {},
   "outputs": [],
   "source": [
    "mem.add_member(\"python\")"
   ]
  },
  {
   "cell_type": "code",
   "execution_count": null,
   "id": "b19850c8",
   "metadata": {},
   "outputs": [],
   "source": [
    "mem.get_member()"
   ]
  },
  {
   "cell_type": "code",
   "execution_count": 28,
   "id": "e94d06f3",
   "metadata": {},
   "outputs": [],
   "source": [
    "import pandas as pd\n",
    "class Stock:\n",
    "    \n",
    "    def __init__(self):\n",
    "        self.stocks_details = []\n",
    "        \n",
    "    def add_stocks(self, product, price, quantity):\n",
    "        stocks_detail ={'product' : product, 'price' : price, 'quantity' : quantity}\n",
    "        self.stocks_details.append(stocks_detail)\n",
    "        \n",
    "    def get_stocks_details(self):\n",
    "        return self.stocks_details\n",
    "    \n",
    "    def add_bulk_stock(self, filepath):\n",
    "        try:\n",
    "            df = pd.read_excel(filepath)\n",
    "            for index, row in df.iterrows():\n",
    "                product = row['Product']\n",
    "                price = row['Price']\n",
    "                quantity = row['Quantity']\n",
    "                stock = self.add_stocks(product, price, quantity)\n",
    "            print(\"Bulk stock upload successful.\")\n",
    "        except Exception as e:\n",
    "            print(e)\n",
    "     "
   ]
  },
  {
   "cell_type": "code",
   "execution_count": 12,
   "id": "5f1cdf5e",
   "metadata": {},
   "outputs": [],
   "source": [
    "p = Stock()"
   ]
  },
  {
   "cell_type": "code",
   "execution_count": 13,
   "id": "c251854a",
   "metadata": {},
   "outputs": [],
   "source": [
    "p.add_stocks('milk', 31, 10)"
   ]
  },
  {
   "cell_type": "code",
   "execution_count": 14,
   "id": "a7c9589b",
   "metadata": {
    "scrolled": true
   },
   "outputs": [
    {
     "data": {
      "text/plain": [
       "[{'product': 'milk', 'price': 31, 'quantity': 10}]"
      ]
     },
     "execution_count": 14,
     "metadata": {},
     "output_type": "execute_result"
    }
   ],
   "source": [
    "p.get_stocks_details()"
   ]
  },
  {
   "cell_type": "code",
   "execution_count": 15,
   "id": "ed4eae01",
   "metadata": {},
   "outputs": [
    {
     "name": "stdout",
     "output_type": "stream",
     "text": [
      "Bulk stock upload successful.\n"
     ]
    }
   ],
   "source": [
    "path = r'C:\\Users\\chira\\Desktop\\Pysquad\\Pandas\\bulk_stock.xlsx'\n",
    "p.add_bulk_stock(path)live dashboard of remaining stockslive dashboard of remaining stocks"
   ]
  },
  {
   "cell_type": "code",
   "execution_count": 16,
   "id": "b9a4bc18",
   "metadata": {
    "scrolled": true
   },
   "outputs": [
    {
     "data": {
      "text/plain": [
       "[{'product': 'milk', 'price': 31, 'quantity': 10},\n",
       " {'product': 'milk ', 'price': 56, 'quantity': 110},\n",
       " {'product': 'cheese', 'price': 16, 'quantity': 100},\n",
       " {'product': 'ice-cream', 'price': 35, 'quantity': 70}]"
      ]
     },
     "execution_count": 16,
     "metadata": {},
     "output_type": "execute_result"
    }
   ],
   "source": [
    "p.get_stocks_details()"
   ]
  },
  {
   "cell_type": "code",
   "execution_count": 1,
   "id": "d8653bf6",
   "metadata": {},
   "outputs": [],
   "source": [
    "import pandas as pd \n",
    "class Order:\n",
    "    \n",
    "    def __init__(self):\n",
    "        self.order_details = []\n",
    "        \n",
    "    def add_single_order(self, product, selled_price, sold_quantity):\n",
    "        order_detail ={'product' : product, 'price' : selled_price, 'quantity' : sold_quantity}\n",
    "        self.order_details.append(order_detail)\n",
    "        \n",
    "    def add_bulk_order(self, filepath):\n",
    "        try:\n",
    "            df = pd.read_excel(filepath)\n",
    "            for index, row in df.iterrows():\n",
    "                product = row['Product']\n",
    "                price = row['Price']\n",
    "                quantity = row['Quantity']\n",
    "                order = self.add_single_order(product, price, quantity)\n",
    "            print(\"Bulk order upload successful.\")\n",
    "        except Exception as e:\n",
    "            print(e)\n",
    "\n",
    "    def get_orders_details(self):\n",
    "        return self.order_details"
   ]
  },
  {
   "cell_type": "code",
   "execution_count": 2,
   "id": "e83e14e2",
   "metadata": {},
   "outputs": [],
   "source": [
    "O = Order()"
   ]
  },
  {
   "cell_type": "code",
   "execution_count": 3,
   "id": "4666ca6f",
   "metadata": {},
   "outputs": [],
   "source": [
    "O.add_single_order('milk', 31, 10)"
   ]
  },
  {
   "cell_type": "code",
   "execution_count": 4,
   "id": "94571464",
   "metadata": {},
   "outputs": [
    {
     "name": "stdout",
     "output_type": "stream",
     "text": [
      "Bulk order upload successful.\n"
     ]
    }
   ],
   "source": [
    "path = r'C:\\Users\\chira\\Desktop\\Pysquad\\Pandas\\bulk_orders.xlsx'\n",
    "O.add_bulk_order(path)"
   ]
  },
  {
   "cell_type": "code",
   "execution_count": 5,
   "id": "59e9d1f6",
   "metadata": {
    "scrolled": true
   },
   "outputs": [
    {
     "data": {
      "text/plain": [
       "[{'product': 'milk', 'price': 31, 'quantity': 10},\n",
       " {'product': 'milk ', 'price': 56, 'quantity': 110},\n",
       " {'product': 'cheese', 'price': 16, 'quantity': 100},\n",
       " {'product': 'ice-cream', 'price': 35, 'quantity': 70}]"
      ]
     },
     "execution_count": 5,
     "metadata": {},
     "output_type": "execute_result"
    }
   ],
   "source": [
    "O.get_orders_details()"
   ]
  },
  {
   "cell_type": "code",
   "execution_count": 27,
   "id": "e1eb15c4",
   "metadata": {},
   "outputs": [],
   "source": [
    "df = pd.DataFrame(O.order_details)\n",
    "df.to_excel('abc.xlsx')"
   ]
  },
  {
   "cell_type": "code",
   "execution_count": 25,
   "id": "461e16e0",
   "metadata": {},
   "outputs": [],
   "source": [
    "for i , j in enumerate(O.get_orders_details()):\n",
    "    df = pd.DataFrame([[j['product'], j['price'], j['quantity']]], index=[i])\n",
    "#     print(j['product'], j['price'], j['quantity'])\n"
   ]
  },
  {
   "cell_type": "code",
   "execution_count": 79,
   "id": "d38187df",
   "metadata": {},
   "outputs": [],
   "source": [
    "class Shop(Order):\n",
    "    pass\n"
   ]
  },
  {
   "cell_type": "code",
   "execution_count": 80,
   "id": "499868ae",
   "metadata": {},
   "outputs": [],
   "source": [
    "s = Shop()"
   ]
  },
  {
   "cell_type": "code",
   "execution_count": 81,
   "id": "0f0efe42",
   "metadata": {},
   "outputs": [
    {
     "data": {
      "text/plain": [
       "[]"
      ]
     },
     "execution_count": 81,
     "metadata": {},
     "output_type": "execute_result"
    }
   ],
   "source": [
    "s.get_orders_details()"
   ]
  },
  {
   "cell_type": "code",
   "execution_count": 82,
   "id": "8598b7cc",
   "metadata": {},
   "outputs": [],
   "source": [
    "s.add_single_order('milk', 11, 111)"
   ]
  },
  {
   "cell_type": "code",
   "execution_count": 83,
   "id": "d98f5370",
   "metadata": {},
   "outputs": [
    {
     "data": {
      "text/plain": [
       "[{'product': 'milk', 'price': 11, 'quantity': 111}]"
      ]
     },
     "execution_count": 83,
     "metadata": {},
     "output_type": "execute_result"
    }
   ],
   "source": [
    "s.get_orders_details()"
   ]
  },
  {
   "cell_type": "code",
   "execution_count": null,
   "id": "184ddab6",
   "metadata": {},
   "outputs": [],
   "source": []
  },
  {
   "cell_type": "code",
   "execution_count": null,
   "id": "f17dd5f6",
   "metadata": {},
   "outputs": [],
   "source": [
    "while True:\n",
    "    print(\"*-----* Shop Management *-----* \")\n",
    "    print(\"1. Add new staff member \")\n",
    "    print(\"2. Show owner add stocks details \")\n",
    "    print(\"3. Order table \")\n",
    "    print(\"4. Exit\")\n",
    "\n",
    "    choice = input(\"Enter a number: \")\n",
    "\n",
    "    if choice == '1':\n",
    "        name = input(\"Enter a name you have to add: \")\n",
    "        shop.add_member(name)\n",
    "        print(\"Add staff member successful\")\n",
    "\n",
    "    elif choice == '2':\n",
    "        print(\"A. Single stock upload\")\n",
    "        print(\"B. bulk stock upload through (excel file)\")\n",
    "\n",
    "        sub_choice = input(\"Enter a your option (A-B): \")\n",
    "        if sub_choice == \"A\":\n",
    "            product = input(\"Enter Product name: \")\n",
    "            price = float(input(\"Enter price: \"))\n",
    "            quantity = int(input(\"Enter quantity: \"))\n",
    "            shop.add_stocks(product, price, quantity)\n",
    "\n",
    "        elif sub_choice == \"B\":\n",
    "            path = input(\"Enter excel file path: \")\n",
    "            shop.add_bulk_stock(path)\n",
    "        else:\n",
    "            print(\"Invalid choice. Please try again\")\n",
    "\n",
    "    elif choice == \"3\":\n",
    "        print(\"A. Shop owner add multiple order details(excel file)\")\n",
    "        print(\"B. Shop staff add single order detail\")\n",
    "\n",
    "        sub_choice = input(\"Enter a your option (A-B): \")\n",
    "\n",
    "        if sub_choice == \"A\":\n",
    "            path = input(\"Enter excel file path: \")\n",
    "            shop.add_bulk_order(path)\n",
    "\n",
    "        elif sub_choice == \"B\":\n",
    "            product = input(\"Enter Product name: \")\n",
    "            price = float(input(\"Enter price: \"))\n",
    "            quantity = int(input(\"Enter quantity: \"))\n",
    "            shop.add_single_order(product, price, quantity)\n",
    "        else:\n",
    "            print(\"Invalid choice. Please try again\")\n",
    "\n",
    "    elif choice == \"4\":\n",
    "        break"
   ]
  },
  {
   "cell_type": "code",
   "execution_count": 36,
   "id": "1b830ac3",
   "metadata": {},
   "outputs": [
    {
     "name": "stdout",
     "output_type": "stream",
     "text": [
      "23-05-2023\n"
     ]
    }
   ],
   "source": [
    "from datetime import date\n",
    "\n",
    "today = date.today().strftime(\"%d-%m-%Y\")\n",
    "print(today)"
   ]
  },
  {
   "cell_type": "code",
   "execution_count": 41,
   "id": "2ae8da1f",
   "metadata": {},
   "outputs": [
    {
     "name": "stdout",
     "output_type": "stream",
     "text": [
      "2023-05-23\n"
     ]
    }
   ],
   "source": [
    "today = date.today()\n"
   ]
  },
  {
   "cell_type": "code",
   "execution_count": null,
   "id": "af09c1dd",
   "metadata": {},
   "outputs": [],
   "source": [
    "o = 'C:\\Users\\chira\\Desktop\\Pysquad\\Task\\bulk_orders.xlsx'\n",
    "s = 'C:\\Users\\chira\\Desktop\\Pysquad\\Task\\bulk_stock.xlsx'"
   ]
  },
  {
   "cell_type": "code",
   "execution_count": null,
   "id": "8b4a98a9",
   "metadata": {},
   "outputs": [],
   "source": [
    "    def generate_sales_report(self):\n",
    "        today = date.today().strftime(\"%d-%m-%Y\")\n",
    "        total_profit = 0\n",
    "        remaining_stock = []\n",
    "\n",
    "        for order in self.order_details:\n",
    "            for stock in self.stocks_details:\n",
    "                if order['product'] == stock['product']:\n",
    "                    profit = (order['price'] - stock['price']) * order['quantity']\n",
    "                    total_profit += profit\n",
    "                    stock['quantity'] -= order['quantity']\n",
    "                    break\n",
    "\n",
    "        for stock in self.stocks_details:\n",
    "            if stock['quantity'] > 0:\n",
    "                remaining_stock.append(stock)\n",
    "\n",
    "        report = {\n",
    "            'date': today,\n",
    "            'total_profit': total_profit,\n",
    "            'remaining_stocks': remaining_stock\n",
    "        }\n",
    "\n",
    "        with open('daily_sales_report.json', 'w') as f:\n",
    "            json.dump(report, f, indent=4)\n",
    "        print(\"Report generate successful \")"
   ]
  },
  {
   "cell_type": "code",
   "execution_count": null,
   "id": "d89d6ed1",
   "metadata": {},
   "outputs": [],
   "source": [
    "    def add_partner(self):\n",
    "        partner_id = int(input(\"Enter id: \"))\n",
    "        name = input(\"Enter partner name: \")\n",
    "        for i in self.user_data['partner']:\n",
    "            if i['partner_id'] == partner_id:\n",
    "                print(\"This partner id already registered.,\")\n",
    "                break\n",
    "        else:\n",
    "            owner_id = 0\n",
    "            is_owner_id = 0\n",
    "            for i in self.user_data['user']:\n",
    "                if i['username'] == self.current_user:\n",
    "                    owner_id = i['id']\n",
    "\n",
    "                if i['username'] == name:\n",
    "                    is_owner_id = i['id']\n",
    "\n",
    "            if name == self.current_user:\n",
    "                print(\"Owner is NOT as partner..!\")\n",
    "            else:\n",
    "                partner_name = {\n",
    "                    'partner_id': partner_id,\n",
    "                    'partner_name': name,\n",
    "                    'owner_id': owner_id,\n",
    "                    'is_owner_id': is_owner_id,\n",
    "                }\n",
    "                self.user_data['partner'].append(partner_name)\n",
    "                self.save_data()\n",
    "                print(f\"Paartner {name} add successful\")"
   ]
  },
  {
   "cell_type": "code",
   "execution_count": null,
   "id": "7868adac",
   "metadata": {},
   "outputs": [],
   "source": [
    "    def add_shop_with_partner(self):\n",
    "        shop_id = int(input(\"Enter shop id: \"))\n",
    "        shop_name = input(\"Enter Shop name: \")\n",
    "        p_id = int(input(\"Enter partner id: \"))\n",
    "        for i in self.user_data['shop_name']:\n",
    "            if i['shop_id'] == shop_id:\n",
    "                print(\"This shop id already registered.,\")\n",
    "                break\n",
    "        else:\n",
    "            for i in self.user_data['user']:\n",
    "                for j in self.user_data['partner']:\n",
    "                    if i['username'] == self.current_user:\n",
    "                        if i['id'] == j['owner_id']:\n",
    "                            if j['partner_id'] == p_id:\n",
    "                                partner_id = j['partner_id']\n",
    "                                shop = {\n",
    "                                    'shop_id': shop_id,\n",
    "                                    'shop_name': shop_name,\n",
    "                                    'partner_id': partner_id,\n",
    "                                }\n",
    "                                self.user_data['shop_name'].append(shop)\n",
    "                                self.save_data()\n",
    "                                print(f\"Shop {shop_name} add successful..\")\n",
    "                                break\n",
    "                    #         else:\n",
    "                    #             print(\"partner id NOT match..\")\n",
    "                    #     else:\n",
    "                    #         print(\"Owner Id NOT match\")\n",
    "                    # else:\n",
    "                    #     print(\"User NOT match\")"
   ]
  },
  {
   "cell_type": "code",
   "execution_count": null,
   "id": "92844364",
   "metadata": {},
   "outputs": [],
   "source": []
  },
  {
   "cell_type": "code",
   "execution_count": null,
   "id": "8832c1b2",
   "metadata": {},
   "outputs": [],
   "source": []
  }
 ],
 "metadata": {
  "kernelspec": {
   "display_name": "Python 3 (ipykernel)",
   "language": "python",
   "name": "python3"
  },
  "language_info": {
   "codemirror_mode": {
    "name": "ipython",
    "version": 3
   },
   "file_extension": ".py",
   "mimetype": "text/x-python",
   "name": "python",
   "nbconvert_exporter": "python",
   "pygments_lexer": "ipython3",
   "version": "3.9.12"
  }
 },
 "nbformat": 4,
 "nbformat_minor": 5
}
