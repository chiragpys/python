{
 "cells": [
  {
   "cell_type": "markdown",
   "id": "483c877e",
   "metadata": {},
   "source": [
    "### Introduction\n",
    "Data processing is important part of analyzing the data, because data is not always available in desired format.\n",
    "Various processing are required before analyzing the data such as cleaning, restructuring or merging etc. Numpy,\n",
    "Scipy, Cython and Panda are the tools available in python which can be used fast processing of the data. Further,\n",
    "Pandas are built on the top of Numpy."
   ]
  },
  {
   "cell_type": "markdown",
   "id": "83c245e4",
   "metadata": {},
   "source": [
    "### Data structures\n",
    "Pandas provides `two` very useful data structures to process the data i.e. `Series and DataFrame`."
   ]
  },
  {
   "cell_type": "markdown",
   "id": "7ba08e9b",
   "metadata": {},
   "source": [
    "### Series\n",
    "The Series is a `one-dimensional array` that can store various data types, including mix data types. The row labels\n",
    "in a Series are called the index. Any list, tuple and dictionary can be converted in to Series using ‘series’ method\n",
    "as shown below,"
   ]
  },
  {
   "cell_type": "code",
   "execution_count": null,
   "id": "d3bdeb10",
   "metadata": {},
   "outputs": [],
   "source": [
    "import pandas as pd"
   ]
  },
  {
   "cell_type": "code",
   "execution_count": 14,
   "id": "27d9f71e",
   "metadata": {},
   "outputs": [
    {
     "name": "stdout",
     "output_type": "stream",
     "text": [
      "3.9.12\n",
      "1.4.2\n"
     ]
    }
   ],
   "source": [
    "import platform\n",
    "print(platform.python_version())\n",
    "print(pd.__version__)"
   ]
  },
  {
   "cell_type": "code",
   "execution_count": null,
   "id": "7f300692",
   "metadata": {},
   "outputs": [],
   "source": [
    "import pandas as pd\n",
    "\n",
    "h = ('Python', 3.10, '06-12-2000')\n",
    "s = pd.Series(h, name='data')\n",
    "print(s)\n",
    "print(type(s))"
   ]
  },
  {
   "cell_type": "code",
   "execution_count": null,
   "id": "02a87fdf",
   "metadata": {},
   "outputs": [],
   "source": [
    "s = pd.Series([2,-1,3,5], name='columns_name')\n",
    "print(s)"
   ]
  },
  {
   "cell_type": "code",
   "execution_count": null,
   "id": "21da1ea0",
   "metadata": {},
   "outputs": [],
   "source": [
    "dic1 = {'name' : 'IBM', 'date' : '2010-09-08', 'shares' : 100, 'price' : 15000}\n",
    "ds = pd.Series(dic1)\n",
    "print(ds)"
   ]
  },
  {
   "cell_type": "code",
   "execution_count": null,
   "id": "4576bad0",
   "metadata": {},
   "outputs": [],
   "source": [
    "t = (\"python\", 3.10, 1991,)\n",
    "td = pd.Series(t, index=['name', 'version', 'year'])\n",
    "print(td)\n",
    "print(type(td))"
   ]
  },
  {
   "cell_type": "code",
   "execution_count": null,
   "id": "3766504a",
   "metadata": {},
   "outputs": [],
   "source": [
    "td['year']\n",
    "# td[0]"
   ]
  },
  {
   "cell_type": "code",
   "execution_count": null,
   "id": "fe16ed49",
   "metadata": {},
   "outputs": [],
   "source": [
    "td[['name', 'version']]\n"
   ]
  },
  {
   "cell_type": "code",
   "execution_count": null,
   "id": "9b75d49d",
   "metadata": {},
   "outputs": [],
   "source": [
    "s = pd.Series([2,-2,4,8], name='data')\n",
    "s"
   ]
  },
  {
   "cell_type": "code",
   "execution_count": null,
   "id": "a0efe3d2",
   "metadata": {},
   "outputs": [],
   "source": [
    "s + [1000,2000,3000,4000]"
   ]
  },
  {
   "cell_type": "code",
   "execution_count": null,
   "id": "abf044e1",
   "metadata": {},
   "outputs": [],
   "source": [
    "s + 2000"
   ]
  },
  {
   "cell_type": "code",
   "execution_count": null,
   "id": "8da8db07",
   "metadata": {
    "scrolled": true
   },
   "outputs": [],
   "source": [
    "s < 0"
   ]
  },
  {
   "cell_type": "code",
   "execution_count": null,
   "id": "7218ae73",
   "metadata": {},
   "outputs": [],
   "source": [
    "s"
   ]
  },
  {
   "cell_type": "markdown",
   "id": "398fd6b6",
   "metadata": {},
   "source": [
    "### Index labels\n",
    "Each item in a Series object has a unique identifier called the index label. By default, it is simply the rank of the item in the Series (starting at 0) but you can also set the index labels manually:"
   ]
  },
  {
   "cell_type": "code",
   "execution_count": null,
   "id": "9dcc009e",
   "metadata": {},
   "outputs": [],
   "source": [
    "s2 = pd.Series([68, 83, 112, 68], index=[\"alice\", \"bob\", \"charles\", \"darwin\"])\n",
    "print(s2)"
   ]
  },
  {
   "cell_type": "markdown",
   "id": "14a3d2fd",
   "metadata": {},
   "source": [
    "You can then use the `Series` just like a `dict`:"
   ]
  },
  {
   "cell_type": "code",
   "execution_count": null,
   "id": "de4bb833",
   "metadata": {},
   "outputs": [],
   "source": [
    "s2['bob']"
   ]
  },
  {
   "cell_type": "markdown",
   "id": "471f58b7",
   "metadata": {},
   "source": [
    "You can still access the items by integer location, like in a regular array:"
   ]
  },
  {
   "cell_type": "code",
   "execution_count": null,
   "id": "5367789f",
   "metadata": {},
   "outputs": [],
   "source": [
    "s2[1]"
   ]
  },
  {
   "cell_type": "markdown",
   "id": "d17402b9",
   "metadata": {},
   "source": [
    "To make it clear when you are accessing by label or by integer location, it is recommended to always use the `loc` attribute when accessing by label, and the `iloc` attribute when accessing by integer location:"
   ]
  },
  {
   "cell_type": "code",
   "execution_count": null,
   "id": "b4c701d0",
   "metadata": {},
   "outputs": [],
   "source": [
    "s2.loc['alice']"
   ]
  },
  {
   "cell_type": "code",
   "execution_count": null,
   "id": "2fe1b8a8",
   "metadata": {
    "scrolled": true
   },
   "outputs": [],
   "source": [
    "s2.iloc[1]"
   ]
  },
  {
   "cell_type": "markdown",
   "id": "eb715443",
   "metadata": {},
   "source": [
    "Slicing a `Series` also slices the index labels:"
   ]
  },
  {
   "cell_type": "code",
   "execution_count": null,
   "id": "863dd4e2",
   "metadata": {},
   "outputs": [],
   "source": [
    "s2.iloc[1:3]"
   ]
  },
  {
   "cell_type": "code",
   "execution_count": 13,
   "id": "298cdefc",
   "metadata": {},
   "outputs": [
    {
     "data": {
      "text/plain": [
       "0    4\n",
       "1    4\n",
       "2    4\n",
       "dtype: int64"
      ]
     },
     "execution_count": 13,
     "metadata": {},
     "output_type": "execute_result"
    }
   ],
   "source": [
    "s4 = pd.Series([1, 2, 3], index=[0, 1, 2])\n",
    "s5 = pd.Series([1, 2, 3], index=[2, 1, 0])\n",
    "s6 = s4 + s5\n",
    "s6"
   ]
  },
  {
   "cell_type": "markdown",
   "id": "13342e29",
   "metadata": {},
   "source": [
    "### Series name\n",
    "A `Series` can have a `name`:"
   ]
  },
  {
   "cell_type": "code",
   "execution_count": null,
   "id": "48778188",
   "metadata": {},
   "outputs": [],
   "source": [
    "s6 = pd.Series([83, 68, 55], index=[\"bob\", \"alice\", 'bil'], name=\"weights\")\n",
    "s6"
   ]
  },
  {
   "cell_type": "markdown",
   "id": "e3ea123d",
   "metadata": {},
   "source": [
    "### 1.2.2 DataFrame\n",
    "**`DataFrame` is the widely used data `structure of pandas`. Note that, `Series` are used to work with `one dimensional\n",
    "array`, whereas `DataFrame` can be used with `two dimensional arrays`. DataFrame has two different index i.e.\n",
    "column-index and row-index.**"
   ]
  },
  {
   "cell_type": "code",
   "execution_count": 1,
   "id": "7fb288ad",
   "metadata": {},
   "outputs": [
    {
     "name": "stdout",
     "output_type": "stream",
     "text": [
      "<class 'pandas.core.frame.DataFrame'>\n"
     ]
    }
   ],
   "source": [
    "import pandas as pd\n",
    "data = { 'name' : ['Python', 'Django', 'Pandas'],\n",
    "'year' : ['1991', '1995', '2000'],\n",
    "'shares' : [100, 300, 900],\n",
    "'price' : [120.3, 1000.3, 3200.2]\n",
    "}\n",
    "\n",
    "df = pd.DataFrame(data)\n",
    "print(type(df))"
   ]
  },
  {
   "cell_type": "code",
   "execution_count": 2,
   "id": "b68c9cea",
   "metadata": {},
   "outputs": [
    {
     "data": {
      "text/html": [
       "<div>\n",
       "<style scoped>\n",
       "    .dataframe tbody tr th:only-of-type {\n",
       "        vertical-align: middle;\n",
       "    }\n",
       "\n",
       "    .dataframe tbody tr th {\n",
       "        vertical-align: top;\n",
       "    }\n",
       "\n",
       "    .dataframe thead th {\n",
       "        text-align: right;\n",
       "    }\n",
       "</style>\n",
       "<table border=\"1\" class=\"dataframe\">\n",
       "  <thead>\n",
       "    <tr style=\"text-align: right;\">\n",
       "      <th></th>\n",
       "      <th>name</th>\n",
       "      <th>year</th>\n",
       "      <th>shares</th>\n",
       "      <th>price</th>\n",
       "    </tr>\n",
       "  </thead>\n",
       "  <tbody>\n",
       "    <tr>\n",
       "      <th>0</th>\n",
       "      <td>Python</td>\n",
       "      <td>1991</td>\n",
       "      <td>100</td>\n",
       "      <td>120.3</td>\n",
       "    </tr>\n",
       "    <tr>\n",
       "      <th>1</th>\n",
       "      <td>Django</td>\n",
       "      <td>1995</td>\n",
       "      <td>300</td>\n",
       "      <td>1000.3</td>\n",
       "    </tr>\n",
       "    <tr>\n",
       "      <th>2</th>\n",
       "      <td>Pandas</td>\n",
       "      <td>2000</td>\n",
       "      <td>900</td>\n",
       "      <td>3200.2</td>\n",
       "    </tr>\n",
       "  </tbody>\n",
       "</table>\n",
       "</div>"
      ],
      "text/plain": [
       "     name  year  shares   price\n",
       "0  Python  1991     100   120.3\n",
       "1  Django  1995     300  1000.3\n",
       "2  Pandas  2000     900  3200.2"
      ]
     },
     "execution_count": 2,
     "metadata": {},
     "output_type": "execute_result"
    }
   ],
   "source": [
    "df"
   ]
  },
  {
   "cell_type": "code",
   "execution_count": 3,
   "id": "e0fef3c3",
   "metadata": {},
   "outputs": [
    {
     "data": {
      "text/html": [
       "<div>\n",
       "<style scoped>\n",
       "    .dataframe tbody tr th:only-of-type {\n",
       "        vertical-align: middle;\n",
       "    }\n",
       "\n",
       "    .dataframe tbody tr th {\n",
       "        vertical-align: top;\n",
       "    }\n",
       "\n",
       "    .dataframe thead th {\n",
       "        text-align: right;\n",
       "    }\n",
       "</style>\n",
       "<table border=\"1\" class=\"dataframe\">\n",
       "  <thead>\n",
       "    <tr style=\"text-align: right;\">\n",
       "      <th></th>\n",
       "      <th>name</th>\n",
       "      <th>year</th>\n",
       "    </tr>\n",
       "  </thead>\n",
       "  <tbody>\n",
       "    <tr>\n",
       "      <th>0</th>\n",
       "      <td>Python</td>\n",
       "      <td>1991</td>\n",
       "    </tr>\n",
       "    <tr>\n",
       "      <th>1</th>\n",
       "      <td>Django</td>\n",
       "      <td>1995</td>\n",
       "    </tr>\n",
       "    <tr>\n",
       "      <th>2</th>\n",
       "      <td>Pandas</td>\n",
       "      <td>2000</td>\n",
       "    </tr>\n",
       "  </tbody>\n",
       "</table>\n",
       "</div>"
      ],
      "text/plain": [
       "     name  year\n",
       "0  Python  1991\n",
       "1  Django  1995\n",
       "2  Pandas  2000"
      ]
     },
     "execution_count": 3,
     "metadata": {},
     "output_type": "execute_result"
    }
   ],
   "source": [
    "df[['name', 'year']]"
   ]
  },
  {
   "cell_type": "markdown",
   "id": "e08df4e7",
   "metadata": {},
   "source": [
    "**`Additional columns` can be added after defining a `DataFrame`**"
   ]
  },
  {
   "cell_type": "code",
   "execution_count": 4,
   "id": "b9a49f07",
   "metadata": {},
   "outputs": [],
   "source": [
    "df['owner'] = 'Unknown'"
   ]
  },
  {
   "cell_type": "code",
   "execution_count": 5,
   "id": "5e0b71e9",
   "metadata": {},
   "outputs": [
    {
     "data": {
      "text/html": [
       "<div>\n",
       "<style scoped>\n",
       "    .dataframe tbody tr th:only-of-type {\n",
       "        vertical-align: middle;\n",
       "    }\n",
       "\n",
       "    .dataframe tbody tr th {\n",
       "        vertical-align: top;\n",
       "    }\n",
       "\n",
       "    .dataframe thead th {\n",
       "        text-align: right;\n",
       "    }\n",
       "</style>\n",
       "<table border=\"1\" class=\"dataframe\">\n",
       "  <thead>\n",
       "    <tr style=\"text-align: right;\">\n",
       "      <th></th>\n",
       "      <th>name</th>\n",
       "      <th>year</th>\n",
       "      <th>shares</th>\n",
       "      <th>price</th>\n",
       "      <th>owner</th>\n",
       "    </tr>\n",
       "  </thead>\n",
       "  <tbody>\n",
       "    <tr>\n",
       "      <th>0</th>\n",
       "      <td>Python</td>\n",
       "      <td>1991</td>\n",
       "      <td>100</td>\n",
       "      <td>120.3</td>\n",
       "      <td>Unknown</td>\n",
       "    </tr>\n",
       "    <tr>\n",
       "      <th>1</th>\n",
       "      <td>Django</td>\n",
       "      <td>1995</td>\n",
       "      <td>300</td>\n",
       "      <td>1000.3</td>\n",
       "      <td>Unknown</td>\n",
       "    </tr>\n",
       "    <tr>\n",
       "      <th>2</th>\n",
       "      <td>Pandas</td>\n",
       "      <td>2000</td>\n",
       "      <td>900</td>\n",
       "      <td>3200.2</td>\n",
       "      <td>Unknown</td>\n",
       "    </tr>\n",
       "  </tbody>\n",
       "</table>\n",
       "</div>"
      ],
      "text/plain": [
       "     name  year  shares   price    owner\n",
       "0  Python  1991     100   120.3  Unknown\n",
       "1  Django  1995     300  1000.3  Unknown\n",
       "2  Pandas  2000     900  3200.2  Unknown"
      ]
     },
     "execution_count": 5,
     "metadata": {},
     "output_type": "execute_result"
    }
   ],
   "source": [
    "df"
   ]
  },
  {
   "cell_type": "markdown",
   "id": "0f877050",
   "metadata": {},
   "source": [
    "Currently, the `row index` are set to 0, 1 and 2. These can be changed using `‘index’` attribute"
   ]
  },
  {
   "cell_type": "code",
   "execution_count": 6,
   "id": "897d3575",
   "metadata": {},
   "outputs": [
    {
     "data": {
      "text/html": [
       "<div>\n",
       "<style scoped>\n",
       "    .dataframe tbody tr th:only-of-type {\n",
       "        vertical-align: middle;\n",
       "    }\n",
       "\n",
       "    .dataframe tbody tr th {\n",
       "        vertical-align: top;\n",
       "    }\n",
       "\n",
       "    .dataframe thead th {\n",
       "        text-align: right;\n",
       "    }\n",
       "</style>\n",
       "<table border=\"1\" class=\"dataframe\">\n",
       "  <thead>\n",
       "    <tr style=\"text-align: right;\">\n",
       "      <th></th>\n",
       "      <th>name</th>\n",
       "      <th>year</th>\n",
       "      <th>shares</th>\n",
       "      <th>price</th>\n",
       "      <th>owner</th>\n",
       "    </tr>\n",
       "  </thead>\n",
       "  <tbody>\n",
       "    <tr>\n",
       "      <th>one</th>\n",
       "      <td>Python</td>\n",
       "      <td>1991</td>\n",
       "      <td>100</td>\n",
       "      <td>120.3</td>\n",
       "      <td>Unknown</td>\n",
       "    </tr>\n",
       "    <tr>\n",
       "      <th>two</th>\n",
       "      <td>Django</td>\n",
       "      <td>1995</td>\n",
       "      <td>300</td>\n",
       "      <td>1000.3</td>\n",
       "      <td>Unknown</td>\n",
       "    </tr>\n",
       "    <tr>\n",
       "      <th>three</th>\n",
       "      <td>Pandas</td>\n",
       "      <td>2000</td>\n",
       "      <td>900</td>\n",
       "      <td>3200.2</td>\n",
       "      <td>Unknown</td>\n",
       "    </tr>\n",
       "  </tbody>\n",
       "</table>\n",
       "</div>"
      ],
      "text/plain": [
       "         name  year  shares   price    owner\n",
       "one    Python  1991     100   120.3  Unknown\n",
       "two    Django  1995     300  1000.3  Unknown\n",
       "three  Pandas  2000     900  3200.2  Unknown"
      ]
     },
     "execution_count": 6,
     "metadata": {},
     "output_type": "execute_result"
    }
   ],
   "source": [
    "df.index = ['one', 'two', 'three']\n",
    "df"
   ]
  },
  {
   "cell_type": "markdown",
   "id": "22ed5bb4",
   "metadata": {},
   "source": [
    "`any column` of the `DataFrame` can be set as `index` using `‘set_index()’ attribute`:"
   ]
  },
  {
   "cell_type": "code",
   "execution_count": 7,
   "id": "7f2212d0",
   "metadata": {},
   "outputs": [],
   "source": [
    "df = df.set_index(['name'])"
   ]
  },
  {
   "cell_type": "code",
   "execution_count": 8,
   "id": "74474d3e",
   "metadata": {},
   "outputs": [
    {
     "data": {
      "text/html": [
       "<div>\n",
       "<style scoped>\n",
       "    .dataframe tbody tr th:only-of-type {\n",
       "        vertical-align: middle;\n",
       "    }\n",
       "\n",
       "    .dataframe tbody tr th {\n",
       "        vertical-align: top;\n",
       "    }\n",
       "\n",
       "    .dataframe thead th {\n",
       "        text-align: right;\n",
       "    }\n",
       "</style>\n",
       "<table border=\"1\" class=\"dataframe\">\n",
       "  <thead>\n",
       "    <tr style=\"text-align: right;\">\n",
       "      <th></th>\n",
       "      <th>year</th>\n",
       "      <th>shares</th>\n",
       "      <th>price</th>\n",
       "      <th>owner</th>\n",
       "    </tr>\n",
       "    <tr>\n",
       "      <th>name</th>\n",
       "      <th></th>\n",
       "      <th></th>\n",
       "      <th></th>\n",
       "      <th></th>\n",
       "    </tr>\n",
       "  </thead>\n",
       "  <tbody>\n",
       "    <tr>\n",
       "      <th>Python</th>\n",
       "      <td>1991</td>\n",
       "      <td>100</td>\n",
       "      <td>120.3</td>\n",
       "      <td>Unknown</td>\n",
       "    </tr>\n",
       "    <tr>\n",
       "      <th>Django</th>\n",
       "      <td>1995</td>\n",
       "      <td>300</td>\n",
       "      <td>1000.3</td>\n",
       "      <td>Unknown</td>\n",
       "    </tr>\n",
       "    <tr>\n",
       "      <th>Pandas</th>\n",
       "      <td>2000</td>\n",
       "      <td>900</td>\n",
       "      <td>3200.2</td>\n",
       "      <td>Unknown</td>\n",
       "    </tr>\n",
       "  </tbody>\n",
       "</table>\n",
       "</div>"
      ],
      "text/plain": [
       "        year  shares   price    owner\n",
       "name                                 \n",
       "Python  1991     100   120.3  Unknown\n",
       "Django  1995     300  1000.3  Unknown\n",
       "Pandas  2000     900  3200.2  Unknown"
      ]
     },
     "execution_count": 8,
     "metadata": {},
     "output_type": "execute_result"
    }
   ],
   "source": [
    "df"
   ]
  },
  {
   "cell_type": "markdown",
   "id": "d2f0589f",
   "metadata": {},
   "source": [
    "Data can be accessed in two ways i.e. using `row` and `column` index:"
   ]
  },
  {
   "cell_type": "code",
   "execution_count": 9,
   "id": "98282c87",
   "metadata": {},
   "outputs": [
    {
     "data": {
      "text/plain": [
       "name\n",
       "Python    1991\n",
       "Django    1995\n",
       "Pandas    2000\n",
       "Name: year, dtype: object"
      ]
     },
     "execution_count": 9,
     "metadata": {},
     "output_type": "execute_result"
    }
   ],
   "source": [
    "# access data using column-index\n",
    "df['year']"
   ]
  },
  {
   "cell_type": "code",
   "execution_count": null,
   "id": "25388f7b",
   "metadata": {},
   "outputs": [],
   "source": [
    "# access data by row-index\n"
   ]
  },
  {
   "cell_type": "markdown",
   "id": "892385f1",
   "metadata": {},
   "source": [
    "Any column can be deleted using `‘del’` or `‘drop’` commands:"
   ]
  },
  {
   "cell_type": "code",
   "execution_count": 10,
   "id": "90908e6c",
   "metadata": {},
   "outputs": [
    {
     "data": {
      "text/html": [
       "<div>\n",
       "<style scoped>\n",
       "    .dataframe tbody tr th:only-of-type {\n",
       "        vertical-align: middle;\n",
       "    }\n",
       "\n",
       "    .dataframe tbody tr th {\n",
       "        vertical-align: top;\n",
       "    }\n",
       "\n",
       "    .dataframe thead th {\n",
       "        text-align: right;\n",
       "    }\n",
       "</style>\n",
       "<table border=\"1\" class=\"dataframe\">\n",
       "  <thead>\n",
       "    <tr style=\"text-align: right;\">\n",
       "      <th></th>\n",
       "      <th>year</th>\n",
       "      <th>shares</th>\n",
       "      <th>price</th>\n",
       "    </tr>\n",
       "    <tr>\n",
       "      <th>name</th>\n",
       "      <th></th>\n",
       "      <th></th>\n",
       "      <th></th>\n",
       "    </tr>\n",
       "  </thead>\n",
       "  <tbody>\n",
       "    <tr>\n",
       "      <th>Python</th>\n",
       "      <td>1991</td>\n",
       "      <td>100</td>\n",
       "      <td>120.3</td>\n",
       "    </tr>\n",
       "    <tr>\n",
       "      <th>Django</th>\n",
       "      <td>1995</td>\n",
       "      <td>300</td>\n",
       "      <td>1000.3</td>\n",
       "    </tr>\n",
       "    <tr>\n",
       "      <th>Pandas</th>\n",
       "      <td>2000</td>\n",
       "      <td>900</td>\n",
       "      <td>3200.2</td>\n",
       "    </tr>\n",
       "  </tbody>\n",
       "</table>\n",
       "</div>"
      ],
      "text/plain": [
       "        year  shares   price\n",
       "name                        \n",
       "Python  1991     100   120.3\n",
       "Django  1995     300  1000.3\n",
       "Pandas  2000     900  3200.2"
      ]
     },
     "execution_count": 10,
     "metadata": {},
     "output_type": "execute_result"
    }
   ],
   "source": [
    "del df['owner']\n",
    "df"
   ]
  },
  {
   "cell_type": "code",
   "execution_count": 11,
   "id": "fe4ec453",
   "metadata": {},
   "outputs": [
    {
     "data": {
      "text/html": [
       "<div>\n",
       "<style scoped>\n",
       "    .dataframe tbody tr th:only-of-type {\n",
       "        vertical-align: middle;\n",
       "    }\n",
       "\n",
       "    .dataframe tbody tr th {\n",
       "        vertical-align: top;\n",
       "    }\n",
       "\n",
       "    .dataframe thead th {\n",
       "        text-align: right;\n",
       "    }\n",
       "</style>\n",
       "<table border=\"1\" class=\"dataframe\">\n",
       "  <thead>\n",
       "    <tr style=\"text-align: right;\">\n",
       "      <th></th>\n",
       "      <th>year</th>\n",
       "      <th>shares</th>\n",
       "    </tr>\n",
       "    <tr>\n",
       "      <th>name</th>\n",
       "      <th></th>\n",
       "      <th></th>\n",
       "    </tr>\n",
       "  </thead>\n",
       "  <tbody>\n",
       "    <tr>\n",
       "      <th>Python</th>\n",
       "      <td>1991</td>\n",
       "      <td>100</td>\n",
       "    </tr>\n",
       "    <tr>\n",
       "      <th>Django</th>\n",
       "      <td>1995</td>\n",
       "      <td>300</td>\n",
       "    </tr>\n",
       "    <tr>\n",
       "      <th>Pandas</th>\n",
       "      <td>2000</td>\n",
       "      <td>900</td>\n",
       "    </tr>\n",
       "  </tbody>\n",
       "</table>\n",
       "</div>"
      ],
      "text/plain": [
       "        year  shares\n",
       "name                \n",
       "Python  1991     100\n",
       "Django  1995     300\n",
       "Pandas  2000     900"
      ]
     },
     "execution_count": 11,
     "metadata": {},
     "output_type": "execute_result"
    }
   ],
   "source": [
    "df = df.drop(columns=['price'])\n",
    "df"
   ]
  },
  {
   "cell_type": "code",
   "execution_count": null,
   "id": "5a29cbb8",
   "metadata": {},
   "outputs": [],
   "source": []
  },
  {
   "cell_type": "code",
   "execution_count": null,
   "id": "0fd36a99",
   "metadata": {},
   "outputs": [],
   "source": []
  }
 ],
 "metadata": {
  "kernelspec": {
   "display_name": "Python 3 (ipykernel)",
   "language": "python",
   "name": "python3"
  },
  "language_info": {
   "codemirror_mode": {
    "name": "ipython",
    "version": 3
   },
   "file_extension": ".py",
   "mimetype": "text/x-python",
   "name": "python",
   "nbconvert_exporter": "python",
   "pygments_lexer": "ipython3",
   "version": "3.9.12"
  }
 },
 "nbformat": 4,
 "nbformat_minor": 5
}
