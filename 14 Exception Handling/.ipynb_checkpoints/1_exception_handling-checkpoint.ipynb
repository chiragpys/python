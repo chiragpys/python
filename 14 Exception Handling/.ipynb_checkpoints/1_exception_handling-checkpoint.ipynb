{
 "cells": [
  {
   "cell_type": "markdown",
   "id": "1f8f20e7",
   "metadata": {},
   "source": [
    "### Difference between Syntax Error and Exceptions\n",
    "Syntax Error: As the name suggests this error is caused by the wrong syntax in the code. It leads to the termination of the program. "
   ]
  },
  {
   "cell_type": "code",
   "execution_count": 3,
   "id": "dcf86ae9",
   "metadata": {},
   "outputs": [
    {
     "ename": "SyntaxError",
     "evalue": "invalid syntax (1688985888.py, line 4)",
     "output_type": "error",
     "traceback": [
      "\u001b[1;36m  Input \u001b[1;32mIn [3]\u001b[1;36m\u001b[0m\n\u001b[1;33m    if(amount > 2999)\u001b[0m\n\u001b[1;37m                     ^\u001b[0m\n\u001b[1;31mSyntaxError\u001b[0m\u001b[1;31m:\u001b[0m invalid syntax\n"
     ]
    }
   ],
   "source": [
    "amount = 10000\n",
    "\n",
    "# (:) is a missing \n",
    "if(amount > 2999)\n",
    "print(\"You are eligible to purchase Dsa Self Paced\")\n"
   ]
  },
  {
   "cell_type": "code",
   "execution_count": 4,
   "id": "9a1f333f",
   "metadata": {},
   "outputs": [
    {
     "ename": "ZeroDivisionError",
     "evalue": "division by zero",
     "output_type": "error",
     "traceback": [
      "\u001b[1;31m---------------------------------------------------------------------------\u001b[0m",
      "\u001b[1;31mZeroDivisionError\u001b[0m                         Traceback (most recent call last)",
      "Input \u001b[1;32mIn [4]\u001b[0m, in \u001b[0;36m<cell line: 4>\u001b[1;34m()\u001b[0m\n\u001b[0;32m      1\u001b[0m marks \u001b[38;5;241m=\u001b[39m \u001b[38;5;241m10000\u001b[39m\n\u001b[0;32m      3\u001b[0m \u001b[38;5;66;03m# perform division with 0\u001b[39;00m\n\u001b[1;32m----> 4\u001b[0m a \u001b[38;5;241m=\u001b[39m \u001b[43mmarks\u001b[49m\u001b[43m \u001b[49m\u001b[38;5;241;43m/\u001b[39;49m\u001b[43m \u001b[49m\u001b[38;5;241;43m0\u001b[39;49m\n\u001b[0;32m      5\u001b[0m \u001b[38;5;28mprint\u001b[39m(a)\n",
      "\u001b[1;31mZeroDivisionError\u001b[0m: division by zero"
     ]
    }
   ],
   "source": [
    "marks = 10000\n",
    "\n",
    "# perform division with 0\n",
    "a = marks / 0\n",
    "print(a)\n"
   ]
  },
  {
   "cell_type": "markdown",
   "id": "b9a3e806",
   "metadata": {},
   "source": [
    "`TypeError:` This exception is raised when an operation or function is applied to an object of the wrong type. Here’s an example:"
   ]
  },
  {
   "cell_type": "code",
   "execution_count": 5,
   "id": "671eb12b",
   "metadata": {},
   "outputs": [
    {
     "ename": "TypeError",
     "evalue": "unsupported operand type(s) for +: 'int' and 'str'",
     "output_type": "error",
     "traceback": [
      "\u001b[1;31m---------------------------------------------------------------------------\u001b[0m",
      "\u001b[1;31mTypeError\u001b[0m                                 Traceback (most recent call last)",
      "Input \u001b[1;32mIn [5]\u001b[0m, in \u001b[0;36m<cell line: 3>\u001b[1;34m()\u001b[0m\n\u001b[0;32m      1\u001b[0m x \u001b[38;5;241m=\u001b[39m \u001b[38;5;241m5\u001b[39m\n\u001b[0;32m      2\u001b[0m y \u001b[38;5;241m=\u001b[39m \u001b[38;5;124m\"\u001b[39m\u001b[38;5;124mhello\u001b[39m\u001b[38;5;124m\"\u001b[39m\n\u001b[1;32m----> 3\u001b[0m z \u001b[38;5;241m=\u001b[39m \u001b[43mx\u001b[49m\u001b[43m \u001b[49m\u001b[38;5;241;43m+\u001b[39;49m\u001b[43m \u001b[49m\u001b[43my\u001b[49m\n",
      "\u001b[1;31mTypeError\u001b[0m: unsupported operand type(s) for +: 'int' and 'str'"
     ]
    }
   ],
   "source": [
    "x = 5\n",
    "y = \"hello\"\n",
    "z = x + y"
   ]
  },
  {
   "cell_type": "code",
   "execution_count": 11,
   "id": "e0269f2c",
   "metadata": {},
   "outputs": [
    {
     "name": "stdout",
     "output_type": "stream",
     "text": [
      "Error: cannot add an int and a str\n"
     ]
    }
   ],
   "source": [
    "x = 5\n",
    "y = \"hello\"\n",
    "try:\n",
    "    z = x + y\n",
    "    print(z)\n",
    "except TypeError:\n",
    "    print(\"Error: cannot add an int and a str\")"
   ]
  },
  {
   "cell_type": "code",
   "execution_count": 16,
   "id": "dfc608b2",
   "metadata": {},
   "outputs": [
    {
     "name": "stdout",
     "output_type": "stream",
     "text": [
      "Second element = 2\n",
      "An error occurred\n"
     ]
    }
   ],
   "source": [
    "a = [1, 2, 3]\n",
    "# print(a[4])\n",
    "try:\n",
    "    print (\"Second element = %d\" %(a[1]))\n",
    "\n",
    "    print (\"Fourth element = %d\" %(a[3]))\n",
    "\n",
    "except:\n",
    "    print (\"An error occurred\")\n"
   ]
  },
  {
   "cell_type": "markdown",
   "id": "232b1ca3",
   "metadata": {},
   "source": [
    "### Catching Specific Exception\n",
    "A try statement can have more than one except clause, to specify handlers for different exceptions. Please note that at most one handler will be executed. For example, we can add IndexError in the above code."
   ]
  },
  {
   "cell_type": "code",
   "execution_count": 24,
   "id": "01664664",
   "metadata": {},
   "outputs": [
    {
     "name": "stdout",
     "output_type": "stream",
     "text": [
      "NameError Occurred and Handled\n"
     ]
    }
   ],
   "source": [
    "def fun(a):\n",
    "    if a < 4:\n",
    "        b = a/(a-3)\n",
    "\n",
    "    print(\"Value of b = \", b)\n",
    "    \n",
    "try:\n",
    "#     fun(3)\n",
    "    fun(5)\n",
    "\n",
    "except ZeroDivisionError:\n",
    "    print(\"ZeroDivisionError Occurred and Handled\")\n",
    "    \n",
    "except NameError:\n",
    "    print(\"NameError Occurred and Handled\")\n"
   ]
  },
  {
   "cell_type": "markdown",
   "id": "09adcc12",
   "metadata": {},
   "source": [
    "### Try with Else Clause\n",
    "In Python, you can also use the else clause on the try-except block which must be present after all the except clauses. The code enters the else block only if the try clause does not raise an exception."
   ]
  },
  {
   "cell_type": "code",
   "execution_count": 28,
   "id": "1761ade6",
   "metadata": {},
   "outputs": [
    {
     "name": "stdout",
     "output_type": "stream",
     "text": [
      "-5.0\n",
      "a/b result in 0\n"
     ]
    }
   ],
   "source": [
    "def AbyB(a , b):\n",
    "    try:\n",
    "        c = ((a+b) / (a-b))\n",
    "    except ZeroDivisionError:\n",
    "        print (\"a/b result in 0\")\n",
    "    else:\n",
    "        print(c)\n",
    "\n",
    "\n",
    "AbyB(2, 3)\n",
    "AbyB(3, 3)\n"
   ]
  },
  {
   "cell_type": "markdown",
   "id": "17c527df",
   "metadata": {},
   "source": [
    "### Finally Keyword in Python\n",
    "Python provides a keyword `finally`, which is always executed after the try and except blocks."
   ]
  },
  {
   "cell_type": "code",
   "execution_count": 32,
   "id": "c42caaf5",
   "metadata": {},
   "outputs": [
    {
     "name": "stdout",
     "output_type": "stream",
     "text": [
      "2\n",
      "This is always executed\n"
     ]
    }
   ],
   "source": [
    "try:\n",
    "    k = 5//2\n",
    "    print(k)\n",
    "    \n",
    "except ZeroDivisionError:\n",
    "    print(\"Can't divide by zero\")\n",
    "    \n",
    "finally:\n",
    "    print('This is always executed')"
   ]
  },
  {
   "cell_type": "code",
   "execution_count": 53,
   "id": "6499f3ba",
   "metadata": {},
   "outputs": [
    {
     "name": "stdout",
     "output_type": "stream",
     "text": [
      "An exception\n"
     ]
    },
    {
     "ename": "NameError",
     "evalue": "Hii there",
     "output_type": "error",
     "traceback": [
      "\u001b[1;31m---------------------------------------------------------------------------\u001b[0m",
      "\u001b[1;31mNameError\u001b[0m                                 Traceback (most recent call last)",
      "Input \u001b[1;32mIn [53]\u001b[0m, in \u001b[0;36m<cell line: 1>\u001b[1;34m()\u001b[0m\n\u001b[0;32m      1\u001b[0m \u001b[38;5;28;01mtry\u001b[39;00m:\n\u001b[1;32m----> 2\u001b[0m     \u001b[38;5;28;01mraise\u001b[39;00m \u001b[38;5;167;01mNameError\u001b[39;00m(\u001b[38;5;124m\"\u001b[39m\u001b[38;5;124mHii there\u001b[39m\u001b[38;5;124m\"\u001b[39m)\n\u001b[0;32m      3\u001b[0m \u001b[38;5;28;01mexcept\u001b[39;00m \u001b[38;5;167;01mNameError\u001b[39;00m:\n\u001b[0;32m      4\u001b[0m     \u001b[38;5;28mprint\u001b[39m(\u001b[38;5;124m\"\u001b[39m\u001b[38;5;124mAn exception\u001b[39m\u001b[38;5;124m\"\u001b[39m)\n",
      "\u001b[1;31mNameError\u001b[0m: Hii there"
     ]
    }
   ],
   "source": [
    "try:\n",
    "    raise NameError(\"Hii there\")\n",
    "except NameError:\n",
    "    print(\"An exception\")\n",
    "    raise"
   ]
  },
  {
   "cell_type": "code",
   "execution_count": 37,
   "id": "3b754766",
   "metadata": {},
   "outputs": [
    {
     "name": "stdout",
     "output_type": "stream",
     "text": [
      "The error is:  unsupported operand type(s) for //: 'int' and 'str'\n",
      "The error is:  integer division or modulo by zero\n"
     ]
    }
   ],
   "source": [
    "def divide(x, y):\n",
    "    try:\n",
    "        result = x // y\n",
    "        print(\"Yeah ! Your answer is :\", result)\n",
    "        \n",
    "    except Exception as e:\n",
    "        print(\"The error is: \",e)\n",
    "\n",
    "\n",
    "divide(3, \"GFG\")\n",
    "divide(3,0)\n"
   ]
  },
  {
   "cell_type": "code",
   "execution_count": 39,
   "id": "77d8cd5e",
   "metadata": {
    "collapsed": true
   },
   "outputs": [
    {
     "name": "stdout",
     "output_type": "stream",
     "text": [
      "Help on class Exception in module builtins:\n",
      "\n",
      "class Exception(BaseException)\n",
      " |  Common base class for all non-exit exceptions.\n",
      " |  \n",
      " |  Method resolution order:\n",
      " |      Exception\n",
      " |      BaseException\n",
      " |      object\n",
      " |  \n",
      " |  Built-in subclasses:\n",
      " |      ArithmeticError\n",
      " |      AssertionError\n",
      " |      AttributeError\n",
      " |      BufferError\n",
      " |      ... and 15 other subclasses\n",
      " |  \n",
      " |  Methods defined here:\n",
      " |  \n",
      " |  __init__(self, /, *args, **kwargs)\n",
      " |      Initialize self.  See help(type(self)) for accurate signature.\n",
      " |  \n",
      " |  ----------------------------------------------------------------------\n",
      " |  Static methods defined here:\n",
      " |  \n",
      " |  __new__(*args, **kwargs) from builtins.type\n",
      " |      Create and return a new object.  See help(type) for accurate signature.\n",
      " |  \n",
      " |  ----------------------------------------------------------------------\n",
      " |  Methods inherited from BaseException:\n",
      " |  \n",
      " |  __delattr__(self, name, /)\n",
      " |      Implement delattr(self, name).\n",
      " |  \n",
      " |  __getattribute__(self, name, /)\n",
      " |      Return getattr(self, name).\n",
      " |  \n",
      " |  __reduce__(...)\n",
      " |      Helper for pickle.\n",
      " |  \n",
      " |  __repr__(self, /)\n",
      " |      Return repr(self).\n",
      " |  \n",
      " |  __setattr__(self, name, value, /)\n",
      " |      Implement setattr(self, name, value).\n",
      " |  \n",
      " |  __setstate__(...)\n",
      " |  \n",
      " |  __str__(self, /)\n",
      " |      Return str(self).\n",
      " |  \n",
      " |  with_traceback(...)\n",
      " |      Exception.with_traceback(tb) --\n",
      " |      set self.__traceback__ to tb and return self.\n",
      " |  \n",
      " |  ----------------------------------------------------------------------\n",
      " |  Data descriptors inherited from BaseException:\n",
      " |  \n",
      " |  __cause__\n",
      " |      exception cause\n",
      " |  \n",
      " |  __context__\n",
      " |      exception context\n",
      " |  \n",
      " |  __dict__\n",
      " |  \n",
      " |  __suppress_context__\n",
      " |  \n",
      " |  __traceback__\n",
      " |  \n",
      " |  args\n",
      "\n"
     ]
    }
   ],
   "source": [
    "help(Exception)\n"
   ]
  },
  {
   "cell_type": "code",
   "execution_count": 41,
   "id": "c6aeafb0",
   "metadata": {},
   "outputs": [
    {
     "name": "stdout",
     "output_type": "stream",
     "text": [
      "Enter a number: 0\n",
      "Input value is zero, try again!\n",
      "\n"
     ]
    }
   ],
   "source": [
    "class Error(Exception):\n",
    "    \"\"\"Base class for other exceptions\"\"\"\n",
    "    pass\n",
    "\n",
    "class zerodivision(Error):\n",
    "    \"\"\"Raised when the input value is zero\"\"\"\n",
    "    pass\n",
    "\n",
    "try:\n",
    "    i_num = int(input(\"Enter a number: \"))\n",
    "    if i_num == 0:\n",
    "        raise zerodivision\n",
    "except zerodivision:\n",
    "    print(\"Input value is zero, try again!\")\n",
    "    print()"
   ]
  },
  {
   "cell_type": "markdown",
   "id": "afbc2dce",
   "metadata": {},
   "source": [
    "### Assertion"
   ]
  },
  {
   "cell_type": "code",
   "execution_count": 48,
   "id": "b0db3339",
   "metadata": {},
   "outputs": [
    {
     "name": "stdout",
     "output_type": "stream",
     "text": [
      "The value of a / b is : \n"
     ]
    },
    {
     "ename": "AssertionError",
     "evalue": "Zero Division Error",
     "output_type": "error",
     "traceback": [
      "\u001b[1;31m---------------------------------------------------------------------------\u001b[0m",
      "\u001b[1;31mAssertionError\u001b[0m                            Traceback (most recent call last)",
      "Input \u001b[1;32mIn [48]\u001b[0m, in \u001b[0;36m<cell line: 6>\u001b[1;34m()\u001b[0m\n\u001b[0;32m      4\u001b[0m \u001b[38;5;66;03m# using assert to check for 0\u001b[39;00m\n\u001b[0;32m      5\u001b[0m \u001b[38;5;28mprint\u001b[39m(\u001b[38;5;124m\"\u001b[39m\u001b[38;5;124mThe value of a / b is : \u001b[39m\u001b[38;5;124m\"\u001b[39m)\n\u001b[1;32m----> 6\u001b[0m \u001b[38;5;28;01massert\u001b[39;00m b \u001b[38;5;241m!=\u001b[39m \u001b[38;5;241m0\u001b[39m, \u001b[38;5;124m\"\u001b[39m\u001b[38;5;124mZero Division Error\u001b[39m\u001b[38;5;124m\"\u001b[39m\n\u001b[0;32m      7\u001b[0m \u001b[38;5;28mprint\u001b[39m(a \u001b[38;5;241m/\u001b[39m b)\n",
      "\u001b[1;31mAssertionError\u001b[0m: Zero Division Error"
     ]
    }
   ],
   "source": [
    "a = 4\n",
    "b = 0\n",
    "\n",
    "# using assert to check for 0\n",
    "print(\"The value of a / b is : \")\n",
    "assert b != 0, \"Zero Division Error\"\n",
    "print(a / b)"
   ]
  },
  {
   "cell_type": "code",
   "execution_count": 50,
   "id": "ef96c2b9",
   "metadata": {},
   "outputs": [
    {
     "name": "stdout",
     "output_type": "stream",
     "text": [
      "40 is OK\n",
      "26 is OK\n",
      "39 is OK\n",
      "30 is OK\n"
     ]
    },
    {
     "ename": "AssertionError",
     "evalue": "Batch is Rejected",
     "output_type": "error",
     "traceback": [
      "\u001b[1;31m---------------------------------------------------------------------------\u001b[0m",
      "\u001b[1;31mAssertionError\u001b[0m                            Traceback (most recent call last)",
      "Input \u001b[1;32mIn [50]\u001b[0m, in \u001b[0;36m<cell line: 5>\u001b[1;34m()\u001b[0m\n\u001b[0;32m      3\u001b[0m cut \u001b[38;5;241m=\u001b[39m \u001b[38;5;241m26\u001b[39m\n\u001b[0;32m      5\u001b[0m \u001b[38;5;28;01mfor\u001b[39;00m i \u001b[38;5;129;01min\u001b[39;00m batch:\n\u001b[1;32m----> 6\u001b[0m     \u001b[38;5;28;01massert\u001b[39;00m i \u001b[38;5;241m>\u001b[39m\u001b[38;5;241m=\u001b[39m \u001b[38;5;241m26\u001b[39m, \u001b[38;5;124m\"\u001b[39m\u001b[38;5;124mBatch is Rejected\u001b[39m\u001b[38;5;124m\"\u001b[39m\n\u001b[0;32m      7\u001b[0m     \u001b[38;5;28mprint\u001b[39m (\u001b[38;5;28mstr\u001b[39m(i) \u001b[38;5;241m+\u001b[39m \u001b[38;5;124m\"\u001b[39m\u001b[38;5;124m is OK\u001b[39m\u001b[38;5;124m\"\u001b[39m )\n",
      "\u001b[1;31mAssertionError\u001b[0m: Batch is Rejected"
     ]
    }
   ],
   "source": [
    "batch = [ 40, 26, 39, 30, 25, 21]\n",
    "\n",
    "cut = 26\n",
    "\n",
    "for i in batch:\n",
    "    assert i >= 26, \"Batch is Rejected\"\n",
    "    print (str(i) + \" is OK\" )\n"
   ]
  },
  {
   "cell_type": "code",
   "execution_count": null,
   "id": "1ce0d2ae",
   "metadata": {},
   "outputs": [],
   "source": []
  }
 ],
 "metadata": {
  "kernelspec": {
   "display_name": "Python 3 (ipykernel)",
   "language": "python",
   "name": "python3"
  },
  "language_info": {
   "codemirror_mode": {
    "name": "ipython",
    "version": 3
   },
   "file_extension": ".py",
   "mimetype": "text/x-python",
   "name": "python",
   "nbconvert_exporter": "python",
   "pygments_lexer": "ipython3",
   "version": "3.9.12"
  }
 },
 "nbformat": 4,
 "nbformat_minor": 5
}
