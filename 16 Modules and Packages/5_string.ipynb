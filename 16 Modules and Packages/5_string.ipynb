{
 "cells": [
  {
   "cell_type": "code",
   "execution_count": 1,
   "id": "ecc77859",
   "metadata": {},
   "outputs": [],
   "source": [
    "import string"
   ]
  },
  {
   "cell_type": "code",
   "execution_count": 58,
   "id": "2885993a",
   "metadata": {
    "collapsed": true
   },
   "outputs": [
    {
     "name": "stdout",
     "output_type": "stream",
     "text": [
      "Help on module string:\n",
      "\n",
      "NAME\n",
      "    string - A collection of string constants.\n",
      "\n",
      "MODULE REFERENCE\n",
      "    https://docs.python.org/3.9/library/string\n",
      "    \n",
      "    The following documentation is automatically generated from the Python\n",
      "    source files.  It may be incomplete, incorrect or include features that\n",
      "    are considered implementation detail and may vary between Python\n",
      "    implementations.  When in doubt, consult the module reference at the\n",
      "    location listed above.\n",
      "\n",
      "DESCRIPTION\n",
      "    Public module variables:\n",
      "    \n",
      "    whitespace -- a string containing all ASCII whitespace\n",
      "    ascii_lowercase -- a string containing all ASCII lowercase letters\n",
      "    ascii_uppercase -- a string containing all ASCII uppercase letters\n",
      "    ascii_letters -- a string containing all ASCII letters\n",
      "    digits -- a string containing all ASCII decimal digits\n",
      "    hexdigits -- a string containing all ASCII hexadecimal digits\n",
      "    octdigits -- a string containing all ASCII octal digits\n",
      "    punctuation -- a string containing all ASCII punctuation characters\n",
      "    printable -- a string containing all ASCII characters considered printable\n",
      "\n",
      "CLASSES\n",
      "    builtins.object\n",
      "        Formatter\n",
      "        Template\n",
      "    \n",
      "    class Formatter(builtins.object)\n",
      "     |  Methods defined here:\n",
      "     |  \n",
      "     |  check_unused_args(self, used_args, args, kwargs)\n",
      "     |  \n",
      "     |  convert_field(self, value, conversion)\n",
      "     |  \n",
      "     |  format(self, format_string, /, *args, **kwargs)\n",
      "     |  \n",
      "     |  format_field(self, value, format_spec)\n",
      "     |  \n",
      "     |  get_field(self, field_name, args, kwargs)\n",
      "     |      # given a field_name, find the object it references.\n",
      "     |      #  field_name:   the field being looked up, e.g. \"0.name\"\n",
      "     |      #                 or \"lookup[3]\"\n",
      "     |      #  used_args:    a set of which args have been used\n",
      "     |      #  args, kwargs: as passed in to vformat\n",
      "     |  \n",
      "     |  get_value(self, key, args, kwargs)\n",
      "     |  \n",
      "     |  parse(self, format_string)\n",
      "     |      # returns an iterable that contains tuples of the form:\n",
      "     |      # (literal_text, field_name, format_spec, conversion)\n",
      "     |      # literal_text can be zero length\n",
      "     |      # field_name can be None, in which case there's no\n",
      "     |      #  object to format and output\n",
      "     |      # if field_name is not None, it is looked up, formatted\n",
      "     |      #  with format_spec and conversion and then used\n",
      "     |  \n",
      "     |  vformat(self, format_string, args, kwargs)\n",
      "     |  \n",
      "     |  ----------------------------------------------------------------------\n",
      "     |  Data descriptors defined here:\n",
      "     |  \n",
      "     |  __dict__\n",
      "     |      dictionary for instance variables (if defined)\n",
      "     |  \n",
      "     |  __weakref__\n",
      "     |      list of weak references to the object (if defined)\n",
      "    \n",
      "    class Template(builtins.object)\n",
      "     |  Template(template)\n",
      "     |  \n",
      "     |  A string class for supporting $-substitutions.\n",
      "     |  \n",
      "     |  Methods defined here:\n",
      "     |  \n",
      "     |  __init__(self, template)\n",
      "     |      Initialize self.  See help(type(self)) for accurate signature.\n",
      "     |  \n",
      "     |  safe_substitute(self, mapping={}, /, **kws)\n",
      "     |  \n",
      "     |  substitute(self, mapping={}, /, **kws)\n",
      "     |  \n",
      "     |  ----------------------------------------------------------------------\n",
      "     |  Class methods defined here:\n",
      "     |  \n",
      "     |  __init_subclass__() from builtins.type\n",
      "     |      This method is called when a class is subclassed.\n",
      "     |      \n",
      "     |      The default implementation does nothing. It may be\n",
      "     |      overridden to extend subclasses.\n",
      "     |  \n",
      "     |  ----------------------------------------------------------------------\n",
      "     |  Data descriptors defined here:\n",
      "     |  \n",
      "     |  __dict__\n",
      "     |      dictionary for instance variables (if defined)\n",
      "     |  \n",
      "     |  __weakref__\n",
      "     |      list of weak references to the object (if defined)\n",
      "     |  \n",
      "     |  ----------------------------------------------------------------------\n",
      "     |  Data and other attributes defined here:\n",
      "     |  \n",
      "     |  braceidpattern = None\n",
      "     |  \n",
      "     |  delimiter = '$'\n",
      "     |  \n",
      "     |  flags = re.IGNORECASE\n",
      "     |  \n",
      "     |  idpattern = '(?a:[_a-z][_a-z0-9]*)'\n",
      "     |  \n",
      "     |  pattern = re.compile('\\n            \\\\$(?:\\n              ...identifie...\n",
      "\n",
      "FUNCTIONS\n",
      "    capwords(s, sep=None)\n",
      "        capwords(s [,sep]) -> string\n",
      "        \n",
      "        Split the argument into words using split, capitalize each\n",
      "        word using capitalize, and join the capitalized words using\n",
      "        join.  If the optional second argument sep is absent or None,\n",
      "        runs of whitespace characters are replaced by a single space\n",
      "        and leading and trailing whitespace are removed, otherwise\n",
      "        sep is used to split and join the words.\n",
      "\n",
      "DATA\n",
      "    __all__ = ['ascii_letters', 'ascii_lowercase', 'ascii_uppercase', 'cap...\n",
      "    ascii_letters = 'abcdefghijklmnopqrstuvwxyzABCDEFGHIJKLMNOPQRSTUVWXYZ'\n",
      "    ascii_lowercase = 'abcdefghijklmnopqrstuvwxyz'\n",
      "    ascii_uppercase = 'ABCDEFGHIJKLMNOPQRSTUVWXYZ'\n",
      "    digits = '0123456789'\n",
      "    hexdigits = '0123456789abcdefABCDEF'\n",
      "    octdigits = '01234567'\n",
      "    printable = '0123456789abcdefghijklmnopqrstuvwxyzABCDEFGHIJKLMNOPQRSTU...\n",
      "    punctuation = '!\"#$%&\\'()*+,-./:;<=>?@[\\\\]^_`{|}~'\n",
      "    whitespace = ' \\t\\n\\r\\x0b\\x0c'\n",
      "\n",
      "FILE\n",
      "    c:\\programdata\\anaconda3\\lib\\string.py\n",
      "\n",
      "\n"
     ]
    }
   ],
   "source": [
    "help(string)"
   ]
  },
  {
   "cell_type": "markdown",
   "id": "a8d88154",
   "metadata": {},
   "source": [
    "### ascii_letters -- \n",
    "a string containing all ASCII letters"
   ]
  },
  {
   "cell_type": "code",
   "execution_count": 3,
   "id": "e77b03c9",
   "metadata": {},
   "outputs": [
    {
     "name": "stdout",
     "output_type": "stream",
     "text": [
      "abcdefghijklmnopqrstuvwxyzABCDEFGHIJKLMNOPQRSTUVWXYZ\n"
     ]
    }
   ],
   "source": [
    "print(string.ascii_letters)"
   ]
  },
  {
   "cell_type": "code",
   "execution_count": 8,
   "id": "4dbfffcc",
   "metadata": {
    "scrolled": true
   },
   "outputs": [
    {
     "data": {
      "text/plain": [
       "str"
      ]
     },
     "execution_count": 8,
     "metadata": {},
     "output_type": "execute_result"
    }
   ],
   "source": [
    "type(string.ascii_letters)"
   ]
  },
  {
   "cell_type": "markdown",
   "id": "7b66fd57",
   "metadata": {},
   "source": [
    "### ascii_uppercase --\n",
    "a string containing all ASCII uppercase letters"
   ]
  },
  {
   "cell_type": "code",
   "execution_count": 9,
   "id": "189615fa",
   "metadata": {},
   "outputs": [
    {
     "name": "stdout",
     "output_type": "stream",
     "text": [
      "ABCDEFGHIJKLMNOPQRSTUVWXYZ\n"
     ]
    }
   ],
   "source": [
    "print(string.ascii_uppercase)"
   ]
  },
  {
   "cell_type": "markdown",
   "id": "ef01909a",
   "metadata": {},
   "source": [
    "### ascii_lowercase -- \n",
    "a string containing all ASCII lowercase letters"
   ]
  },
  {
   "cell_type": "code",
   "execution_count": 10,
   "id": "689685eb",
   "metadata": {},
   "outputs": [
    {
     "name": "stdout",
     "output_type": "stream",
     "text": [
      "abcdefghijklmnopqrstuvwxyz\n"
     ]
    }
   ],
   "source": [
    "print(string.ascii_lowercase)"
   ]
  },
  {
   "cell_type": "markdown",
   "id": "45a69c2d",
   "metadata": {},
   "source": [
    "### digits -- \n",
    "a string containing all ASCII decimal digits"
   ]
  },
  {
   "cell_type": "code",
   "execution_count": 12,
   "id": "59d715bc",
   "metadata": {
    "scrolled": true
   },
   "outputs": [
    {
     "name": "stdout",
     "output_type": "stream",
     "text": [
      "0123456789\n"
     ]
    }
   ],
   "source": [
    "print(string.digits)"
   ]
  },
  {
   "cell_type": "markdown",
   "id": "321b3731",
   "metadata": {},
   "source": [
    "### hexdigits -- \n",
    "a string containing all ASCII hexadecimal digits"
   ]
  },
  {
   "cell_type": "code",
   "execution_count": 13,
   "id": "8bef8be6",
   "metadata": {},
   "outputs": [
    {
     "name": "stdout",
     "output_type": "stream",
     "text": [
      "0123456789abcdefABCDEF\n"
     ]
    }
   ],
   "source": [
    "print(string.hexdigits)"
   ]
  },
  {
   "cell_type": "markdown",
   "id": "66f93f7d",
   "metadata": {},
   "source": [
    "### whitespace -- \n",
    "a string containing all ASCII whitespace"
   ]
  },
  {
   "cell_type": "code",
   "execution_count": 14,
   "id": "b023f7fc",
   "metadata": {
    "scrolled": true
   },
   "outputs": [
    {
     "name": "stdout",
     "output_type": "stream",
     "text": [
      " \t\n",
      "\r",
      "\u000b",
      "\f",
      "\n"
     ]
    }
   ],
   "source": [
    "print(string.whitespace)"
   ]
  },
  {
   "cell_type": "markdown",
   "id": "732014fa",
   "metadata": {},
   "source": [
    "### punctuation -- \n",
    "a string containing all ASCII punctuation characters"
   ]
  },
  {
   "cell_type": "code",
   "execution_count": 15,
   "id": "b439018f",
   "metadata": {
    "scrolled": true
   },
   "outputs": [
    {
     "name": "stdout",
     "output_type": "stream",
     "text": [
      "!\"#$%&'()*+,-./:;<=>?@[\\]^_`{|}~\n"
     ]
    }
   ],
   "source": [
    "print(string.punctuation)"
   ]
  },
  {
   "cell_type": "markdown",
   "id": "e61169b4",
   "metadata": {},
   "source": [
    "### printable -- \n",
    "a string containing all ASCII characters considered printable"
   ]
  },
  {
   "cell_type": "code",
   "execution_count": 17,
   "id": "af7d544e",
   "metadata": {},
   "outputs": [
    {
     "name": "stdout",
     "output_type": "stream",
     "text": [
      "0123456789abcdefghijklmnopqrstuvwxyzABCDEFGHIJKLMNOPQRSTUVWXYZ!\"#$%&'()*+,-./:;<=>?@[\\]^_`{|}~ \t\n",
      "\r",
      "\u000b",
      "\f",
      "\n"
     ]
    }
   ],
   "source": [
    "print(string.printable)"
   ]
  },
  {
   "cell_type": "markdown",
   "id": "47bc5953",
   "metadata": {},
   "source": [
    "### string capwords() function\n",
    "Python string module contains a single utility function - capwords(s, sep=None). This function split the specified string into words using `str.split()`. Then it capitalizes each word using `str.capitalize()` function. Finally, it joins the capitalized words using `str.join()`. If the optional argument sep is not provided or None, then leading and trailing whitespaces are removed and words are separated with single whitespace. If it’s provided then the separator is used to split and join the words."
   ]
  },
  {
   "cell_type": "code",
   "execution_count": 32,
   "id": "c9026c7b",
   "metadata": {},
   "outputs": [
    {
     "name": "stdout",
     "output_type": "stream",
     "text": [
      "Welcome To Python\n"
     ]
    }
   ],
   "source": [
    "s = '  Welcome to  \\n\\n python '\n",
    "print(string.capwords(s,))"
   ]
  },
  {
   "cell_type": "code",
   "execution_count": 22,
   "id": "2c75f2b8",
   "metadata": {},
   "outputs": [],
   "source": [
    "a = s.split()"
   ]
  },
  {
   "cell_type": "code",
   "execution_count": 25,
   "id": "362af04b",
   "metadata": {},
   "outputs": [
    {
     "data": {
      "text/plain": [
       "'Welcome to python'"
      ]
     },
     "execution_count": 25,
     "metadata": {},
     "output_type": "execute_result"
    }
   ],
   "source": [
    "\" \".join(a)"
   ]
  },
  {
   "cell_type": "code",
   "execution_count": 26,
   "id": "806ce2cc",
   "metadata": {
    "scrolled": true
   },
   "outputs": [
    {
     "name": "stdout",
     "output_type": "stream",
     "text": [
      "  Welcome to  \n",
      "\n",
      " python \n"
     ]
    }
   ],
   "source": [
    "print(s)"
   ]
  },
  {
   "cell_type": "markdown",
   "id": "23125887",
   "metadata": {},
   "source": [
    "### Formatter\n",
    "It behaves exactly same as `str.format()` function. This class become useful if you want to subclass it and define your own format string syntax."
   ]
  },
  {
   "cell_type": "code",
   "execution_count": 35,
   "id": "75dd86dd",
   "metadata": {
    "scrolled": true
   },
   "outputs": [
    {
     "name": "stdout",
     "output_type": "stream",
     "text": [
      "Python\n",
      "Welcome to Python\n",
      "Welcome to Python\n"
     ]
    }
   ],
   "source": [
    "from string import Formatter\n",
    "\n",
    "formatter = Formatter()\n",
    "print(formatter.format('{website}', website='Python'))\n",
    "print(formatter.format('{} {website}', 'Welcome to', website='Python'))\n",
    "\n",
    "# format() behaves in similar manner\n",
    "print('{} {website}'.format('Welcome to', website='Python'))"
   ]
  },
  {
   "cell_type": "markdown",
   "id": "1baf0f38",
   "metadata": {},
   "source": [
    "### Template"
   ]
  },
  {
   "cell_type": "code",
   "execution_count": 36,
   "id": "affad543",
   "metadata": {},
   "outputs": [
    {
     "name": "stdout",
     "output_type": "stream",
     "text": [
      "Python is the Founder of PySquad.\n"
     ]
    }
   ],
   "source": [
    "from string import Template\n",
    "\n",
    "t = Template('$name is the $title of $company')\n",
    "s = t.substitute(name='Python', title='Founder', company='PySquad.')\n",
    "print(s)"
   ]
  },
  {
   "cell_type": "code",
   "execution_count": 55,
   "id": "c8057b5a",
   "metadata": {},
   "outputs": [],
   "source": [
    "import string\n",
    "class StringModule:\n",
    "    \"\"\"\n",
    "    whitespace -- a string containing all ASCII whitespace\n",
    "    ascii_lowercase -- a string containing all ASCII lowercase letters\n",
    "    ascii_uppercase -- a string containing all ASCII uppercase letters\n",
    "    ascii_letters -- a string containing all ASCII letters\n",
    "    digits -- a string containing all ASCII decimal digits\n",
    "    hexdigits -- a string containing all ASCII hexadecimal digits\n",
    "    punctuation -- a string containing all ASCII punctuation characters\n",
    "    printable -- a string containing all ASCII characters considered printable\n",
    "    capword -- \n",
    "        capwords(s [,sep]) -> string\n",
    "        \n",
    "        Split the argument into words using split, capitalize each\n",
    "        word using capitalize, and join the capitalized words using\n",
    "        join.  If the optional second argument sep is absent or None,\n",
    "        runs of whitespace characters are replaced by a single space\n",
    "        and leading and trailing whitespace are removed, otherwise\n",
    "        sep is used to split and join the words.\n",
    "    \"\"\"\n",
    "    \n",
    "    \n",
    "    def letters(self):\n",
    "        return string.ascii_letters\n",
    "    \n",
    "    def uppercase(self):\n",
    "        return string.ascii_uppercase\n",
    "    \n",
    "    def lowercase(self):\n",
    "        return string.ascii_lowercase\n",
    "    \n",
    "    def digits(self):\n",
    "        return string.digits\n",
    "    \n",
    "    def hexdigits(self):\n",
    "        return string.hexdigits\n",
    "    \n",
    "    def whitespace(self):\n",
    "        return string.whitespace\n",
    "    \n",
    "    def punctuation(self):\n",
    "        return string.punctuation\n",
    "    \n",
    "    def printable(self):\n",
    "        return string.printable\n",
    "    \n",
    "    def capword(self,s):\n",
    "        return string.capwords(s)\n",
    "    \n",
    "    "
   ]
  },
  {
   "cell_type": "code",
   "execution_count": 56,
   "id": "8e241e53",
   "metadata": {},
   "outputs": [],
   "source": [
    "s = StringModule()"
   ]
  },
  {
   "cell_type": "code",
   "execution_count": 48,
   "id": "2e6eeb60",
   "metadata": {},
   "outputs": [
    {
     "data": {
      "text/plain": [
       "'Welcome To Python'"
      ]
     },
     "execution_count": 48,
     "metadata": {},
     "output_type": "execute_result"
    }
   ],
   "source": [
    "s.capword(\"welcome to \\n\\n python\")"
   ]
  },
  {
   "cell_type": "code",
   "execution_count": 57,
   "id": "382d2447",
   "metadata": {
    "collapsed": true
   },
   "outputs": [
    {
     "name": "stdout",
     "output_type": "stream",
     "text": [
      "Help on class StringModule in module __main__:\n",
      "\n",
      "class StringModule(builtins.object)\n",
      " |  whitespace -- a string containing all ASCII whitespace\n",
      " |  ascii_lowercase -- a string containing all ASCII lowercase letters\n",
      " |  ascii_uppercase -- a string containing all ASCII uppercase letters\n",
      " |  ascii_letters -- a string containing all ASCII letters\n",
      " |  digits -- a string containing all ASCII decimal digits\n",
      " |  hexdigits -- a string containing all ASCII hexadecimal digits\n",
      " |  punctuation -- a string containing all ASCII punctuation characters\n",
      " |  printable -- a string containing all ASCII characters considered printable\n",
      " |  capword -- capwords(s [,sep]) -> string\n",
      " |      Split the argument into words using split, capitalize each\n",
      " |      word using capitalize, and join the capitalized words using\n",
      " |      join.  If the optional second argument sep is absent or None,\n",
      " |      runs of whitespace characters are replaced by a single space\n",
      " |      and leading and trailing whitespace are removed, otherwise\n",
      " |      sep is used to split and join the words.\n",
      " |  \n",
      " |  Methods defined here:\n",
      " |  \n",
      " |  capword(self, s)\n",
      " |  \n",
      " |  digits(self)\n",
      " |  \n",
      " |  hexdigits(self)\n",
      " |  \n",
      " |  letters(self)\n",
      " |  \n",
      " |  lowercase(self)\n",
      " |  \n",
      " |  printable(self)\n",
      " |  \n",
      " |  punctuation(self)\n",
      " |  \n",
      " |  uppercase(self)\n",
      " |  \n",
      " |  whitespace(self)\n",
      " |  \n",
      " |  ----------------------------------------------------------------------\n",
      " |  Data descriptors defined here:\n",
      " |  \n",
      " |  __dict__\n",
      " |      dictionary for instance variables (if defined)\n",
      " |  \n",
      " |  __weakref__\n",
      " |      list of weak references to the object (if defined)\n",
      "\n"
     ]
    }
   ],
   "source": [
    "help(StringModule)"
   ]
  },
  {
   "cell_type": "code",
   "execution_count": null,
   "id": "af906553",
   "metadata": {},
   "outputs": [],
   "source": []
  }
 ],
 "metadata": {
  "kernelspec": {
   "display_name": "Python 3 (ipykernel)",
   "language": "python",
   "name": "python3"
  },
  "language_info": {
   "codemirror_mode": {
    "name": "ipython",
    "version": 3
   },
   "file_extension": ".py",
   "mimetype": "text/x-python",
   "name": "python",
   "nbconvert_exporter": "python",
   "pygments_lexer": "ipython3",
   "version": "3.9.12"
  }
 },
 "nbformat": 4,
 "nbformat_minor": 5
}
