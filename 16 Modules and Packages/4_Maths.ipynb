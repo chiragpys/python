{
 "cells": [
  {
   "cell_type": "code",
   "execution_count": null,
   "id": "40add602",
   "metadata": {},
   "outputs": [],
   "source": [
    "import math"
   ]
  },
  {
   "cell_type": "code",
   "execution_count": null,
   "id": "69fc9cdb",
   "metadata": {},
   "outputs": [],
   "source": [
    "help(math)"
   ]
  },
  {
   "cell_type": "code",
   "execution_count": null,
   "id": "55b02b2d",
   "metadata": {},
   "outputs": [],
   "source": [
    "import math\n",
    "print(\"The value of Euler e: \", math.e)\n",
    "print(\"The value of pi: \", math.pi)\n"
   ]
  },
  {
   "cell_type": "code",
   "execution_count": null,
   "id": "eadf79ab",
   "metadata": {},
   "outputs": [],
   "source": [
    "import math\n",
    "\n",
    "r = 4\n",
    "\n",
    "pie = math.pi\n",
    "\n",
    "print(pie * r * r)\n"
   ]
  },
  {
   "cell_type": "markdown",
   "id": "e13b65f6",
   "metadata": {},
   "source": [
    "### What is Tau?\n",
    "The constant is numerically equal to 2*pi (2 times pi), and with value approximately 6.28. The ratio equates to 2*C/D. Where C is circumference and D is diameter of circle."
   ]
  },
  {
   "cell_type": "code",
   "execution_count": null,
   "id": "88333de0",
   "metadata": {},
   "outputs": [],
   "source": [
    "import math\n",
    "\n",
    "print(\"The value of tau:\", round(math.tau, 2))"
   ]
  },
  {
   "cell_type": "markdown",
   "id": "3ee30eb1",
   "metadata": {},
   "source": [
    "### Infinity\n",
    "Infinity basically means something which is never-ending or boundless from both directions i.e. negative and positive"
   ]
  },
  {
   "cell_type": "code",
   "execution_count": null,
   "id": "0a6a7746",
   "metadata": {},
   "outputs": [],
   "source": [
    "import math\n",
    "print(math.inf)\n",
    "print(-math.inf)\n",
    "print(type(math.inf))"
   ]
  },
  {
   "cell_type": "markdown",
   "id": "68de1f85",
   "metadata": {},
   "source": [
    "### NaN\n",
    "The math.nan constant returns a floating-point nan (Not a Number) value. This value is not a legal number. The nan constant is equivalent to float(“nan”)."
   ]
  },
  {
   "cell_type": "code",
   "execution_count": null,
   "id": "d8da1b16",
   "metadata": {},
   "outputs": [],
   "source": [
    "import math \n",
    "print(math.nan)\n",
    "type(math.nan)"
   ]
  },
  {
   "cell_type": "markdown",
   "id": "98553317",
   "metadata": {},
   "source": [
    "### Finding the ceiling and the floor value\n",
    "Ceil value means the smallest integral value greater than the number and the floor value means the greatest integral value smaller than the number. This can be easily calculated using the `ceil()` and `floor()` method respectively."
   ]
  },
  {
   "cell_type": "code",
   "execution_count": 9,
   "id": "cce1e9ea",
   "metadata": {},
   "outputs": [
    {
     "name": "stdout",
     "output_type": "stream",
     "text": [
      "The ceil of 2.3 is : 3\n",
      "The floor of 2.3 is : 2\n"
     ]
    }
   ],
   "source": [
    "import math\n",
    "\n",
    "a = 2.3\n",
    "\n",
    "# returning the ceil of 2.3\n",
    "print (\"The ceil of 2.3 is : \", end=\"\")\n",
    "print (math.ceil(a))\n",
    "\n",
    "# returning the floor of 2.3\n",
    "print (\"The floor of 2.3 is : \", end=\"\")\n",
    "print (math.floor(a))\n"
   ]
  },
  {
   "cell_type": "markdown",
   "id": "0d4fc172",
   "metadata": {},
   "source": [
    "### Finding the factorial of the number\n",
    "Using the `factorial()` function we can find the factorial of a number in a single line of the code. An error message is displayed if number is not integral"
   ]
  },
  {
   "cell_type": "code",
   "execution_count": 10,
   "id": "3f993487",
   "metadata": {},
   "outputs": [
    {
     "name": "stdout",
     "output_type": "stream",
     "text": [
      "The factorial of 5 is :  120\n"
     ]
    }
   ],
   "source": [
    "import math\n",
    "a = 5\n",
    "print(\"The factorial of 5 is : \", math.factorial(a))"
   ]
  },
  {
   "cell_type": "markdown",
   "id": "4be26c92",
   "metadata": {},
   "source": [
    "### Finding the GCD\n",
    "`gcd()` function is used to find the greatest common divisor of two numbers passed as the arguments."
   ]
  },
  {
   "cell_type": "code",
   "execution_count": 15,
   "id": "f09b0349",
   "metadata": {},
   "outputs": [
    {
     "name": "stdout",
     "output_type": "stream",
     "text": [
      "The gcd of 5 and 15 is :  5\n"
     ]
    }
   ],
   "source": [
    "import math\n",
    "\n",
    "a = 15\n",
    "b = 5\n",
    "\n",
    "print (\"The gcd of 5 and 15 is : \", math.gcd(b, a))\n"
   ]
  },
  {
   "cell_type": "markdown",
   "id": "bb519418",
   "metadata": {},
   "source": [
    "### Finding the absolute value\n",
    "`fabs()` function returns the absolute value of the number."
   ]
  },
  {
   "cell_type": "code",
   "execution_count": 18,
   "id": "04376980",
   "metadata": {},
   "outputs": [
    {
     "name": "stdout",
     "output_type": "stream",
     "text": [
      "The absolute value of -10 is :  10.0\n"
     ]
    }
   ],
   "source": [
    "import math\n",
    "\n",
    "a = -10\n",
    "b = -4\n",
    "print(\"The absolute value of -10 is : \", math.fabs(a))\n"
   ]
  },
  {
   "cell_type": "markdown",
   "id": "4127cead",
   "metadata": {},
   "source": [
    "### Finding the power of a number\n",
    "pow() function computes x**y. This function first converts its arguments into float and then computes the power."
   ]
  },
  {
   "cell_type": "code",
   "execution_count": 19,
   "id": "05d91fae",
   "metadata": {},
   "outputs": [
    {
     "name": "stdout",
     "output_type": "stream",
     "text": [
      "The value of 3**4 is :  81.0\n"
     ]
    }
   ],
   "source": [
    "import math\n",
    "print (\"The value of 3**4 is : \",math.pow(3,4))"
   ]
  },
  {
   "cell_type": "code",
   "execution_count": 25,
   "id": "6b866a53",
   "metadata": {},
   "outputs": [
    {
     "data": {
      "text/plain": [
       "1"
      ]
     },
     "execution_count": 25,
     "metadata": {},
     "output_type": "execute_result"
    }
   ],
   "source": [
    "pow(3,0)"
   ]
  },
  {
   "cell_type": "markdown",
   "id": "f8da0d7e",
   "metadata": {},
   "source": [
    "### Finding the Logarithm\n",
    "`log()` function returns the logarithmic value of a with base b. If the base is not mentioned, the computed value is of the natural log.\n",
    "\n",
    "`log2(a)` function computes value of log a with base 2. This value is more accurate than the value of the function discussed above.\n",
    "\n",
    "`log10(a)` function computes value of log a with base 10. This value is more accurate than the value of the function discussed above."
   ]
  },
  {
   "cell_type": "code",
   "execution_count": 12,
   "id": "bccc8a50",
   "metadata": {},
   "outputs": [
    {
     "name": "stdout",
     "output_type": "stream",
     "text": [
      "The value of log 2 with base 3 is : 0.6309297535714574\n",
      "The value of log2 of 16 is : 4.0\n",
      "The value of log10 of 10000 is : 4.0\n"
     ]
    },
    {
     "data": {
      "text/plain": [
       "float"
      ]
     },
     "execution_count": 12,
     "metadata": {},
     "output_type": "execute_result"
    }
   ],
   "source": [
    "import math\n",
    "\n",
    "print (\"The value of log 2 with base 3 is : \", end=\"\")\n",
    "print (math.log(2,3))\n",
    "\n",
    "# returning the log2 of 16\n",
    "print (\"The value of log2 of 16 is : \", end=\"\")\n",
    "print (math.log2(16))\n",
    "\n",
    "# returning the log10 of 10000\n",
    "print (\"The value of log10 of 10000 is : \", end=\"\")\n",
    "print (math.log10(10000))\n",
    "type(math.log10(10))"
   ]
  },
  {
   "cell_type": "markdown",
   "id": "2ce1ecd4",
   "metadata": {},
   "source": [
    "### Finding the Square root\n",
    "`sqrt()` function returns the square root of the number. "
   ]
  },
  {
   "cell_type": "code",
   "execution_count": 18,
   "id": "1729cd9c",
   "metadata": {},
   "outputs": [
    {
     "name": "stdout",
     "output_type": "stream",
     "text": [
      "0.0\n",
      "2.0\n",
      "1.8708286933869707\n"
     ]
    }
   ],
   "source": [
    "import math\n",
    "\n",
    "# print the square root of 0\n",
    "print(math.sqrt(0))\n",
    "\n",
    "# print the square root of 4\n",
    "print(math.sqrt(4))\n",
    "\n",
    "# print the square root of 3.5\n",
    "print(math.sqrt(3.5))\n"
   ]
  },
  {
   "cell_type": "markdown",
   "id": "4c82e880",
   "metadata": {},
   "source": [
    "### Finding sine, cosine, and tangent\n",
    "`sin(), cos(), and tan()` functions returns the sine, cosine, and tangent of value passed as the argument. The value passed in this function should be in radians."
   ]
  },
  {
   "cell_type": "code",
   "execution_count": 24,
   "id": "923c5588",
   "metadata": {},
   "outputs": [
    {
     "name": "stdout",
     "output_type": "stream",
     "text": [
      "The value of sine of pi/6 is : 0.49999999999999994\n",
      "The value of cosine of pi/6 is : 0.8660254037844387\n",
      "The value of tangent of pi/6 is : 0.5773502691896257\n"
     ]
    }
   ],
   "source": [
    "import math\n",
    "\n",
    "a = math.pi/6\n",
    "\n",
    "# returning the value of sine of pi/6\n",
    "print (\"The value of sine of pi/6 is : \", end=\"\")\n",
    "print (math.sin(a))\n",
    "\n",
    "# returning the value of cosine of pi/6\n",
    "print (\"The value of cosine of pi/6 is : \", end=\"\")\n",
    "print (math.cos(a))\n",
    "\n",
    "# returning the value of tangent of pi/6\n",
    "print (\"The value of tangent of pi/6 is : \", end=\"\")\n",
    "print (math.tan(a))\n"
   ]
  },
  {
   "cell_type": "markdown",
   "id": "c4c18119",
   "metadata": {},
   "source": [
    "### Converting values from degrees to radians and vice versa\n",
    "`degrees()` function is used to convert argument value from radians to degrees.\n",
    "\n",
    "`radians()` function is used to convert argument value from degrees to radians."
   ]
  },
  {
   "cell_type": "code",
   "execution_count": 34,
   "id": "d02790e8",
   "metadata": {},
   "outputs": [
    {
     "name": "stdout",
     "output_type": "stream",
     "text": [
      "The converted value from radians to degrees is : 29.999999999999996\n",
      "The converted value from degrees to radians is : 1.5707963267948966\n"
     ]
    }
   ],
   "source": [
    "import math\n",
    "\n",
    "a = math.pi/6\n",
    "b = 90\n",
    "\n",
    "# returning the converted value from radians to degrees\n",
    "print (\"The converted value from radians to degrees is : \", end=\"\")\n",
    "print (math.degrees(a))\n",
    "\n",
    "# returning the converted value from degrees to radians\n",
    "print (\"The converted value from degrees to radians is : \", end=\"\")\n",
    "print (math.radians(b))\n"
   ]
  },
  {
   "cell_type": "markdown",
   "id": "09f01bfd",
   "metadata": {},
   "source": [
    "### Check if the value is infinity or NaN\n",
    "`isinf()` function is used to check whether the value is infinity or not.\n",
    "\n",
    "`isnan()` function returns true if the number is “NaN” else returns false.\n"
   ]
  },
  {
   "cell_type": "code",
   "execution_count": 36,
   "id": "bbd60b53",
   "metadata": {},
   "outputs": [
    {
     "name": "stdout",
     "output_type": "stream",
     "text": [
      "False\n",
      "False\n",
      "True\n"
     ]
    }
   ],
   "source": [
    "import math\n",
    "\n",
    "print (math.isinf(math.pi))\n",
    "print (math.isinf(math.e))\n",
    "\n",
    "# checking for NaN value\n",
    "print (math.isinf(float('inf')))\n"
   ]
  },
  {
   "cell_type": "code",
   "execution_count": 35,
   "id": "39e50f86",
   "metadata": {},
   "outputs": [
    {
     "name": "stdout",
     "output_type": "stream",
     "text": [
      "False\n",
      "False\n",
      "True\n"
     ]
    }
   ],
   "source": [
    "import math\n",
    "\n",
    "print (math.isnan(math.pi))\n",
    "print (math.isnan(math.e))\n",
    "\n",
    "# checking for NaN value\n",
    "print (math.isnan(float('nan')))\n"
   ]
  }
 ],
 "metadata": {
  "kernelspec": {
   "display_name": "Python 3 (ipykernel)",
   "language": "python",
   "name": "python3"
  },
  "language_info": {
   "codemirror_mode": {
    "name": "ipython",
    "version": 3
   },
   "file_extension": ".py",
   "mimetype": "text/x-python",
   "name": "python",
   "nbconvert_exporter": "python",
   "pygments_lexer": "ipython3",
   "version": "3.9.12"
  }
 },
 "nbformat": 4,
 "nbformat_minor": 5
}
