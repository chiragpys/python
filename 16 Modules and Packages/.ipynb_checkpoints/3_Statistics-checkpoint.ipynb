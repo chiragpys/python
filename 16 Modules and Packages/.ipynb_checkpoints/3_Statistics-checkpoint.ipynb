{
 "cells": [
  {
   "cell_type": "code",
   "execution_count": null,
   "id": "78ca2484",
   "metadata": {},
   "outputs": [],
   "source": [
    "import statistics"
   ]
  },
  {
   "cell_type": "code",
   "execution_count": null,
   "id": "d1f181fa",
   "metadata": {},
   "outputs": [],
   "source": [
    "help(statistics)"
   ]
  },
  {
   "cell_type": "markdown",
   "id": "0f77e31a",
   "metadata": {},
   "source": [
    "### Measure of Central Tendency\n",
    "The measure of central tendency is a single value that attempts to describe the whole set of data. There are three main features of central tendency.\n",
    "\n",
    "`Mean\n",
    "Median\n",
    " Median Low\n",
    " Median High\n",
    "Mode`"
   ]
  },
  {
   "cell_type": "markdown",
   "id": "929f5b8c",
   "metadata": {},
   "source": [
    "### Mean\n",
    "It is the sum of observations divided by the total number of observations. It is also defined as average which is the sum divided by count. \n",
    "\n",
    "The `mean()` function returns the `mean` or `average` of the data passed in its arguments. If the passed `argument is empty,` `StatisticsError is raised.`"
   ]
  },
  {
   "cell_type": "code",
   "execution_count": null,
   "id": "1ba558d8",
   "metadata": {},
   "outputs": [],
   "source": [
    "import statistics\n",
    "\n",
    "li = [1, 2, 3, 3, 2, 2, 2, 1]\n",
    "\n",
    "print (\"The average of list values is : \",statistics.mean(li))\n",
    "print(type(statistics.mean(li)))\n",
    "\n",
    "# print(\"Sum\", sum(li))\n",
    "# print(\"len\", len(li))\n",
    "print(\"average\", sum(li)/len(li))\n"
   ]
  },
  {
   "cell_type": "code",
   "execution_count": null,
   "id": "e0fd4650",
   "metadata": {},
   "outputs": [],
   "source": [
    "import statistics\n",
    "\n",
    "class Findmean:\n",
    "    def __init__(self, data):\n",
    "        self.data = data\n",
    "\n",
    "    def mean(self):\n",
    "        return statistics.mean(self.data)\n",
    "\n",
    "li = [1, 2, 3, 3, 2, 2, 2, 1]\n",
    "stats = Findmean(li)\n",
    "print(\"The average of list values is : \", stats.mean())\n"
   ]
  },
  {
   "cell_type": "markdown",
   "id": "0c554d0a",
   "metadata": {},
   "source": [
    "### Median\n",
    "It is the middle value of the data set. It splits the data into two halves. If the number of elements in the data set is odd then the center element is the median and if it is even then the median would be the average of two central elements.\n",
    "\n",
    "The `median()` function is used to calculate the `median`, i.e middle element of data. If the passed `argument is empty`, `StatisticsError is raised.`"
   ]
  },
  {
   "cell_type": "code",
   "execution_count": 1,
   "id": "65703347",
   "metadata": {},
   "outputs": [
    {
     "name": "stdout",
     "output_type": "stream",
     "text": [
      "Median of data-set 1 is 5\n",
      "Median of data-set 2 is 5.9\n",
      "Median of data-set 3 is -5\n",
      "Median of data-set 4 is 0.0\n",
      "Median of data-set 5 is 38.5\n"
     ]
    }
   ],
   "source": [
    "from statistics import median\n",
    "\n",
    "\n",
    "# tuple of positive integer numbers\n",
    "data1 = (2, 3, 4, 5, 7, 9, 11)\n",
    "\n",
    "# tuple of floating point values\n",
    "data2 = (2.4, 5.1, 6.7, 8.9)\n",
    "\n",
    "# tuple of a set of negative integers\n",
    "data3 = (-5, -1, -12, -19, -3)\n",
    "\n",
    "# tuple of set of positive\n",
    "# and negative integers\n",
    "data4 = (-1, -2, -3, -4, 4, 3, 2, 1)\n",
    "\n",
    "data5 = [11, 22, 33, 44, 55, 66]\n",
    "\n",
    "# Printing the median of above datasets\n",
    "print(\"Median of data-set 1 is % s\" % (median(data1)))\n",
    "print(\"Median of data-set 2 is % s\" % (median(data2)))\n",
    "print(\"Median of data-set 3 is % s\" % (median(data3)))\n",
    "print(\"Median of data-set 4 is % s\" % (median(data4)))\n",
    "print(\"Median of data-set 5 is % s\" % (median(data5)))\n"
   ]
  },
  {
   "cell_type": "code",
   "execution_count": null,
   "id": "74c46ec8",
   "metadata": {},
   "outputs": [],
   "source": [
    "import statistics\n",
    "\n",
    "class Findmedin:\n",
    "    def __init__(self, data):\n",
    "        self.data = data\n",
    "\n",
    "    def median(self):\n",
    "        return statistics.median(self.data)\n",
    "    \n",
    "    def median_low(self):\n",
    "        return statistics.median_low(self.data)\n",
    "\n",
    "    def median_high(self):\n",
    "        return statistics.median_high(self.data)\n",
    "\n",
    "li = [1, 3, 3, 4, 5, 7]\n",
    "stats = Findmedin(li)\n",
    "print(\"Median of data is : \", stats.median())\n",
    "print(\"Median Low of value is : \", stats.median_low())\n",
    "print(\"Median High of value is : \", stats.median_high())\n"
   ]
  },
  {
   "cell_type": "markdown",
   "id": "081e7342",
   "metadata": {},
   "source": [
    "### Median Low\n",
    "The `median_low()` function returns the median of data in case of odd number of elements, but in case of even number of elements, returns the `lower of two middle elements.` If the passed `argument is empty`, `StatisticsError is raised`."
   ]
  },
  {
   "cell_type": "code",
   "execution_count": null,
   "id": "f36faf2d",
   "metadata": {},
   "outputs": [],
   "source": [
    "import statistics\n",
    "\n",
    "\n",
    "set1 = [1, 3, 3, 4, 5, 7]\n",
    "\n",
    "print(\"Median of the set is % s\" % (statistics.median(set1)))\n",
    "\n",
    "# Print low median of the data-set\n",
    "print(\"Low Median of the set is % s \" % (statistics.median_low(set1)))\n"
   ]
  },
  {
   "cell_type": "markdown",
   "id": "57ddda97",
   "metadata": {},
   "source": [
    "### Median High\n",
    "The `median_high()` function returns the median of data in case of odd number of elements, but in case of even number of elements, returns the `higher of two middle elements`. If passed `argument is empty`, `StatisticsError is raised`"
   ]
  },
  {
   "cell_type": "code",
   "execution_count": null,
   "id": "38590a19",
   "metadata": {},
   "outputs": [],
   "source": [
    "import statistics\n",
    "\n",
    "set1 = [1, 3, 3, 4, 5, 7]\n",
    "\n",
    "print(\"Median of the set is %s\" % (statistics.median(set1)))\n",
    "\n",
    "# Print high median of the data-set\n",
    "print(\"High Median of the set is %s \" % (statistics.median_high(set1)))\n"
   ]
  },
  {
   "cell_type": "markdown",
   "id": "be0a92e2",
   "metadata": {},
   "source": [
    "### Mode\n",
    "It is the value that has the highest frequency in the given data set. The data set may have no mode if the frequency of all data points is the same.\n",
    "The `mode()` function returns the number with the `maximum number of occurrences`. If the passed `argument is empty`, `StatisticsError is raised`."
   ]
  },
  {
   "cell_type": "code",
   "execution_count": null,
   "id": "cb6f1353",
   "metadata": {},
   "outputs": [],
   "source": [
    "import statistics\n",
    "\n",
    "data = (1, 2, 3, 3, 5, 5, 5, 6, 6, 6, 6, 7, 8)\n",
    "\n",
    "print(f\"Mode of data set 1 is {statistics.mode(data)}\")"
   ]
  },
  {
   "cell_type": "code",
   "execution_count": null,
   "id": "4ba4b30e",
   "metadata": {},
   "outputs": [],
   "source": [
    "from statistics import mode\n",
    "\n",
    "# tuple of positive integer numbers\n",
    "data1 = (2, 3, 3, 4, 5, 5, 5, 5, 6, 6, 6, 7)\n",
    "\n",
    "# list of a set of floating point values\n",
    "data2 = [2.4, 1.3, 1.3, 1.3, 2.4, 4.6]\n",
    "\n",
    "# tuple of a set of negative integers\n",
    "data3 = (-1, -2, -2, -2, -7, -7, -9)\n",
    "\n",
    "# tuple of strings\n",
    "data4 = (\"red\", \"blue\", \"black\", \"blue\", \"black\", \"black\", \"brown\")\n",
    "\n",
    "\n",
    "print(\"Mode of data set 1 is % s\" % (mode(data1)))\n",
    "print(\"Mode of data set 2 is % s\" % (mode(data2)))\n",
    "print(\"Mode of data set 3 is % s\" % (mode(data3)))\n",
    "print(\"Mode of data set 4 is % s\" % (mode(data4)))\n"
   ]
  },
  {
   "cell_type": "code",
   "execution_count": null,
   "id": "062b1207",
   "metadata": {},
   "outputs": [],
   "source": [
    "import statistics\n",
    "\n",
    "class Findmode:\n",
    "    def __init__(self, data):\n",
    "        self.data = data\n",
    "\n",
    "    def mode(self):\n",
    "        return statistics.mode(self.data)\n",
    "\n",
    "li = [1, 2, 3, 3, 2, 2, 2, 1]\n",
    "stats = Findmode(li)\n",
    "print(\"Mode of values is : \", stats.mode())\n"
   ]
  },
  {
   "cell_type": "markdown",
   "id": "f4acd2df",
   "metadata": {},
   "source": [
    "### Range\n",
    "The difference between the largest and smallest data point in our data set is known as the range.\n",
    "\n",
    "`Range = Largest data value – smallest data value`"
   ]
  },
  {
   "cell_type": "code",
   "execution_count": null,
   "id": "e88abd5e",
   "metadata": {},
   "outputs": [],
   "source": [
    "arr = [1, 2, 3, 4, 5]\n",
    "\n",
    "Maximum = max(arr)\n",
    "Minimum = min(arr)\n",
    "\n",
    "Range = Maximum-Minimum\n",
    "print(\"Maximum = {}, Minimum = {} and Range = {}\".format(Maximum, Minimum, Range))\n"
   ]
  },
  {
   "cell_type": "markdown",
   "id": "151ebcd2",
   "metadata": {},
   "source": [
    "### Variance\n",
    "It is defined as an average squared deviation from the mean. It is calculated by finding the difference between every data point and the average which is also known as the mean, squaring them, adding all of them, and then dividing by the number of data points present in our data set."
   ]
  },
  {
   "cell_type": "code",
   "execution_count": null,
   "id": "eb19845a",
   "metadata": {},
   "outputs": [],
   "source": [
    "from statistics import variance, pvariance\n",
    "\n",
    "# tuple of a set of positive integers\n",
    "# numbers are spread apart but not very much\n",
    "sample1 = (1, 2, 5, 4, 8, 9, 12)\n",
    "\n",
    "# tuple of a set of negative integers\n",
    "sample2 = (-2, -4, -3, -1, -5, -6)\n",
    "\n",
    "\n",
    "# tuple of a set of floating point values\n",
    "sample3 = (1.23, 1.45, 2.1, 2.2, 1.9)\n",
    "\n",
    "# Print the variance of each samples\n",
    "print(\"Variance of Sample1 is % s \" % (variance(sample1)))\n",
    "print(\"Variance of Sample2 is % s \" % (variance(sample2)))\n",
    "print(\"Variance of Sample3 is % s \" % (variance(sample3)))\n",
    "print()\n",
    "\n",
    "print(\"Pvariance of Sample1 is % s \" % (pvariance(sample1)))\n",
    "print(\"Pvariance of Sample2 is % s \" % (pvariance(sample2)))\n",
    "print(\"Pvariance of Sample3 is % s \" % (pvariance(sample3)))\n"
   ]
  },
  {
   "cell_type": "code",
   "execution_count": null,
   "id": "0576b92a",
   "metadata": {},
   "outputs": [],
   "source": [
    "import statistics\n",
    "\n",
    "class Findvariance:\n",
    "    def __init__(self, data):\n",
    "        self.data = data\n",
    "\n",
    "    def variance(self):\n",
    "        return statistics.variance(self.data)\n",
    "    \n",
    "    def pvariance(self):\n",
    "        return statistics.pvariance(self.data)\n",
    "    \n",
    "li = [1, 2, 5, 4, 8, 9, 12]\n",
    "stats = Findvariance(li)\n",
    "print(\"Variance of data is : \", stats.variance())\n",
    "print(\"pvariance of data is : \", stats.pvariance())\n"
   ]
  },
  {
   "cell_type": "markdown",
   "id": "b40c3941",
   "metadata": {},
   "source": [
    "### Standard Deviation\n",
    "It is defined as the square root of the variance. It is calculated by finding the Mean, then subtracting each number from the Mean which is also known as the average, and squaring the result. Adding all the values and then dividing by the no of terms followed by the square root.\n"
   ]
  },
  {
   "cell_type": "code",
   "execution_count": null,
   "id": "24cf582c",
   "metadata": {},
   "outputs": [],
   "source": [
    "from statistics import stdev, pstdev\n",
    "\n",
    "# numbers are spread apart but not very much\n",
    "sample1 = (1, 2, 5, 4, 8, 9, 12)\n",
    "\n",
    "# tuple of a set of negative integers\n",
    "sample2 = (-2, -4, -3, -1, -5, -6)\n",
    "\n",
    "# tuple of a set of floating point values\n",
    "sample3 = (1.23, 1.45, 2.1, 2.2, 1.9)\n",
    "\n",
    "\n",
    "print(\"The Standard Deviation of Sample1 is % s\" % (stdev(sample1)))\n",
    "print(\"The Standard Deviation of Sample2 is % s\" % (stdev(sample2)))\n",
    "print(\"The Standard Deviation of Sample3 is % s\" % (stdev(sample3)))\n",
    "print()\n",
    "\n",
    "print(\"The Population Standard Deviation of Sample1 is % s\" % (pstdev(sample1)))\n",
    "print(\"The Population Standard Deviation of Sample2 is % s\" % (pstdev(sample2)))\n",
    "print(\"The Population Standard Deviation of Sample3 is % s\" % (pstdev(sample3)))"
   ]
  },
  {
   "cell_type": "code",
   "execution_count": null,
   "id": "29e64c22",
   "metadata": {},
   "outputs": [],
   "source": [
    "import statistics\n",
    "\n",
    "class FindStdev:\n",
    "    def __init__(self, data):\n",
    "        self.data = data\n",
    "\n",
    "    def stdev(self):\n",
    "        return statistics.stdev(self.data)\n",
    "    \n",
    "    def pstdev(self):\n",
    "        return statistics.pstdev(self.data)\n",
    "    \n",
    "li = [1, 2, 5, 4, 8, 9, 12]\n",
    "stats = FindStdev(li)\n",
    "print(\"The Standard Deviation of data is : \", stats.stdev())\n",
    "print(\"The Population Standard Deviation of data is : \", stats.pstdev())\n"
   ]
  },
  {
   "cell_type": "code",
   "execution_count": null,
   "id": "ce708493",
   "metadata": {},
   "outputs": [],
   "source": []
  }
 ],
 "metadata": {
  "kernelspec": {
   "display_name": "Python 3 (ipykernel)",
   "language": "python",
   "name": "python3"
  },
  "language_info": {
   "codemirror_mode": {
    "name": "ipython",
    "version": 3
   },
   "file_extension": ".py",
   "mimetype": "text/x-python",
   "name": "python",
   "nbconvert_exporter": "python",
   "pygments_lexer": "ipython3",
   "version": "3.9.12"
  }
 },
 "nbformat": 4,
 "nbformat_minor": 5
}
