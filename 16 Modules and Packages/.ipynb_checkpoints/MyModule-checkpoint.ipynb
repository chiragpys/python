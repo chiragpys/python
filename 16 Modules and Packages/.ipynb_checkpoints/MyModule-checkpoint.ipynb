{
 "cells": [
  {
   "cell_type": "code",
   "execution_count": null,
   "id": "f2b21f34",
   "metadata": {},
   "outputs": [],
   "source": [
    "%%writefile mymodule.py\n",
    "\n",
    "class calculator():\n",
    "    \n",
    "    def __init__(self,*args, **kwargs):\n",
    "        self.args = args\n",
    "        self.kwargs = kwargs\n",
    "        self.history = []\n",
    "        \n",
    "        \n",
    "    def add(self):\n",
    "        return sum(self.args)\n",
    "    \n",
    "    def sub(self):\n",
    "        subtrc = self.args[0]\n",
    "        for i in self.args[1:]:\n",
    "            subtrc -= i\n",
    "        return subtrc\n",
    "    \n",
    "    def mul(self):\n",
    "        product = 1\n",
    "        for a in self.args:\n",
    "            product *= a\n",
    "        return product\n",
    "    \n",
    "    def div(self):\n",
    "        division = self.args[0]\n",
    "        for i in self.args[1:]:\n",
    "            division /= i\n",
    "        return division\n",
    "    \n",
    "\n",
    "class LengthConverter:\n",
    "    CONVERSION_FACTORS = {\n",
    "        'km': 1000,\n",
    "        'm': 1,\n",
    "        'mm': 0.001,\n",
    "        'cm': 0.01,\n",
    "    }\n",
    "\n",
    "    def __init__(self, value, from_unit, to_unit):\n",
    "        self.value = value\n",
    "        self.from_unit = from_unit\n",
    "        self.to_unit = to_unit\n",
    "        \n",
    "    def convert(self):\n",
    "        if self.from_unit not in self.CONVERSION_FACTORS or self.to_unit not in self.CONVERSION_FACTORS:\n",
    "            return None\n",
    "        \n",
    "        meters = self.value * self.CONVERSION_FACTORS[self.from_unit]\n",
    "        converted_value = meters / self.CONVERSION_FACTORS[self.to_unit]\n",
    "        \n",
    "        return converted_value\n",
    "\n"
   ]
  },
  {
   "cell_type": "code",
   "execution_count": null,
   "id": "1a1b12d0",
   "metadata": {},
   "outputs": [],
   "source": [
    "import mymodule"
   ]
  },
  {
   "cell_type": "code",
   "execution_count": null,
   "id": "29d5210c",
   "metadata": {},
   "outputs": [],
   "source": [
    "help(mymodule)"
   ]
  },
  {
   "cell_type": "code",
   "execution_count": null,
   "id": "1b142eb8",
   "metadata": {},
   "outputs": [],
   "source": [
    "s = mymodule.calculator(1,2,3,4,5)"
   ]
  },
  {
   "cell_type": "code",
   "execution_count": null,
   "id": "dd959861",
   "metadata": {},
   "outputs": [],
   "source": [
    "s.add()"
   ]
  },
  {
   "cell_type": "code",
   "execution_count": null,
   "id": "d75882e6",
   "metadata": {},
   "outputs": [],
   "source": [
    "c = mymodule.LengthConverter(100,'cm','mm')"
   ]
  },
  {
   "cell_type": "code",
   "execution_count": null,
   "id": "4c13a647",
   "metadata": {},
   "outputs": [],
   "source": [
    "c.convert()"
   ]
  },
  {
   "cell_type": "code",
   "execution_count": null,
   "id": "622e18fe",
   "metadata": {},
   "outputs": [],
   "source": []
  }
 ],
 "metadata": {
  "kernelspec": {
   "display_name": "Python 3 (ipykernel)",
   "language": "python",
   "name": "python3"
  },
  "language_info": {
   "codemirror_mode": {
    "name": "ipython",
    "version": 3
   },
   "file_extension": ".py",
   "mimetype": "text/x-python",
   "name": "python",
   "nbconvert_exporter": "python",
   "pygments_lexer": "ipython3",
   "version": "3.9.12"
  }
 },
 "nbformat": 4,
 "nbformat_minor": 5
}
