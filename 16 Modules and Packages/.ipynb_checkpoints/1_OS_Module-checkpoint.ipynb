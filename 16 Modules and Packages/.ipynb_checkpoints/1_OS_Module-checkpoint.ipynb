{
 "cells": [
  {
   "cell_type": "code",
   "execution_count": null,
   "id": "020162c3",
   "metadata": {},
   "outputs": [],
   "source": [
    "import os\n",
    "cwd = os.getcwd()\n",
    "print(\"Current working directory:\", cwd)\n",
    "\n",
    "print(type(cwd))"
   ]
  },
  {
   "cell_type": "code",
   "execution_count": null,
   "id": "e277c49a",
   "metadata": {},
   "outputs": [],
   "source": [
    "dir(os)"
   ]
  },
  {
   "cell_type": "code",
   "execution_count": null,
   "id": "124d84b4",
   "metadata": {},
   "outputs": [],
   "source": [
    "import os\n",
    "class Cwd():\n",
    "    def getdir(self):\n",
    "        cwd = os.getcwd()\n",
    "        return cwd"
   ]
  },
  {
   "cell_type": "code",
   "execution_count": null,
   "id": "02b8bd10",
   "metadata": {},
   "outputs": [],
   "source": [
    "c = Cwd()\n",
    "print(\"Current working directory:\",c.getdir())"
   ]
  },
  {
   "cell_type": "markdown",
   "id": "1655e8c4",
   "metadata": {},
   "source": [
    "### Changing the Current working directory\n",
    "To change the current working directory(CWD) `os.chdir()` method is used. This method changes the CWD to a specified path. It only takes a single argument as a new directory path."
   ]
  },
  {
   "cell_type": "code",
   "execution_count": null,
   "id": "108dbf3c",
   "metadata": {},
   "outputs": [],
   "source": [
    "import os\n",
    "\n",
    "def current_path():\n",
    "    print(\"Current working directory before\")\n",
    "    print(os.getcwd())\n",
    "    print()\n",
    "\n",
    "current_path()\n",
    "\n",
    "os.chdir('../')\n",
    "\n",
    "current_path()\n"
   ]
  },
  {
   "cell_type": "code",
   "execution_count": null,
   "id": "b9fb2f0d",
   "metadata": {},
   "outputs": [],
   "source": [
    "os.chdir('16 Modules and Packages')\n",
    "print(os.getcwd())"
   ]
  },
  {
   "cell_type": "code",
   "execution_count": null,
   "id": "ee524a55",
   "metadata": {},
   "outputs": [],
   "source": [
    "import os\n",
    "class Change_dir():\n",
    "    def current_path(self):\n",
    "        return os.getcwd()\n",
    "    \n",
    "    def change_path(self,path):\n",
    "        os.chdir(path)\n",
    "        return os.getcwd()\n",
    "    "
   ]
  },
  {
   "cell_type": "code",
   "execution_count": null,
   "id": "051a829f",
   "metadata": {},
   "outputs": [],
   "source": [
    "c = Change_dir()\n",
    "print(\"Current working directory:\", c.current_path())\n",
    "print(\"Change working directory:\", c.change_path('../'))"
   ]
  },
  {
   "cell_type": "markdown",
   "id": "6a507a78",
   "metadata": {},
   "source": [
    "### Creating a Directory\n",
    "os.mkdir() os.makedirs()"
   ]
  },
  {
   "cell_type": "markdown",
   "id": "d018b270",
   "metadata": {},
   "source": [
    "#### os.mkdir()\n",
    "os.mkdir() method in Python is used to create a directory named path with the specified numeric mode. This method raises FileExistsError if the directory to be created already exists."
   ]
  },
  {
   "cell_type": "code",
   "execution_count": null,
   "id": "e376ee68",
   "metadata": {},
   "outputs": [],
   "source": [
    "import os \n",
    "\n",
    "directory = \"pythonos\"\n",
    "\n",
    "parent_dir = 'C:\\\\Users\\\\chira\\\\Desktop\\\\Pysquad\\\\16 Modules and Packages'\n",
    "\n",
    "path = os.path.join(parent_dir, directory)\n",
    "\n",
    "os.mkdir(path)\n",
    "print(os.getcwd())\n",
    "\n",
    "# os.mkdir(<path>, mode=0o777)     # Creates a directory. Mode is in octal and permission"
   ]
  },
  {
   "cell_type": "code",
   "execution_count": null,
   "id": "48e1f0c9",
   "metadata": {},
   "outputs": [],
   "source": [
    "import os\n",
    "\n",
    "class DirectoryCreator:\n",
    "    def __init__(self, directory, parent_dir):\n",
    "        self.directory = directory\n",
    "        self.parent_dir = parent_dir\n",
    "        \n",
    "    def create_directory(self):\n",
    "        try:\n",
    "            path = os.path.join(self.parent_dir, self.directory)\n",
    "            os.mkdir(path)\n",
    "            return os.getcwd()\n",
    "        except Exception as e:\n",
    "            return e\n"
   ]
  },
  {
   "cell_type": "code",
   "execution_count": null,
   "id": "a1fe7b5e",
   "metadata": {
    "scrolled": true
   },
   "outputs": [],
   "source": [
    "directory = \"chirag\"\n",
    "parent_dir = 'C:\\\\Users\\\\chira\\\\Desktop\\\\Pysquad\\\\16 Modules and Packages'\n",
    "\n",
    "create = DirectoryCreator(directory,parent_dir)\n",
    "create.create_directory()"
   ]
  },
  {
   "cell_type": "markdown",
   "id": "c8f49d1f",
   "metadata": {},
   "source": [
    "### os.makedirs()\n",
    "`os.makedirs()` method in Python is used to create a directory recursively. That means while making leaf directory if any intermediate-level directory is missing, `os.makedirs()` method will create them all."
   ]
  },
  {
   "cell_type": "code",
   "execution_count": null,
   "id": "c66c8e69",
   "metadata": {},
   "outputs": [],
   "source": [
    "import os\n",
    "\n",
    "directory = \"pythonos\"\n",
    "\n",
    "parent_dir = 'C:\\\\Users\\\\chira\\\\Desktop\\\\Pysquad\\\\16 Modules and Packages'\n",
    "\n",
    "path = os.path.join(parent_dir, directory)\n",
    "\n",
    "os.makedirs(path)\n",
    "print(os.getcwd())"
   ]
  },
  {
   "cell_type": "code",
   "execution_count": null,
   "id": "182f2ffd",
   "metadata": {},
   "outputs": [],
   "source": [
    "import os\n",
    "\n",
    "class DirectoryCreator_Makedirs:\n",
    "    def __init__(self, directory, parent_dir):\n",
    "        self.directory = directory\n",
    "        self.parent_dir = parent_dir\n",
    "        \n",
    "    def create_directory(self):\n",
    "        try:\n",
    "            path = os.path.join(self.parent_dir, self.directory)\n",
    "            os.makedirs(path)\n",
    "            return os.getcwd()\n",
    "        except Exception as e:\n",
    "            return e\n"
   ]
  },
  {
   "cell_type": "code",
   "execution_count": null,
   "id": "92e78249",
   "metadata": {},
   "outputs": [],
   "source": [
    "directory = \"chirag\"\n",
    "parent_dir = 'C:\\\\Users\\\\chira\\\\Desktop\\\\Pysquad\\\\16 Modules and Packages'\n",
    "\n",
    "create = DirectoryCreator_Makedirs(directory,parent_dir)\n",
    "create.create_directory()"
   ]
  },
  {
   "cell_type": "markdown",
   "id": "7369b355",
   "metadata": {},
   "source": [
    "### Listing out Files and Directories with Python\n",
    "`os.listdir()` method in Python is used to get the list of all files and directories in the specified directory."
   ]
  },
  {
   "cell_type": "code",
   "execution_count": null,
   "id": "bc399b60",
   "metadata": {},
   "outputs": [],
   "source": [
    "import os\n",
    "\n",
    "path = \"C:\\\\Users\\\\chira\\\\Desktop\\\\Pysquad\"\n",
    "dir_list = os.listdir(path)\n",
    "\n",
    "print(\"Files and directories in '\", path, \"' :\")\n",
    "\n",
    "# print the list\n",
    "print(dir_list)\n",
    "print(type(dir_list))\n",
    "\n",
    "# for i in dir_list:\n",
    "#     print(i)\n"
   ]
  },
  {
   "cell_type": "markdown",
   "id": "945ba3a0",
   "metadata": {},
   "source": [
    "### Deleting Directory or Files\n",
    "`Using os.remove()` `Using os.rmdir()`"
   ]
  },
  {
   "cell_type": "markdown",
   "id": "f9e18dae",
   "metadata": {},
   "source": [
    "### os.remove()\n",
    "`os.remove()` method in Python is used to remove or delete a file path. This method can not remove or delete a directory. If the specified path is a directory then OSError will be raised by the method."
   ]
  },
  {
   "cell_type": "code",
   "execution_count": null,
   "id": "ec45cb84",
   "metadata": {},
   "outputs": [],
   "source": [
    "import os \n",
    "\n",
    "file = 'f1.txt'\n",
    "\n",
    "location = 'C:\\\\Users\\\\chira\\\\Desktop\\\\Pysquad\\\\16 Modules and Packages'\n",
    "\n",
    "path = os.path.join(location, file)\n",
    "\n",
    "os.remove(path)\n"
   ]
  },
  {
   "cell_type": "markdown",
   "id": "a469bc36",
   "metadata": {},
   "source": [
    "### os.rmdir()\n",
    "`os.rmdir()` method in Python is used to remove or delete an empty directory. OSError will be raised if the specified path is not an empty directory."
   ]
  },
  {
   "cell_type": "code",
   "execution_count": null,
   "id": "38c6affc",
   "metadata": {},
   "outputs": [],
   "source": [
    "import os \n",
    "\n",
    "file = 'chirag'\n",
    "\n",
    "location = 'C:\\\\Users\\\\chira\\\\Desktop\\\\Pysquad\\\\16 Modules and Packages'\n",
    "\n",
    "path = os.path.join(location, file)\n",
    "\n",
    "os.rmdir(path)"
   ]
  },
  {
   "cell_type": "code",
   "execution_count": null,
   "id": "f32004e7",
   "metadata": {},
   "outputs": [],
   "source": [
    "import os\n",
    "\n",
    "class DirectoryDelete:\n",
    "    def __init__(self, file, location):\n",
    "        self.file = file\n",
    "        self.location = location\n",
    "        \n",
    "    def remove_files(self):\n",
    "        try:\n",
    "            path = os.path.join(self.location, self.file)\n",
    "            os.remove(path)\n",
    "            return f\"{self.file} Delete successfully\"\n",
    "        except Exception as e:\n",
    "            return e\n",
    "    \n",
    "    def remove_directory(self):\n",
    "        try:\n",
    "            path = os.path.join(self.location, self.file)\n",
    "            os.rmdir(path)\n",
    "            return f\"{self.file} Delete successfully\"\n",
    "        except Exception as e:\n",
    "            return e"
   ]
  },
  {
   "cell_type": "code",
   "execution_count": null,
   "id": "da60bbee",
   "metadata": {},
   "outputs": [],
   "source": [
    "file = 'f3.txt'\n",
    "location = 'C:\\\\Users\\\\chira\\\\Desktop\\\\Pysquad\\\\16 Modules and Packages'\n",
    "\n",
    "remove = DirectoryDelete(file,location)"
   ]
  },
  {
   "cell_type": "code",
   "execution_count": null,
   "id": "7cea90c9",
   "metadata": {},
   "outputs": [],
   "source": [
    "remove.remove_directory()"
   ]
  },
  {
   "cell_type": "code",
   "execution_count": null,
   "id": "076e8b50",
   "metadata": {},
   "outputs": [],
   "source": [
    "remove.remove_files()"
   ]
  },
  {
   "cell_type": "code",
   "execution_count": null,
   "id": "1b0cde59",
   "metadata": {
    "scrolled": true
   },
   "outputs": [],
   "source": [
    "import os \n",
    "print(os.name)"
   ]
  },
  {
   "cell_type": "markdown",
   "id": "18388ae7",
   "metadata": {},
   "source": [
    "### os.rename()\n",
    "A file old.txt can be renamed to new.txt, using the function os.rename()."
   ]
  },
  {
   "cell_type": "code",
   "execution_count": null,
   "id": "d2f0783b",
   "metadata": {},
   "outputs": [],
   "source": [
    "import os\n",
    "\n",
    "fd = \"f1.txt\"\n",
    "os.rename(fd,'New.txt')\n",
    "# os.rename(fd,'New.txt')\n"
   ]
  },
  {
   "cell_type": "markdown",
   "id": "790c614e",
   "metadata": {},
   "source": [
    "### os.path.exists()\n",
    "This method will check whether a file exists or not by passing the name of the file as a parameter."
   ]
  },
  {
   "cell_type": "code",
   "execution_count": null,
   "id": "b2b25632",
   "metadata": {},
   "outputs": [],
   "source": [
    "import os\n",
    "\n",
    "result = os.path.exists(\"1_OS_Module.ipynb\") #giving the name of the file as a parameter.\n",
    "\n",
    "print(result)\n"
   ]
  },
  {
   "cell_type": "code",
   "execution_count": null,
   "id": "a4049270",
   "metadata": {},
   "outputs": [],
   "source": []
  }
 ],
 "metadata": {
  "kernelspec": {
   "display_name": "Python 3 (ipykernel)",
   "language": "python",
   "name": "python3"
  },
  "language_info": {
   "codemirror_mode": {
    "name": "ipython",
    "version": 3
   },
   "file_extension": ".py",
   "mimetype": "text/x-python",
   "name": "python",
   "nbconvert_exporter": "python",
   "pygments_lexer": "ipython3",
   "version": "3.9.12"
  }
 },
 "nbformat": 4,
 "nbformat_minor": 5
}
