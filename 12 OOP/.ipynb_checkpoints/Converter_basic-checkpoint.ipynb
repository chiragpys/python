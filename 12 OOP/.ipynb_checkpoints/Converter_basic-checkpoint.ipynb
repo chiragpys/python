{
 "cells": [
  {
   "cell_type": "code",
   "execution_count": 1,
   "id": "f319960c",
   "metadata": {},
   "outputs": [],
   "source": [
    "class Converter():\n",
    "    \n",
    "    def __init__(self,number):\n",
    "        self.number = number\n",
    "    \n",
    "    def km_to_m(self):\n",
    "        return self.number*1000\n",
    "    \n",
    "    def m_to_cm(self):\n",
    "        return self.number*100\n",
    "    \n",
    "    def cm_to_mm(self):\n",
    "        return self.number*10\n",
    "    \n",
    "    def mm_to_cm(self):\n",
    "        return self.number/10\n",
    "    \n",
    "    def cm_to_m(self):\n",
    "        return self.number/100\n",
    "    \n",
    "    def m_to_km(self):\n",
    "        return self.number/1000\n",
    "    \n",
    "    def mm_to_m(self):\n",
    "        return self.number/1000\n",
    "    \n",
    "    def m_to_mm(self):\n",
    "        return self.number*1000\n",
    "    \n",
    "    \n"
   ]
  },
  {
   "cell_type": "code",
   "execution_count": 6,
   "id": "f1a542ab",
   "metadata": {},
   "outputs": [
    {
     "data": {
      "text/plain": [
       "1000"
      ]
     },
     "execution_count": 6,
     "metadata": {},
     "output_type": "execute_result"
    }
   ],
   "source": [
    "obj = Converter(1)\n",
    "round(obj.km_to_m(), 5)"
   ]
  },
  {
   "cell_type": "code",
   "execution_count": 2,
   "id": "74582223",
   "metadata": {},
   "outputs": [
    {
     "name": "stdout",
     "output_type": "stream",
     "text": [
      "** UNIT CONVERTER **\n",
      "\n",
      "1) km -> mi\n",
      "2) mi -> cm\n",
      "3) cm -> mm\n",
      "4) mm -> cm\n",
      "5) cm -> mi\n",
      "6) mi -> km\n",
      "7) mm -> mi\n",
      "8) mi -> mm\n",
      "\n",
      "Enter the number of the conversion to use --> 1\n",
      "\n",
      "Enter km --> 22\n",
      "\n",
      "22.0 km -> 22000.0 mi\n"
     ]
    }
   ],
   "source": [
    "print(\"** UNIT CONVERTER **\")\n",
    "conversion = [\n",
    "    (1, 'km', 'mi'),\n",
    "    (2, 'mi', 'cm'),\n",
    "    (3, 'cm', 'mm'),\n",
    "    (4, 'mm', 'cm'),\n",
    "    (5, 'cm', 'mi'),\n",
    "    (6, 'mi', 'km'),\n",
    "    (7, 'mm', 'mi'),\n",
    "    (8, 'mi', 'mm'),\n",
    "]\n",
    "print()\n",
    "\n",
    "for conve_num, from_unit, to_unit in conversion:\n",
    "    print(f\"{conve_num}) {from_unit} -> {to_unit}\")\n",
    "print()\n",
    "\n",
    "num_covrs = input(\"Enter the number of the conversion to use --> \")\n",
    "conves_index = int(num_covrs) -1\n",
    "\n",
    "num, from_unit, to_unit = conversion[conves_index]\n",
    "print()\n",
    "\n",
    "value = float(input(f\"Enter {from_unit} --> \"))\n",
    "print()\n",
    "\n",
    "obj = Converter(value)\n",
    "\n",
    "if num == 1:\n",
    "    to_val = obj.km_to_m()\n",
    "    print(f'{value} {from_unit} -> {to_val} {to_unit}')\n",
    "    \n",
    "elif num == 2:\n",
    "    to_val = obj.m_to_cm()\n",
    "    print(f'{value} {from_unit} -> {to_val} {to_unit}')\n",
    "    \n",
    "elif num == 3:\n",
    "    to_val = obj.cm_to_mm()\n",
    "    print(f'{value} {from_unit} -> {to_val} {to_unit}')\n",
    "\n",
    "elif num == 4:\n",
    "    to_val = obj.mm_to_cm()\n",
    "    print(f'{value} {from_unit} -> {to_val} {to_unit}')\n",
    "\n",
    "elif num == 5:\n",
    "    to_val = obj.cm_to_m()\n",
    "    print(f'{value} {from_unit} -> {to_val} {to_unit}')\n",
    "\n",
    "elif num == 6:\n",
    "    to_val = obj.m_to_km()\n",
    "    print(f'{value} {from_unit} -> {to_val} {to_unit}')\n",
    "\n",
    "elif num == 7:\n",
    "    to_val = obj.mm_to_m()\n",
    "    print(f'{value} {from_unit} -> {to_val} {to_unit}')\n",
    "\n",
    "elif num == 8:\n",
    "    to_val = obj.m_to_mm()\n",
    "    print(f'{value} {from_unit} -> {to_val} {to_unit}')\n"
   ]
  },
  {
   "cell_type": "code",
   "execution_count": null,
   "id": "74c38c5e",
   "metadata": {},
   "outputs": [],
   "source": []
  },
  {
   "cell_type": "code",
   "execution_count": null,
   "id": "b3ccb835",
   "metadata": {},
   "outputs": [],
   "source": []
  },
  {
   "cell_type": "code",
   "execution_count": null,
   "id": "75b5e106",
   "metadata": {},
   "outputs": [],
   "source": []
  }
 ],
 "metadata": {
  "kernelspec": {
   "display_name": "Python 3 (ipykernel)",
   "language": "python",
   "name": "python3"
  },
  "language_info": {
   "codemirror_mode": {
    "name": "ipython",
    "version": 3
   },
   "file_extension": ".py",
   "mimetype": "text/x-python",
   "name": "python",
   "nbconvert_exporter": "python",
   "pygments_lexer": "ipython3",
   "version": "3.9.12"
  }
 },
 "nbformat": 4,
 "nbformat_minor": 5
}
