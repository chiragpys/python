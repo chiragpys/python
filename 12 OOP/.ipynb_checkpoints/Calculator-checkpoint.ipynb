{
 "cells": [
  {
   "cell_type": "code",
   "execution_count": 31,
   "id": "856c988b",
   "metadata": {},
   "outputs": [],
   "source": [
    "class calculator():\n",
    "    \n",
    "    def __init__(self,*args, **kwargs):\n",
    "        self.args = args\n",
    "        self.kwargs = kwargs\n",
    "        self.history = []\n",
    "        \n",
    "    def record_history(self, *args):\n",
    "        self.history.append(args)\n",
    "        \n",
    "    def add(self):\n",
    "        return sum(self.args)\n",
    "    \n",
    "    def sub(self):\n",
    "        subtrc = self.args[0]\n",
    "        for i in self.args[1:]:\n",
    "            subtrc -= i\n",
    "        return subtrc\n",
    "    \n",
    "    def mul(self):\n",
    "        product = 1\n",
    "        for a in self.args:\n",
    "            product *= a\n",
    "        return product\n",
    "    \n",
    "    def div(self):\n",
    "        division = self.args[0]\n",
    "        for i in self.args[1:]:\n",
    "            division /= i\n",
    "        return division\n"
   ]
  },
  {
   "cell_type": "code",
   "execution_count": 33,
   "id": "33eb63ea",
   "metadata": {},
   "outputs": [
    {
     "name": "stdout",
     "output_type": "stream",
     "text": [
      "Welcome to calculator\n",
      "\n",
      "How many number you have to Enter: 2\n",
      "Enter a Number 1: 11\n",
      "Enter a Number 2: 22\n",
      "[11, 22]\n",
      "0. Exit\n",
      "1. Add\n",
      "2. Subtraction\n",
      "3. Multiplication\n",
      "4. Division\n",
      "Enter choice: 1\n",
      "Result of Add:  33 None\n",
      "0. Exit\n",
      "1. Add\n",
      "2. Subtraction\n",
      "3. Multiplication\n",
      "4. Division\n",
      "Enter choice: 0\n",
      "Exiting!\n",
      "\n"
     ]
    }
   ],
   "source": [
    "print(\"Welcome to calculator\\n\")\n",
    "n = int(input(\"How many number you have to Enter: \"))\n",
    "li1 = [int(input(f\"Enter a Number {i}: \")) for i in range(1, n+1)]\n",
    "print(li1)\n",
    "\n",
    "obj=calculator(*li1)\n",
    "choice=1\n",
    "\n",
    "while choice!=0:\n",
    "    print(\"0. Exit\")\n",
    "    print(\"1. Add\")\n",
    "    print(\"2. Subtraction\")\n",
    "    print(\"3. Multiplication\")\n",
    "    print(\"4. Division\")\n",
    "    choice=int(input(\"Enter choice: \"))\n",
    "    if choice==1:\n",
    "        r = print(\"Result of Add: \",obj.add(), obj.record_history())\n",
    "    elif choice==2:\n",
    "        print(\"Result of Subtraction: \",obj.sub())\n",
    "    elif choice==3:\n",
    "        print(\"Result of Multiplication: \",obj.mul())\n",
    "    elif choice==4:\n",
    "        print(\"Result of Division: \",round(obj.div(),2))\n",
    "    elif choice==0:\n",
    "        print(\"Exiting!\")\n",
    "    else:\n",
    "        print(\"Invalid choice!!\")\n",
    "print()"
   ]
  },
  {
   "cell_type": "code",
   "execution_count": 34,
   "id": "a2689b97",
   "metadata": {},
   "outputs": [
    {
     "data": {
      "text/plain": [
       "[()]"
      ]
     },
     "execution_count": 34,
     "metadata": {},
     "output_type": "execute_result"
    }
   ],
   "source": [
    "obj.history"
   ]
  },
  {
   "cell_type": "code",
   "execution_count": null,
   "id": "fb57c747",
   "metadata": {},
   "outputs": [],
   "source": []
  }
 ],
 "metadata": {
  "kernelspec": {
   "display_name": "Python 3 (ipykernel)",
   "language": "python",
   "name": "python3"
  },
  "language_info": {
   "codemirror_mode": {
    "name": "ipython",
    "version": 3
   },
   "file_extension": ".py",
   "mimetype": "text/x-python",
   "name": "python",
   "nbconvert_exporter": "python",
   "pygments_lexer": "ipython3",
   "version": "3.9.12"
  }
 },
 "nbformat": 4,
 "nbformat_minor": 5
}
