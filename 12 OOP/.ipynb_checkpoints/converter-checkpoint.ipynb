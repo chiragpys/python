{
 "cells": [
  {
   "cell_type": "code",
   "execution_count": 14,
   "id": "8ac6d7c7",
   "metadata": {},
   "outputs": [],
   "source": [
    "class LengthConverter:\n",
    "    CONVERSION_FACTORS = {\n",
    "        'km': 1000,\n",
    "        'm': 1,\n",
    "        'mm': 0.001,\n",
    "        'cm': 0.01,\n",
    "    }\n",
    "\n",
    "    def __init__(self, value, from_unit, to_unit):\n",
    "        self.value = value\n",
    "        self.from_unit = from_unit\n",
    "        self.to_unit = to_unit\n",
    "        \n",
    "    def convert(self):\n",
    "        if self.from_unit not in self.CONVERSION_FACTORS or self.to_unit not in self.CONVERSION_FACTORS:\n",
    "            return None\n",
    "        \n",
    "        meters = self.value * self.CONVERSION_FACTORS[self.from_unit]\n",
    "        converted_value = meters / self.CONVERSION_FACTORS[self.to_unit]\n",
    "        \n",
    "        return converted_value\n"
   ]
  },
  {
   "cell_type": "code",
   "execution_count": 22,
   "id": "ce5bb706",
   "metadata": {},
   "outputs": [
    {
     "name": "stdout",
     "output_type": "stream",
     "text": [
      "10 mm is equal to 1.000 cm.\n"
     ]
    }
   ],
   "source": [
    "converter1 = LengthConverter(10, 'mm', 'cm')\n",
    "m = converter1.convert()\n",
    "print(f\"{converter1.value} {converter1.from_unit} is equal to {m:.3f} {converter1.to_unit}.\")"
   ]
  },
  {
   "cell_type": "code",
   "execution_count": null,
   "id": "ae76c321",
   "metadata": {},
   "outputs": [],
   "source": []
  }
 ],
 "metadata": {
  "kernelspec": {
   "display_name": "Python 3 (ipykernel)",
   "language": "python",
   "name": "python3"
  },
  "language_info": {
   "codemirror_mode": {
    "name": "ipython",
    "version": 3
   },
   "file_extension": ".py",
   "mimetype": "text/x-python",
   "name": "python",
   "nbconvert_exporter": "python",
   "pygments_lexer": "ipython3",
   "version": "3.9.12"
  }
 },
 "nbformat": 4,
 "nbformat_minor": 5
}
