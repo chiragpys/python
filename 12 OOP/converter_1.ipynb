{
 "cells": [
  {
   "cell_type": "code",
   "execution_count": 2,
   "id": "6668dbb2",
   "metadata": {},
   "outputs": [],
   "source": [
    "class LengthConverter:\n",
    "    def __init__(self, value, unit):\n",
    "        self.value = value\n",
    "        self.unit = unit\n",
    "        \n",
    "    def to_meters(self):\n",
    "        if self.unit == 'km':\n",
    "            return self.value * 1000\n",
    "        \n",
    "        elif self.unit == 'm':\n",
    "            return self.value\n",
    "        \n",
    "        elif self.unit == 'mm':\n",
    "            return self.value / 1000\n",
    "        \n",
    "        elif self.unit == 'cm':\n",
    "            return self.value / 100\n",
    "\n",
    "        else:\n",
    "            return None\n",
    "\n",
    "    \n",
    "    def to_kilometers(self):\n",
    "        return self.to_meters() / 1000\n",
    "    \n",
    "    def to_millimeters(self):\n",
    "        return self.to_meters() * 1000\n",
    "    \n",
    "    def to_centimeters(self):\n",
    "        return self.to_meters() * 100\n"
   ]
  },
  {
   "cell_type": "code",
   "execution_count": 16,
   "id": "1791d992",
   "metadata": {},
   "outputs": [
    {
     "name": "stdout",
     "output_type": "stream",
     "text": [
      "1 meter is equal to 1000000.00 kilometers.\n"
     ]
    }
   ],
   "source": [
    "length = LengthConverter(1, 'km')\n",
    "\n",
    "kilometers = length.to_millimeters()\n",
    "print(f\"{length.value} meter is equal to {kilometers:.2f} kilometers.\")\n"
   ]
  },
  {
   "cell_type": "code",
   "execution_count": null,
   "id": "cfbd62d9",
   "metadata": {},
   "outputs": [],
   "source": []
  }
 ],
 "metadata": {
  "kernelspec": {
   "display_name": "Python 3 (ipykernel)",
   "language": "python",
   "name": "python3"
  },
  "language_info": {
   "codemirror_mode": {
    "name": "ipython",
    "version": 3
   },
   "file_extension": ".py",
   "mimetype": "text/x-python",
   "name": "python",
   "nbconvert_exporter": "python",
   "pygments_lexer": "ipython3",
   "version": "3.9.12"
  }
 },
 "nbformat": 4,
 "nbformat_minor": 5
}
