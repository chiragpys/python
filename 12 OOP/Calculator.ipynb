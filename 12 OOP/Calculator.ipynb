{
 "cells": [
  {
   "cell_type": "code",
   "execution_count": 4,
   "id": "2fe9bfc1",
   "metadata": {},
   "outputs": [],
   "source": [
    "class calculator():\n",
    "    \n",
    "    def __init__(self,*args, **kwargs):\n",
    "        self.args = args\n",
    "        self.kwargs = kwargs\n",
    "        self.history = []\n",
    "        \n",
    "        \n",
    "    def add(self):\n",
    "        return sum(self.args)\n",
    "    \n",
    "    def sub(self):\n",
    "        subtrc = self.args[0]\n",
    "        for i in self.args[1:]:\n",
    "            subtrc -= i\n",
    "        return subtrc\n",
    "    \n",
    "    def mul(self):\n",
    "        product = 1\n",
    "        for a in self.args:\n",
    "            product *= a\n",
    "        return product\n",
    "    \n",
    "    def div(self):\n",
    "        division = self.args[0]\n",
    "        for i in self.args[1:]:\n",
    "            division /= i\n",
    "        return division\n"
   ]
  },
  {
   "cell_type": "code",
   "execution_count": 16,
   "id": "7b488220",
   "metadata": {},
   "outputs": [
    {
     "name": "stdout",
     "output_type": "stream",
     "text": [
      "Welcome to calculator\n",
      "\n",
      "1.View History\n",
      "2.You can calculator\n",
      "Enter a Number: 1\n",
      "\n",
      "Result of Add:[22, 10] = 32\n"
     ]
    }
   ],
   "source": [
    "print(\"Welcome to calculator\\n\")\n",
    "# n = int(input(\"How many number you have to Enter: \"))\n",
    "# li1 = [int(input(f\"Enter a Number {i}: \")) for i in range(1, n+1)]\n",
    "# print(li1)\n",
    "# obj=calculator(*li1)\n",
    "\n",
    "print(\"1.View History\")\n",
    "print(\"2.You can calculator\")\n",
    "val = int(input(\"Enter a Number: \"))\n",
    "print()\n",
    "\n",
    "\n",
    "if val == 1:\n",
    "    for i in obj.history:\n",
    "        print(i)\n",
    "\n",
    "elif val == 2:\n",
    "    n = int(input(\"How many number you have to Enter: \"))\n",
    "    li1 = [int(input(f\"Enter a Number {i}: \")) for i in range(1, n+1)]\n",
    "    print(li1)\n",
    "    obj=calculator(*li1)\n",
    "    choice=1\n",
    "\n",
    "    while choice!=0:\n",
    "        print(\"0. Exit\")\n",
    "        print(\"1. Add\")\n",
    "        print(\"2. Subtraction\")\n",
    "        print(\"3. Multiplication\")\n",
    "        print(\"4. Division\")\n",
    "        choice=int(input(\"Enter choice: \"))\n",
    "        if choice==1:\n",
    "            print(\"Result of Add: \",obj.add())\n",
    "            msg = f\"Result of Add:{li1} = {obj.add()}\"\n",
    "            obj.history.append(msg)\n",
    "\n",
    "        elif choice==2:\n",
    "            print(\"Result of Subtraction: \",obj.sub())\n",
    "            msg = f\"Result of Subtraction: {li1} = {obj.sub()}\"\n",
    "            obj.history.append(msg)\n",
    "\n",
    "        elif choice==3:\n",
    "            print(\"Result of Multiplication: \",obj.mul())\n",
    "            msg = f\"Result of Multiplication: {li1} = {obj.mul()}\"\n",
    "            obj.history.append(msg)\n",
    "\n",
    "        elif choice==4:\n",
    "            print(\"Result of Division: \",round(obj.div(),2))\n",
    "            msg = f\"Result of Division: {li1} = {round(obj.div(),2)}\"\n",
    "            obj.history.append(msg)\n",
    "\n",
    "        elif choice==0:\n",
    "            print(\"Exiting!\")\n",
    "        else:\n",
    "            print(\"Invalid choice!!\")\n",
    "    print()\n",
    "else:\n",
    "    print(\"Invalid Number\")"
   ]
  },
  {
   "cell_type": "code",
   "execution_count": null,
   "id": "d3233895",
   "metadata": {},
   "outputs": [],
   "source": []
  },
  {
   "cell_type": "code",
   "execution_count": null,
   "id": "c2e7c33d",
   "metadata": {},
   "outputs": [],
   "source": []
  }
 ],
 "metadata": {
  "kernelspec": {
   "display_name": "Python 3 (ipykernel)",
   "language": "python",
   "name": "python3"
  },
  "language_info": {
   "codemirror_mode": {
    "name": "ipython",
    "version": 3
   },
   "file_extension": ".py",
   "mimetype": "text/x-python",
   "name": "python",
   "nbconvert_exporter": "python",
   "pygments_lexer": "ipython3",
   "version": "3.9.12"
  }
 },
 "nbformat": 4,
 "nbformat_minor": 5
}
