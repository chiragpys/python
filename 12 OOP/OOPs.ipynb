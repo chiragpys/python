{
 "cells": [
  {
   "cell_type": "code",
   "execution_count": 1,
   "id": "9a3b0880",
   "metadata": {},
   "outputs": [
    {
     "name": "stdout",
     "output_type": "stream",
     "text": [
      "<class '__main__.Data'>\n"
     ]
    }
   ],
   "source": [
    "class Data:\n",
    "    num = 3.14\n",
    "print(Data)"
   ]
  },
  {
   "cell_type": "code",
   "execution_count": 2,
   "id": "07de6ec1",
   "metadata": {},
   "outputs": [
    {
     "name": "stdout",
     "output_type": "stream",
     "text": [
      "3.14\n"
     ]
    }
   ],
   "source": [
    "var = Data()\n",
    "print(var.num)"
   ]
  },
  {
   "cell_type": "markdown",
   "id": "09fd6159",
   "metadata": {},
   "source": [
    "### Function init()"
   ]
  },
  {
   "cell_type": "code",
   "execution_count": 3,
   "id": "3c3152a3",
   "metadata": {},
   "outputs": [
    {
     "name": "stdout",
     "output_type": "stream",
     "text": [
      "2.718\n",
      "1.618\n",
      "3.14\n"
     ]
    }
   ],
   "source": [
    "class Data:\n",
    "    def __init__(self, euler_number, pi_number, golden_ratio):\n",
    "        self.euler_number = euler_number\n",
    "        self.pi_number = pi_number\n",
    "        self.golden_ratio = golden_ratio\n",
    "val = Data(2.718, 3.14, 1.618)\n",
    "print(val.euler_number)\n",
    "print(val.golden_ratio)\n",
    "print(val.pi_number)"
   ]
  },
  {
   "cell_type": "markdown",
   "id": "83dcda8b",
   "metadata": {},
   "source": [
    "### Methods"
   ]
  },
  {
   "cell_type": "code",
   "execution_count": 5,
   "id": "2b0e4148",
   "metadata": {},
   "outputs": [
    {
     "name": "stdout",
     "output_type": "stream",
     "text": [
      "The euler number is 2.718\n",
      "The golden ratio is 1.618\n",
      "The pi number is 3.14\n"
     ]
    }
   ],
   "source": [
    "class Data:\n",
    "    \n",
    "    def __init__(self, euler_number, pi_number, golden_ratio):\n",
    "        self.euler_number = euler_number\n",
    "        self.pi_number = pi_number\n",
    "        self.golden_ratio = golden_ratio\n",
    "        \n",
    "    def msg_function(self):\n",
    "        print(\"The euler number is\", self.euler_number)\n",
    "        print(\"The golden ratio is\", self.golden_ratio)\n",
    "        print(\"The pi number is\", self.pi_number)\n",
    "\n",
    "val = Data(2.718, 3.14, 1.618)\n",
    "val.msg_function()"
   ]
  },
  {
   "cell_type": "code",
   "execution_count": 22,
   "id": "dc5b287d",
   "metadata": {},
   "outputs": [
    {
     "name": "stdout",
     "output_type": "stream",
     "text": [
      "The euler number is 2.718\n",
      "The golden ratio is 1.618\n",
      "The pi number is 3.14\n"
     ]
    }
   ],
   "source": [
    "\"\"\"\n",
    "The following codes are the same as the above codes under the title 'Methods'.\n",
    "You see that the output is the same, but this codes contain 'classFirstParameter' instead of 'self'.\n",
    "\"\"\"\n",
    "class Data:\n",
    "    \n",
    "    def __init__(classFirstParameter, euler_number, pi_number, golden_ratio):\n",
    "        classFirstParameter.euler_number = euler_number\n",
    "        classFirstParameter.pi_number = pi_number\n",
    "        classFirstParameter.golden_ratio = golden_ratio\n",
    "        \n",
    "    def msg_function(classFirstParameter):\n",
    "        print(\"The euler number is\", classFirstParameter.euler_number)\n",
    "        print(\"The golden ratio is\", classFirstParameter.golden_ratio)\n",
    "        print(\"The pi number is\", classFirstParameter.pi_number)\n",
    "        \n",
    "val = Data(2.718, 3.14, 1.618)\n",
    "val.msg_function()"
   ]
  },
  {
   "cell_type": "markdown",
   "id": "cb6a75ed",
   "metadata": {},
   "source": [
    "### Creating a Class to draw a Rectangle"
   ]
  },
  {
   "cell_type": "code",
   "execution_count": 47,
   "id": "c35ea9de",
   "metadata": {},
   "outputs": [],
   "source": [
    "class Rectangle(object):\n",
    "    \n",
    "    # Constructor\n",
    "    def __init__(self, width, height, color):\n",
    "        self.width = width\n",
    "        self.height = height\n",
    "        self.color = color\n",
    "        \n",
    "    # Method\n",
    "    def drawRectangle(self):\n",
    "        plt.gca().add_patch(plt.Rectangle((0, 0), self.width, self.height, fc=self.color))\n",
    "        plt.axis('scaled')\n",
    "        plt.show()"
   ]
  },
  {
   "cell_type": "code",
   "execution_count": 48,
   "id": "4b1b0dd3",
   "metadata": {},
   "outputs": [
    {
     "name": "stdout",
     "output_type": "stream",
     "text": [
      "20\n",
      "10\n",
      "blue\n"
     ]
    },
    {
     "data": {
      "image/png": "[encoded data removed]",
      "text/plain": [
       "<Figure size 432x288 with 1 Axes>"
      ]
     },
     "metadata": {
      "needs_background": "light"
     },
     "output_type": "display_data"
    },
    {
     "name": "stdout",
     "output_type": "stream",
     "text": [
      "['__class__', '__delattr__', '__dict__', '__dir__', '__doc__', '__eq__', '__format__', '__ge__', '__getattribute__', '__gt__', '__hash__', '__init__', '__init_subclass__', '__le__', '__lt__', '__module__', '__ne__', '__new__', '__reduce__', '__reduce_ex__', '__repr__', '__setattr__', '__sizeof__', '__str__', '__subclasshook__', '__weakref__', 'color', 'drawRectangle', 'height', 'width']\n"
     ]
    },
    {
     "data": {
      "image/png": "[encoded data removed]",
      "text/plain": [
       "<Figure size 432x288 with 1 Axes>"
      ]
     },
     "metadata": {
      "needs_background": "light"
     },
     "output_type": "display_data"
    },
    {
     "data": {
      "image/png": "[encoded data removed]",
      "text/plain": [
       "<Figure size 432x288 with 1 Axes>"
      ]
     },
     "metadata": {
      "needs_background": "light"
     },
     "output_type": "display_data"
    }
   ],
   "source": [
    "# import library to draw the Rectangle\n",
    "import matplotlib.pyplot as plt\n",
    "%matplotlib inline\n",
    "\n",
    "# creating an object blue rectangle\n",
    "one_Rectangle = Rectangle(20, 10, 'blue')\n",
    "\n",
    "# Printing the object attribute width\n",
    "print(one_Rectangle.width)\n",
    "\n",
    "# Printing the object attribute height\n",
    "print(one_Rectangle.height)\n",
    "\n",
    "# Printing the object attribute color\n",
    "print(one_Rectangle.color)\n",
    "\n",
    "# Drawing the object\n",
    "one_Rectangle.drawRectangle()\n",
    "\n",
    "# Learning the methods that can be utilized on the object 'one_rectangle'\n",
    "print(dir(one_Rectangle))\n",
    "\n",
    "# We can change the properties of the rectangle\n",
    "one_Rectangle.width = 10\n",
    "one_Rectangle.height = 10\n",
    "one_Rectangle.color = 'green'\n",
    "one_Rectangle.drawRectangle()\n",
    "\n",
    "# Using new variables, we can change the properties of the rectangle\n",
    "two_Rectangle = Rectangle(100, 50, 'yellow')\n",
    "two_Rectangle.drawRectangle()"
   ]
  },
  {
   "cell_type": "code",
   "execution_count": 51,
   "id": "f5f6ac5a",
   "metadata": {},
   "outputs": [],
   "source": [
    "class Circle(object):\n",
    "    \n",
    "    # Contructor\n",
    "    def __init__(self, radius, color):\n",
    "        self.radius = radius\n",
    "        self.color = color\n",
    "        \n",
    "    # Method\n",
    "    def increase_radius(self,r):\n",
    "        self.radius = self.radius + r\n",
    "        return self.radius\n",
    "    \n",
    "    # Method\n",
    "    def drawCircle(self):\n",
    "        plt.gca().add_patch(plt.Circle((0, 0), self.radius, fc=self.color))\n",
    "        plt.axis('scaled')\n",
    "        plt.show()\n"
   ]
  },
  {
   "cell_type": "code",
   "execution_count": 61,
   "id": "26b98abe",
   "metadata": {
    "scrolled": true
   },
   "outputs": [
    {
     "name": "stdout",
     "output_type": "stream",
     "text": [
      "3.14\n",
      "blue\n"
     ]
    },
    {
     "data": {
      "image/png": "[encoded data removed]",
      "text/plain": [
       "<Figure size 432x288 with 1 Axes>"
      ]
     },
     "metadata": {
      "needs_background": "light"
     },
     "output_type": "display_data"
    },
    {
     "name": "stdout",
     "output_type": "stream",
     "text": [
      "['__class__', '__delattr__', '__dict__', '__dir__', '__doc__', '__eq__', '__format__', '__ge__', '__getattribute__', '__gt__', '__hash__', '__init__', '__init_subclass__', '__le__', '__lt__', '__module__', '__ne__', '__new__', '__reduce__', '__reduce_ex__', '__repr__', '__setattr__', '__sizeof__', '__str__', '__subclasshook__', '__weakref__', 'color', 'drawCircle', 'increase_radius', 'radius']\n"
     ]
    },
    {
     "data": {
      "image/png": "[encoded data removed]",
      "text/plain": [
       "<Figure size 432x288 with 1 Axes>"
      ]
     },
     "metadata": {
      "needs_background": "light"
     },
     "output_type": "display_data"
    },
    {
     "name": "stdout",
     "output_type": "stream",
     "text": [
      "100\n",
      "yellow\n"
     ]
    },
    {
     "data": {
      "image/png": "[encoded data removed]",
      "text/plain": [
       "<Figure size 432x288 with 1 Axes>"
      ]
     },
     "metadata": {
      "needs_background": "light"
     },
     "output_type": "display_data"
    },
    {
     "name": "stdout",
     "output_type": "stream",
     "text": [
      "Before increment:  15\n"
     ]
    },
    {
     "data": {
      "image/png": "[encoded data removed]",
      "text/plain": [
       "<Figure size 432x288 with 1 Axes>"
      ]
     },
     "metadata": {
      "needs_background": "light"
     },
     "output_type": "display_data"
    },
    {
     "name": "stdout",
     "output_type": "stream",
     "text": [
      "Increase the radius by 15 units:  30\n"
     ]
    },
    {
     "data": {
      "image/png": "[encoded data removed]",
      "text/plain": [
       "<Figure size 432x288 with 1 Axes>"
      ]
     },
     "metadata": {
      "needs_background": "light"
     },
     "output_type": "display_data"
    },
    {
     "name": "stdout",
     "output_type": "stream",
     "text": [
      "Increase the radius by 30 units:  60\n"
     ]
    },
    {
     "data": {
      "image/png": "[encoded data removed]",
      "text/plain": [
       "<Figure size 432x288 with 1 Axes>"
      ]
     },
     "metadata": {
      "needs_background": "light"
     },
     "output_type": "display_data"
    }
   ],
   "source": [
    "# import library to draw the circle\n",
    "import matplotlib.pyplot as plt\n",
    "%matplotlib inline\n",
    "\n",
    "# creating an object blue circle\n",
    "one_Circle = Circle(3.14, 'blue')\n",
    "\n",
    "# Printing the object attribute radius\n",
    "print(one_Circle.radius)\n",
    "\n",
    "# Printing the object attribute color\n",
    "print(one_Circle.color)\n",
    "\n",
    "# Drawing the object\n",
    "one_Circle.drawCircle()\n",
    "\n",
    "# Learning the methods that can be utilized on the object 'one_rectangle'\n",
    "print(dir(one_Circle))\n",
    "\n",
    "# We can change the properties of the rectangle\n",
    "one_Circle.radius = 15\n",
    "one_Circle.color = 'green'\n",
    "one_Circle.drawCircle()\n",
    "\n",
    "# Using new variables, we can change the properties of the rectangle\n",
    "two_Circle = Circle(100, 'yellow')\n",
    "print(two_Circle.radius)\n",
    "print(two_Circle.color)\n",
    "two_Circle.drawCircle()\n",
    "\n",
    "# Changing the radius of the object\n",
    "print('Before increment: ',one_Circle.radius)\n",
    "one_Circle.drawCircle()\n",
    "\n",
    "# Increment by 15 units\n",
    "one_Circle.increase_radius(15)\n",
    "print('Increase the radius by 15 units: ', one_Circle.radius)\n",
    "one_Circle.drawCircle()\n",
    "one_Circle.increase_radius(30)\n",
    "print('Increase the radius by 30 units: ', one_Circle.radius)\n",
    "one_Circle.drawCircle()"
   ]
  },
  {
   "cell_type": "code",
   "execution_count": 5,
   "id": "5f57b014",
   "metadata": {
    "scrolled": true
   },
   "outputs": [
    {
     "name": "stdout",
     "output_type": "stream",
     "text": [
      "The euler number is 2.718\n",
      "The golden ratio is 1.618\n",
      "The pi number is 3.14\n",
      "The message is  These numbers are special.\n"
     ]
    }
   ],
   "source": [
    "class SpecialNumbers:\n",
    "    euler_constant = 0.577\n",
    "    euler_number = 2.718\n",
    "    pi_number = 3.14\n",
    "    golden_ratio = 1.618\n",
    "    msg = 'These numbers are special.'\n",
    "\n",
    "special_numbers = SpecialNumbers()\n",
    "print('The euler number is', getattr(special_numbers, 'euler_number'))\n",
    "print('The golden ratio is', special_numbers.golden_ratio)\n",
    "print('The pi number is', getattr(special_numbers, 'pi_number'))\n",
    "print('The message is ', getattr(special_numbers, 'msg'))"
   ]
  },
  {
   "cell_type": "code",
   "execution_count": 2,
   "id": "4d5c3209",
   "metadata": {},
   "outputs": [
    {
     "name": "stdout",
     "output_type": "stream",
     "text": [
      "Help on built-in function getattr in module builtins:\n",
      "\n",
      "getattr(...)\n",
      "    getattr(object, name[, default]) -> value\n",
      "    \n",
      "    Get a named attribute from an object; getattr(x, 'y') is equivalent to x.y.\n",
      "    When a default argument is given, it is returned when the attribute doesn't\n",
      "    exist; without it, an exception is raised in that case.\n",
      "\n"
     ]
    }
   ],
   "source": [
    "help(getattr)"
   ]
  },
  {
   "cell_type": "code",
   "execution_count": 6,
   "id": "c98043e1",
   "metadata": {},
   "outputs": [
    {
     "name": "stdout",
     "output_type": "stream",
     "text": [
      "['__class__', '__delattr__', '__dict__', '__dir__', '__doc__', '__eq__', '__format__', '__ge__', '__getattribute__', '__gt__', '__hash__', '__init__', '__init_subclass__', '__le__', '__lt__', '__module__', '__ne__', '__new__', '__reduce__', '__reduce_ex__', '__repr__', '__setattr__', '__sizeof__', '__str__', '__subclasshook__', '__weakref__', 'euler_constant', 'euler_number', 'golden_ratio', 'msg', 'pi_number']\n"
     ]
    }
   ],
   "source": [
    "print(dir(special_numbers))"
   ]
  },
  {
   "cell_type": "code",
   "execution_count": 8,
   "id": "a23dd4ae",
   "metadata": {},
   "outputs": [
    {
     "name": "stdout",
     "output_type": "stream",
     "text": [
      "0.577 2.718 3.14 1.618 These numbers are special.\n"
     ]
    },
    {
     "ename": "AttributeError",
     "evalue": "'SpecialNumbers' object has no attribute 'msg'",
     "output_type": "error",
     "traceback": [
      "\u001b[1;31m---------------------------------------------------------------------------\u001b[0m",
      "\u001b[1;31mAttributeError\u001b[0m                            Traceback (most recent call last)",
      "Input \u001b[1;32mIn [8]\u001b[0m, in \u001b[0;36m<cell line: 15>\u001b[1;34m()\u001b[0m\n\u001b[0;32m     13\u001b[0m special_numbers\u001b[38;5;241m.\u001b[39mparameter()\n\u001b[0;32m     14\u001b[0m \u001b[38;5;28mdelattr\u001b[39m(SpecialNumbers, \u001b[38;5;124m'\u001b[39m\u001b[38;5;124mmsg\u001b[39m\u001b[38;5;124m'\u001b[39m)       \u001b[38;5;66;03m# The code deleted the 'msg'.\u001b[39;00m\n\u001b[1;32m---> 15\u001b[0m \u001b[43mspecial_numbers\u001b[49m\u001b[38;5;241;43m.\u001b[39;49m\u001b[43mparameter\u001b[49m\u001b[43m(\u001b[49m\u001b[43m)\u001b[49m\n",
      "Input \u001b[1;32mIn [8]\u001b[0m, in \u001b[0;36mSpecialNumbers.parameter\u001b[1;34m(self)\u001b[0m\n\u001b[0;32m      8\u001b[0m \u001b[38;5;28;01mdef\u001b[39;00m \u001b[38;5;21mparameter\u001b[39m(\u001b[38;5;28mself\u001b[39m):\n\u001b[1;32m----> 9\u001b[0m     \u001b[38;5;28mprint\u001b[39m(\u001b[38;5;28mself\u001b[39m\u001b[38;5;241m.\u001b[39meuler_constant, \u001b[38;5;28mself\u001b[39m\u001b[38;5;241m.\u001b[39meuler_number, \u001b[38;5;28mself\u001b[39m\u001b[38;5;241m.\u001b[39mpi, \u001b[38;5;28mself\u001b[39m\u001b[38;5;241m.\u001b[39mgolden_ratio, \u001b[38;5;28;43mself\u001b[39;49m\u001b[38;5;241;43m.\u001b[39;49m\u001b[43mmsg\u001b[49m)\n",
      "\u001b[1;31mAttributeError\u001b[0m: 'SpecialNumbers' object has no attribute 'msg'"
     ]
    }
   ],
   "source": [
    "class SpecialNumbers:\n",
    "    euler_constant = 0.577\n",
    "    euler_number = 2.718\n",
    "    pi = 3.14\n",
    "    golden_ratio = 1.618\n",
    "    msg = 'These numbers are special.'\n",
    "    \n",
    "    def parameter(self):\n",
    "        print(self.euler_constant, self.euler_number, self.pi, self.golden_ratio, self.msg)\n",
    "\n",
    "\n",
    "special_numbers = SpecialNumbers()\n",
    "special_numbers.parameter()\n",
    "delattr(SpecialNumbers, 'msg')       # The code deleted the 'msg'.\n",
    "special_numbers.parameter()          # Since the code deleted the 'msg', it returns an AttributeError."
   ]
  },
  {
   "cell_type": "code",
   "execution_count": 9,
   "id": "ec9f562c",
   "metadata": {},
   "outputs": [
    {
     "name": "stdout",
     "output_type": "stream",
     "text": [
      "Help on built-in function delattr in module builtins:\n",
      "\n",
      "delattr(obj, name, /)\n",
      "    Deletes the named attribute from the given object.\n",
      "    \n",
      "    delattr(x, 'y') is equivalent to ``del x.y''\n",
      "\n"
     ]
    }
   ],
   "source": [
    "help(delattr)"
   ]
  },
  {
   "cell_type": "code",
   "execution_count": 18,
   "id": "5807dfec",
   "metadata": {},
   "outputs": [
    {
     "name": "stdout",
     "output_type": "stream",
     "text": [
      "3.14-1.618j\n",
      "3.14\n"
     ]
    }
   ],
   "source": [
    "class ComplexNum:\n",
    "    def __init__(self, a, b):\n",
    "        self.a = a\n",
    "        self.b = b\n",
    "    def data(self):\n",
    "        print(f'{self.a}-{self.b}j')\n",
    "        \n",
    "\n",
    "var = ComplexNum(3.14, 1.618)\n",
    "var.data()\n",
    "# var.a\n",
    "print(getattr(var, 'a'))"
   ]
  },
  {
   "cell_type": "code",
   "execution_count": 21,
   "id": "869e4002",
   "metadata": {},
   "outputs": [
    {
     "name": "stdout",
     "output_type": "stream",
     "text": [
      "The name of a microorganism is in the form of Aspergillus niger.\n"
     ]
    }
   ],
   "source": [
    "class Data:\n",
    "    def __init__(self, genus, species):\n",
    "        self.genus = genus\n",
    "        self.species = species\n",
    "    \n",
    "    def microorganism(self):\n",
    "        print(f'The name of a microorganism is in the form of {self.genus} {self.species}.')\n",
    "        \n",
    "#Use the Data class to create an object, and then execute the microorganism method\n",
    "value = Data('Aspergillus', 'niger')\n",
    "value.microorganism()"
   ]
  },
  {
   "cell_type": "markdown",
   "id": "d00ab815",
   "metadata": {},
   "source": [
    "### Create a Child Class in Data Class"
   ]
  },
  {
   "cell_type": "code",
   "execution_count": 24,
   "id": "e1af4a36",
   "metadata": {},
   "outputs": [
    {
     "name": "stdout",
     "output_type": "stream",
     "text": [
      "The name of a microorganism is in the form of Aspergillus sojae.\n"
     ]
    }
   ],
   "source": [
    "class Data:\n",
    "    def __init__(self, genus, species):\n",
    "        self.genus = genus\n",
    "        self.species = species\n",
    "        \n",
    "    def microorganism(self):\n",
    "        print(f'The name of a microorganism is in the form of {self.genus} {self.species}.')\n",
    "        \n",
    "class Recombinant(Data):\n",
    "    pass\n",
    "\n",
    "value = Recombinant('Aspergillus', 'sojae')\n",
    "value.microorganism()"
   ]
  },
  {
   "cell_type": "markdown",
   "id": "ac195bfb",
   "metadata": {},
   "source": [
    "### Addition of init() Functions"
   ]
  },
  {
   "cell_type": "code",
   "execution_count": 59,
   "id": "1bf7d085",
   "metadata": {},
   "outputs": [
    {
     "name": "stdout",
     "output_type": "stream",
     "text": [
      "The name of a microorganism is in the form of Aspergillus sojae.\n"
     ]
    }
   ],
   "source": [
    "class Data:\n",
    "    def __init__(self, genus, species):\n",
    "        self.genus = genus\n",
    "        self.species = species\n",
    "        \n",
    "    def microorganism(self):\n",
    "        print(f'The name of a microorganism is in the form of {self.genus} {self.species}.')\n",
    "        \n",
    "class Recombinant(Data):\n",
    "    def __init__(self, genus, species):\n",
    "        Data.__init__(self, genus, species)\n",
    "        \n",
    "value = Recombinant('Aspergillus', 'sojae')\n",
    "value.microorganism()"
   ]
  },
  {
   "cell_type": "markdown",
   "id": "00a40888",
   "metadata": {},
   "source": [
    "### Addition of super() Function"
   ]
  },
  {
   "cell_type": "code",
   "execution_count": 60,
   "id": "7eb18697",
   "metadata": {},
   "outputs": [
    {
     "name": "stdout",
     "output_type": "stream",
     "text": [
      "6 and 28 are perfect numbers.\n",
      "These numbers are very special in mathematik.\n",
      "6 and 28 are 6\n"
     ]
    }
   ],
   "source": [
    "class SpecialNumbers(object):\n",
    "    def __init__(self, special_numbers):\n",
    "        print('6 and 28 are', special_numbers)\n",
    "        \n",
    "class PerfectNumbers(SpecialNumbers):\n",
    "    def __init__(self): \n",
    "        \n",
    "        # call superclass\n",
    "        super().__init__('perfect numbers.')\n",
    "        print('These numbers are very special in mathematik.')\n",
    "        \n",
    "nums = PerfectNumbers()\n",
    "a = SpecialNumbers(6)"
   ]
  },
  {
   "cell_type": "code",
   "execution_count": 38,
   "id": "b9060ffe",
   "metadata": {},
   "outputs": [
    {
     "name": "stdout",
     "output_type": "stream",
     "text": [
      "Cow gives us milk.\n",
      "Cow lives in a farm.\n"
     ]
    }
   ],
   "source": [
    "class Animal(object):\n",
    "    def __init__(self, AnimalName):\n",
    "        print(AnimalName, 'lives in a farm.')\n",
    "        \n",
    "class Cow(Animal):\n",
    "    def __init__(self):\n",
    "        print('Cow gives us milk.')\n",
    "        super().__init__('Cow')\n",
    "\n",
    "result = Cow()"
   ]
  },
  {
   "cell_type": "code",
   "execution_count": 39,
   "id": "d2d6357a",
   "metadata": {},
   "outputs": [
    {
     "name": "stdout",
     "output_type": "stream",
     "text": [
      "The name of a microorganism is in the form of Aspergillus sojae.\n"
     ]
    }
   ],
   "source": [
    "class Data:\n",
    "    def __init__(self, genus, species):\n",
    "        self.genus = genus\n",
    "        self.species = species\n",
    "    def microorganism(self):\n",
    "        print(f'The name of a microorganism is in the form of {self.genus} {self.species}.')\n",
    "        \n",
    "class Recombinant(Data):\n",
    "    def __init__(self, genus, species):\n",
    "        super().__init__(genus, species)      # 'self' statement in this line was deleted as different from the above codes\n",
    "    \n",
    "value = Recombinant('Aspergillus', 'sojae')\n",
    "value.microorganism()\n"
   ]
  },
  {
   "cell_type": "markdown",
   "id": "74e0a9fe",
   "metadata": {},
   "source": [
    "### Addition of Properties under the super() Function"
   ]
  },
  {
   "cell_type": "code",
   "execution_count": 42,
   "id": "463feefb",
   "metadata": {},
   "outputs": [
    {
     "name": "stdout",
     "output_type": "stream",
     "text": [
      "The enzyme activity increased to 2500 U/mL.\n",
      "The name of a microorganism is in the form of Aspergillus sojae.\n"
     ]
    }
   ],
   "source": [
    "class Data:\n",
    "    def __init__(self, genus, species):\n",
    "        self.genus = genus\n",
    "        self.species = species\n",
    "    def microorganism(self):\n",
    "        print(f'The name of a microorganism is in the form of {self.genus} {self.species}.')\n",
    "        \n",
    "class Recombinant(Data):\n",
    "    def __init__(self, genus, species):\n",
    "        super().__init__(genus, species)\n",
    "        self.activity = 2500                       # This information was adedd as a Property\n",
    "        \n",
    "value = Recombinant('Aspergillus', 'sojae')\n",
    "print(f'The enzyme activity increased to {value.activity} U/mL.')\n",
    "value.microorganism()"
   ]
  },
  {
   "cell_type": "code",
   "execution_count": 52,
   "id": "00e2b0b4",
   "metadata": {},
   "outputs": [
    {
     "name": "stdout",
     "output_type": "stream",
     "text": [
      "The enzyme activity increased to 2500 U/mL.\n",
      "The name of a microorganism is in the form of Aspergillus sojae.\n"
     ]
    }
   ],
   "source": [
    "class Data:\n",
    "    def __init__(self, genus, species):\n",
    "        self.genus = genus\n",
    "        self.species = species\n",
    "    def microorganism(self):\n",
    "        print(f'The name of a microorganism is in the form of {self.genus} {self.species}.')\n",
    "class Recombinant(Data):\n",
    "    def __init__(self, genus, species, activity):\n",
    "        super().__init__(genus, species)\n",
    "        self.activity = activity                 # This information was adedd as a Property\n",
    "        \n",
    "value = Recombinant('Aspergillus', 'sojae', 2500)\n",
    "print(f'The enzyme activity increased to {value.activity} U/mL.')\n",
    "# a = Data(\"Chirag\", \"Sondagar\")\n",
    "# a.microorganism()\n",
    "value.microorganism()"
   ]
  },
  {
   "cell_type": "markdown",
   "id": "27d16231",
   "metadata": {},
   "source": [
    "### Addition of Methods under the Child Class"
   ]
  },
  {
   "cell_type": "code",
   "execution_count": 54,
   "id": "223d8f70",
   "metadata": {},
   "outputs": [
    {
     "name": "stdout",
     "output_type": "stream",
     "text": [
      "With this new recombinant Aspergillus sojae strain, the enzyme activity increased 2-times with 2500 U/ml\n",
      "The name of a microorganism is in the form of Aspergillus sojae.\n"
     ]
    }
   ],
   "source": [
    "class Data:\n",
    "    def __init__(self, genus, species):\n",
    "        self.genus = genus\n",
    "        self.species = species\n",
    "        \n",
    "    def microorganism(self):\n",
    "        print(f'The name of a microorganism is in the form of {self.genus} {self.species}.')\n",
    "        \n",
    "class Recombinant(Data):\n",
    "    def __init__(self, genus, species, activity):\n",
    "        super().__init__(genus, species)\n",
    "        self.activity = activity                   # This information was adedd as a Property\n",
    "        \n",
    "    def increment(self):\n",
    "        print(f'With this new recombinant {self.genus} {self.species} strain, the enzyme activity increased 2-times with {self.activity} U/ml')\n",
    "        \n",
    "value = Recombinant('Aspergillus', 'sojae', 2500)\n",
    "value.increment()\n",
    "value.microorganism()"
   ]
  },
  {
   "cell_type": "code",
   "execution_count": null,
   "id": "6a0db121",
   "metadata": {},
   "outputs": [],
   "source": []
  }
 ],
 "metadata": {
  "kernelspec": {
   "display_name": "Python 3 (ipykernel)",
   "language": "python",
   "name": "python3"
  },
  "language_info": {
   "codemirror_mode": {
    "name": "ipython",
    "version": 3
   },
   "file_extension": ".py",
   "mimetype": "text/x-python",
   "name": "python",
   "nbconvert_exporter": "python",
   "pygments_lexer": "ipython3",
   "version": "3.9.12"
  }
 },
 "nbformat": 4,
 "nbformat_minor": 5
}
