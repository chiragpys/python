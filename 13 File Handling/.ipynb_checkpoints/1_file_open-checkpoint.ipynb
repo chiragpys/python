{
 "cells": [
  {
   "cell_type": "markdown",
   "id": "345478b9",
   "metadata": {},
   "source": [
    "### Working of open() function"
   ]
  },
  {
   "cell_type": "code",
   "execution_count": 64,
   "id": "20308ac7",
   "metadata": {},
   "outputs": [
    {
     "name": "stdout",
     "output_type": "stream",
     "text": [
      "This is the write command\n",
      "\n",
      "Chirag\n",
      "\n",
      "This will add this line\n",
      "\n",
      "This will add this line\n",
      "\n",
      "This will add this line\n",
      "\n"
     ]
    }
   ],
   "source": [
    "file = open('one.txt', 'r',)\n",
    "for each in file:\n",
    "    print(each)"
   ]
  },
  {
   "cell_type": "markdown",
   "id": "8e03ff23",
   "metadata": {},
   "source": [
    "### Working of read() mode"
   ]
  },
  {
   "cell_type": "code",
   "execution_count": 65,
   "id": "4d248096",
   "metadata": {},
   "outputs": [
    {
     "name": "stdout",
     "output_type": "stream",
     "text": [
      "This is the write command\n",
      "Chirag\n",
      "This will add this line\n",
      "This will add this line\n",
      "This will add this line\n",
      "\n"
     ]
    }
   ],
   "source": [
    "file = open('one.txt', 'r')\n",
    "print(file.read())"
   ]
  },
  {
   "cell_type": "markdown",
   "id": "104945b6",
   "metadata": {},
   "source": [
    "### Creating a file using write() mode"
   ]
  },
  {
   "cell_type": "code",
   "execution_count": 66,
   "id": "b3eae54e",
   "metadata": {},
   "outputs": [],
   "source": [
    "f = open('one.txt', 'w')\n",
    "f.write(\"This is the write command\\n\")\n",
    "f.write(\"Chirag\\n\")\n",
    "f.close()"
   ]
  },
  {
   "cell_type": "code",
   "execution_count": 10,
   "id": "b2a60844",
   "metadata": {},
   "outputs": [
    {
     "name": "stdout",
     "output_type": "stream",
     "text": [
      "Hello World!!!\n",
      "This will add this line\n",
      "Chirag\n",
      "\n"
     ]
    }
   ],
   "source": [
    "f = open('one.txt', 'r')\n",
    "print(f.read())"
   ]
  },
  {
   "cell_type": "markdown",
   "id": "5d10fb61",
   "metadata": {},
   "source": [
    "### Working of append() mode"
   ]
  },
  {
   "cell_type": "code",
   "execution_count": 68,
   "id": "8db04b88",
   "metadata": {},
   "outputs": [],
   "source": [
    "f = open('one.txt', 'a')\n",
    "f.write(\"This will add this line\\n\")\n",
    "f.close()"
   ]
  },
  {
   "cell_type": "code",
   "execution_count": 69,
   "id": "f9031091",
   "metadata": {
    "scrolled": true
   },
   "outputs": [
    {
     "name": "stdout",
     "output_type": "stream",
     "text": [
      "This is the write command\n",
      "Chirag\n",
      "This will add this line\n",
      "\n"
     ]
    }
   ],
   "source": [
    "f = open('one.txt', 'r')\n",
    "print(f.read())"
   ]
  },
  {
   "cell_type": "markdown",
   "id": "1010e989",
   "metadata": {},
   "source": [
    "### Using open along with the with() function"
   ]
  },
  {
   "cell_type": "code",
   "execution_count": 72,
   "id": "0f0e0888",
   "metadata": {},
   "outputs": [
    {
     "name": "stdout",
     "output_type": "stream",
     "text": [
      "This is the write command\n",
      "Chirag\n",
      "This will add this line\n",
      "\n"
     ]
    }
   ],
   "source": [
    "with open('one.txt', 'r') as f:\n",
    "    data = f.read()\n",
    "    print(data)"
   ]
  },
  {
   "cell_type": "markdown",
   "id": "e16d9224",
   "metadata": {},
   "source": [
    "### Using write along with the with() function"
   ]
  },
  {
   "cell_type": "code",
   "execution_count": 79,
   "id": "0fd4577d",
   "metadata": {},
   "outputs": [],
   "source": [
    "with open(\"one.txt\", \"w\") as f:\n",
    "    f.write(\"Hello World!!!\\n\")"
   ]
  },
  {
   "cell_type": "code",
   "execution_count": 80,
   "id": "a17ae45e",
   "metadata": {},
   "outputs": [
    {
     "name": "stdout",
     "output_type": "stream",
     "text": [
      "Hello World!!!\n",
      "\n"
     ]
    }
   ],
   "source": [
    "with open('one.txt','r') as f:\n",
    "    print(f.read())"
   ]
  },
  {
   "cell_type": "code",
   "execution_count": 81,
   "id": "4f4679d4",
   "metadata": {},
   "outputs": [],
   "source": [
    "with open('one.txt', 'a') as f:\n",
    "    f.write(\"This will add this line\\n\")\n",
    "    f.write('Chirag\\n')"
   ]
  },
  {
   "cell_type": "code",
   "execution_count": 17,
   "id": "7d53efcc",
   "metadata": {},
   "outputs": [
    {
     "name": "stdout",
     "output_type": "stream",
     "text": [
      "Hello World!!!\n",
      "This will add this line\n",
      "Chirag\n",
      "\n"
     ]
    }
   ],
   "source": [
    "f = open('one.txt', 'r')\n",
    "print(f.read())"
   ]
  },
  {
   "cell_type": "markdown",
   "id": "a8130b3b",
   "metadata": {},
   "source": [
    "### split() using file handling"
   ]
  },
  {
   "cell_type": "code",
   "execution_count": 6,
   "id": "d570087a",
   "metadata": {},
   "outputs": [
    {
     "name": "stdout",
     "output_type": "stream",
     "text": [
      "['Hello', 'World!!!']\n",
      "['This', 'will', 'add', 'this', 'line']\n",
      "['Chirag']\n"
     ]
    }
   ],
   "source": [
    "with open(\"one.txt\", \"r\") as file:\n",
    "    data = file.readlines()\n",
    "    for line in data:\n",
    "        word = line.split()\n",
    "        print (word)\n"
   ]
  },
  {
   "cell_type": "code",
   "execution_count": 7,
   "id": "09d8d9df",
   "metadata": {},
   "outputs": [
    {
     "ename": "ValueError",
     "evalue": "I/O operation on closed file.",
     "output_type": "error",
     "traceback": [
      "\u001b[1;31m---------------------------------------------------------------------------\u001b[0m",
      "\u001b[1;31mValueError\u001b[0m                                Traceback (most recent call last)",
      "Input \u001b[1;32mIn [7]\u001b[0m, in \u001b[0;36m<cell line: 1>\u001b[1;34m()\u001b[0m\n\u001b[1;32m----> 1\u001b[0m \u001b[43mfile\u001b[49m\u001b[38;5;241;43m.\u001b[39;49m\u001b[43mread\u001b[49m\u001b[43m(\u001b[49m\u001b[43m)\u001b[49m\n",
      "\u001b[1;31mValueError\u001b[0m: I/O operation on closed file."
     ]
    }
   ],
   "source": [
    "file.read()"
   ]
  },
  {
   "cell_type": "code",
   "execution_count": 53,
   "id": "e20965e1",
   "metadata": {},
   "outputs": [],
   "source": [
    "f = open('two.txt', 'r')\n",
    "# print(f.readlines())\n",
    "\n",
    "# for line in f:\n",
    "#     print(line, end='')\n",
    "\n",
    "\n",
    "# If you want to read all the lines of a file in a list you can also use list(f) or f.readlines()\n",
    "# print(list(f))\n"
   ]
  },
  {
   "cell_type": "code",
   "execution_count": 42,
   "id": "cb2f93e4",
   "metadata": {},
   "outputs": [
    {
     "data": {
      "text/plain": [
       "[]"
      ]
     },
     "execution_count": 42,
     "metadata": {},
     "output_type": "execute_result"
    }
   ],
   "source": [
    "list(f)"
   ]
  },
  {
   "cell_type": "code",
   "execution_count": null,
   "id": "7ca09a8c",
   "metadata": {},
   "outputs": [],
   "source": []
  }
 ],
 "metadata": {
  "kernelspec": {
   "display_name": "Python 3 (ipykernel)",
   "language": "python",
   "name": "python3"
  },
  "language_info": {
   "codemirror_mode": {
    "name": "ipython",
    "version": 3
   },
   "file_extension": ".py",
   "mimetype": "text/x-python",
   "name": "python",
   "nbconvert_exporter": "python",
   "pygments_lexer": "ipython3",
   "version": "3.9.12"
  }
 },
 "nbformat": 4,
 "nbformat_minor": 5
}
