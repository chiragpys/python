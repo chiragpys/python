{
 "cells": [
  {
   "cell_type": "code",
   "execution_count": 2,
   "id": "19fedbbe",
   "metadata": {},
   "outputs": [],
   "source": [
    "import csv"
   ]
  },
  {
   "cell_type": "code",
   "execution_count": 3,
   "id": "c3b1f6b7",
   "metadata": {},
   "outputs": [
    {
     "name": "stdout",
     "output_type": "stream",
     "text": [
      "['Code', 'Access_to_basic_amenities', 'Occupied_private_dwellings']\n",
      "[['00', 'None of these', '5979'], ['01', 'Cooking facilities', '1512414'], ['02', 'Tap water that is safe to drink', '1481133'], ['03', 'Kitchen sink', '1513830'], ['04', 'Refrigerator', '1481430'], ['05', 'Bath or shower', '1514472'], ['06', 'Toilet', '1515042'], ['07', 'Electricity supply', '1503675'], ['77', 'Response unidentifiable', '1794'], ['99', 'Not stated', '132615'], ['TotalStated', 'Total stated', '1529901'], ['TotalResponses', 'Total responses', '10527978'], ['Total', 'Total', '1664313']]\n",
      "14\n",
      "[]\n"
     ]
    }
   ],
   "source": [
    "f = open('aapc.csv', 'r')\n",
    "csvreader = csv.reader(f)\n",
    "fields = next(csvreader)\n",
    "print(fields)\n",
    "\n",
    "rows = [row for row in csvreader]\n",
    "print(rows)\n",
    "print(csvreader.line_num)\n",
    "# print(list(csvreader))"
   ]
  },
  {
   "cell_type": "code",
   "execution_count": 9,
   "id": "1719a2c7",
   "metadata": {},
   "outputs": [
    {
     "name": "stdout",
     "output_type": "stream",
     "text": [
      "Total no. of rows: 14\n",
      "Field names are:Code, Access_to_basic_amenities, Occupied_private_dwellings\n",
      "\n",
      "First 5 rows are:\n",
      "\n",
      "        00 None of these       5979 \n",
      "\n",
      "        01 Cooking facilities    1512414 \n",
      "\n",
      "        02 Tap water that is safe to drink    1481133 \n",
      "\n",
      "        03 Kitchen sink    1513830 \n",
      "\n",
      "        04 Refrigerator    1481430 \n",
      "\n"
     ]
    }
   ],
   "source": [
    "import csv\n",
    "\n",
    "filename = \"aapc.csv\"\n",
    "\n",
    "# initializing the titles and rows list\n",
    "fields = []\n",
    "rows = []\n",
    "\n",
    "# reading csv file\n",
    "with open(filename, 'r') as csvfile:\n",
    "    # creating a csv reader object\n",
    "    csvreader = csv.reader(csvfile)\n",
    "    \n",
    "    # extracting field names through first row\n",
    "    fields = next(csvreader)\n",
    "\n",
    "    # extracting each data row one by one\n",
    "    for row in csvreader:\n",
    "        rows.append(row)\n",
    "\n",
    "    # get total number of rows\n",
    "    print(\"Total no. of rows: %d\" %(csvreader.line_num))\n",
    "\n",
    "# printing the field names\n",
    "print('Field names are:' + ', '.join(field for field in fields))\n",
    "\n",
    "# printing first 5 rows\n",
    "print('\\nFirst 5 rows are:\\n')\n",
    "\n",
    "for row in rows[:5]:\n",
    "    # parsing each column of a row\n",
    "    for col in row:\n",
    "        print(\"%10s\" %col, end=\" \"),\n",
    "    print('\\n')"
   ]
  },
  {
   "cell_type": "markdown",
   "id": "b2a87554",
   "metadata": {},
   "source": [
    "###  Writing to a CSV file"
   ]
  },
  {
   "cell_type": "code",
   "execution_count": 32,
   "id": "cf3ed3d5",
   "metadata": {},
   "outputs": [],
   "source": [
    "import csv\n",
    "\n",
    "\n",
    "fields = ['Name', 'Branch', 'Year', 'CGPA']\n",
    "\n",
    "rows = [ ['Nikhil', 'COE', '2', '9.0',],\n",
    "        ['Sanchit', 'COE', '2', '9.1'],\n",
    "        ['Aditya', 'IT', '2', '9.3'],\n",
    "        ['Sagar', 'SE', '1', '9.5'],\n",
    "        ['Prateek', 'MCE', '3', '7.8'],\n",
    "        ['Sahil', 'EP', '2', '9.1']]\n",
    "\n",
    "# name of csv file\n",
    "filename = \"university_records.csv\"\n",
    "\n",
    "# writing to csv file\n",
    "with open(filename, 'w') as csvfile:\n",
    "    # creating a csv writer object\n",
    "    csvwriter = csv.writer(csvfile)\n",
    "    \n",
    "    # writing the fields\n",
    "    csvwriter.writerow(fields)\n",
    "    \n",
    "    # writing the data rows\n",
    "    csvwriter.writerows(rows)\n",
    "    \n",
    "    \n"
   ]
  },
  {
   "cell_type": "markdown",
   "id": "5adbca7d",
   "metadata": {},
   "source": [
    "### Writing a dictionary to a CSV file"
   ]
  },
  {
   "cell_type": "code",
   "execution_count": 36,
   "id": "2c1dfbc8",
   "metadata": {},
   "outputs": [],
   "source": [
    "import csv\n",
    "\n",
    "\n",
    "mydict =[{'branch': 'COE', 'cgpa': '9.0',\n",
    "        'name': 'Nikhil', 'year': '2'},\n",
    "        {'branch': 'COE', 'cgpa': '9.1',\n",
    "        'name': 'Sanchit', 'year': '2'},\n",
    "        {'branch': 'IT', 'cgpa': '9.3',\n",
    "        'name': 'Aditya', 'year': '2'},\n",
    "        {'branch': 'SE', 'cgpa': '9.5',\n",
    "        'name': 'Sagar', 'year': '1'},\n",
    "        {'branch': 'MCE', 'cgpa': '7.8',\n",
    "        'name': 'Prateek', 'year': '3'},\n",
    "        {'branch': 'EP', 'cgpa': '9.1',\n",
    "        'name': 'Sahil', 'year': '2'}]\n",
    "\n",
    "# field names\n",
    "fields = ['name', 'branch', 'year', 'cgpa']\n",
    "\n",
    "# name of csv file\n",
    "filename = \"university_records1.csv\"\n",
    "\n",
    "# writing to csv file\n",
    "with open(filename, 'w') as csvfile:\n",
    "    # creating a csv dict writer object\n",
    "    writer = csv.DictWriter(csvfile, fieldnames = fields)\n",
    "    \n",
    "    # writing headers (field names)\n",
    "    writer.writeheader()\n",
    "    \n",
    "    # writing data rows\n",
    "    writer.writerows(mydict)\n",
    "\n",
    "    \n",
    "    \n"
   ]
  },
  {
   "cell_type": "code",
   "execution_count": 37,
   "id": "77d7db2e",
   "metadata": {},
   "outputs": [],
   "source": [
    "import csv\n",
    "\n",
    "# field names\n",
    "fields = ['Name', 'Email']\n",
    "\n",
    "# data rows of csv file\n",
    "rows = [ ['Nikhil', 'nikhil.gfg@gmail.com'],\n",
    "        ['Sanchit', 'sanchit.gfg@gmail.com'],\n",
    "        ['Aditya', 'aditya.gfg@gmail.com'],\n",
    "        ['Sagar', 'sagar.gfg@gmail.com'],\n",
    "        ['Prateek', 'prateek.gfg@gmail.com'],\n",
    "        ['Sahil', 'sahil.gfg@gmail.com']]\n",
    "\n",
    "# name of csv file\n",
    "filename = \"email_records.csv\"\n",
    "\n",
    "# writing to csv file\n",
    "with open(filename, 'w') as csvfile:\n",
    "    # creating a csv writer object\n",
    "    csvwriter = csv.writer(csvfile)\n",
    "    \n",
    "    # writing the fields\n",
    "    csvwriter.writerow(fields)\n",
    "    \n",
    "    # writing the data rows\n",
    "    csvwriter.writerows(rows)\n"
   ]
  },
  {
   "cell_type": "code",
   "execution_count": null,
   "id": "3e3e2105",
   "metadata": {},
   "outputs": [],
   "source": []
  }
 ],
 "metadata": {
  "kernelspec": {
   "display_name": "Python 3 (ipykernel)",
   "language": "python",
   "name": "python3"
  },
  "language_info": {
   "codemirror_mode": {
    "name": "ipython",
    "version": 3
   },
   "file_extension": ".py",
   "mimetype": "text/x-python",
   "name": "python",
   "nbconvert_exporter": "python",
   "pygments_lexer": "ipython3",
   "version": "3.9.12"
  }
 },
 "nbformat": 4,
 "nbformat_minor": 5
}
