{
 "cells": [
  {
   "cell_type": "markdown",
   "id": "345478b9",
   "metadata": {},
   "source": [
    "### Working of open() function"
   ]
  },
  {
   "cell_type": "code",
   "execution_count": 1,
   "id": "20308ac7",
   "metadata": {},
   "outputs": [
    {
     "name": "stdout",
     "output_type": "stream",
     "text": [
      "Hello World!!!\n",
      "\n",
      "This will add this line\n",
      "\n",
      "Chirag\n",
      "\n"
     ]
    }
   ],
   "source": [
    "file = open('one.txt', 'r',)\n",
    "for i in file:\n",
    "    print(i)"
   ]
  },
  {
   "cell_type": "markdown",
   "id": "8e03ff23",
   "metadata": {},
   "source": [
    "### Working of read() mode"
   ]
  },
  {
   "cell_type": "code",
   "execution_count": 2,
   "id": "4d248096",
   "metadata": {},
   "outputs": [
    {
     "name": "stdout",
     "output_type": "stream",
     "text": [
      "Hello World!!!\n",
      "This will add this line\n",
      "Chirag\n",
      "\n"
     ]
    }
   ],
   "source": [
    "file = open('one.txt', 'r')\n",
    "print(file.read())"
   ]
  },
  {
   "cell_type": "markdown",
   "id": "104945b6",
   "metadata": {},
   "source": [
    "### Creating a file using write() mode"
   ]
  },
  {
   "cell_type": "code",
   "execution_count": 5,
   "id": "b3eae54e",
   "metadata": {},
   "outputs": [],
   "source": [
    "f = open('one.txt', 'w')\n",
    "f.write(\"This is the write command\\n\")\n",
    "f.write(\"Python\\n\")\n",
    "f.close()"
   ]
  },
  {
   "cell_type": "code",
   "execution_count": 11,
   "id": "b2a60844",
   "metadata": {},
   "outputs": [
    {
     "name": "stdout",
     "output_type": "stream",
     "text": [
      "This is the write command\n",
      "Python\n",
      "This will add this line\n",
      "This will add this line\n",
      "\n"
     ]
    }
   ],
   "source": [
    "f = open('one.txt', 'r')\n",
    "print(f.read())"
   ]
  },
  {
   "cell_type": "markdown",
   "id": "5d10fb61",
   "metadata": {},
   "source": [
    "### Working of append() mode"
   ]
  },
  {
   "cell_type": "code",
   "execution_count": 9,
   "id": "8db04b88",
   "metadata": {},
   "outputs": [],
   "source": [
    "f = open('one.txt', 'a')\n",
    "f.write(\"This will add this line\\n\")\n",
    "f.close()"
   ]
  },
  {
   "cell_type": "code",
   "execution_count": 12,
   "id": "f9031091",
   "metadata": {
    "scrolled": true
   },
   "outputs": [
    {
     "name": "stdout",
     "output_type": "stream",
     "text": [
      "This is the write command\n",
      "Python\n",
      "This will add this line\n",
      "This will add this line\n",
      "\n"
     ]
    }
   ],
   "source": [
    "f = open('one.txt', 'r')\n",
    "print(f.read())"
   ]
  },
  {
   "cell_type": "markdown",
   "id": "1010e989",
   "metadata": {},
   "source": [
    "### Using open along with the with() function"
   ]
  },
  {
   "cell_type": "code",
   "execution_count": 13,
   "id": "0f0e0888",
   "metadata": {},
   "outputs": [
    {
     "name": "stdout",
     "output_type": "stream",
     "text": [
      "This is the write command\n",
      "Python\n",
      "This will add this line\n",
      "This will add this line\n",
      "\n"
     ]
    }
   ],
   "source": [
    "with open('one.txt', 'r') as f:\n",
    "    data = f.read()\n",
    "    print(data)"
   ]
  },
  {
   "cell_type": "markdown",
   "id": "e16d9224",
   "metadata": {},
   "source": [
    "### Using write along with the with() function"
   ]
  },
  {
   "cell_type": "code",
   "execution_count": 14,
   "id": "0fd4577d",
   "metadata": {},
   "outputs": [],
   "source": [
    "with open(\"one.txt\", \"w\") as f:\n",
    "    f.write(\"Hello World!!!\\n\")"
   ]
  },
  {
   "cell_type": "code",
   "execution_count": 16,
   "id": "a17ae45e",
   "metadata": {},
   "outputs": [
    {
     "name": "stdout",
     "output_type": "stream",
     "text": [
      "Hello World!!!\n",
      "\n"
     ]
    }
   ],
   "source": [
    "with open('one.txt','r') as f:\n",
    "    print(f.read())"
   ]
  },
  {
   "cell_type": "code",
   "execution_count": 19,
   "id": "4f4679d4",
   "metadata": {},
   "outputs": [],
   "source": [
    "with open('one.txt', 'a') as f:\n",
    "    f.write(\"This will add this line\\n\")\n",
    "    f.write('Python\\n')"
   ]
  },
  {
   "cell_type": "code",
   "execution_count": 20,
   "id": "7d53efcc",
   "metadata": {},
   "outputs": [
    {
     "name": "stdout",
     "output_type": "stream",
     "text": [
      "Hello World!!!\n",
      "This will add this line\n",
      "Python\n",
      "This will add this line\n",
      "Python\n",
      "\n"
     ]
    }
   ],
   "source": [
    "f = open('one.txt', 'r')\n",
    "print(f.read())"
   ]
  },
  {
   "cell_type": "markdown",
   "id": "a8130b3b",
   "metadata": {},
   "source": [
    "### split() using file handling"
   ]
  },
  {
   "cell_type": "code",
   "execution_count": 21,
   "id": "d570087a",
   "metadata": {},
   "outputs": [
    {
     "name": "stdout",
     "output_type": "stream",
     "text": [
      "['Hello', 'World!!!']\n",
      "['This', 'will', 'add', 'this', 'line']\n",
      "['Python']\n",
      "['This', 'will', 'add', 'this', 'line']\n",
      "['Python']\n"
     ]
    }
   ],
   "source": [
    "with open(\"one.txt\", \"r\") as file:\n",
    "    data = file.readlines()\n",
    "    for line in data:\n",
    "        word = line.split()\n",
    "        print (word)\n"
   ]
  },
  {
   "cell_type": "code",
   "execution_count": 22,
   "id": "09d8d9df",
   "metadata": {},
   "outputs": [
    {
     "ename": "ValueError",
     "evalue": "I/O operation on closed file.",
     "output_type": "error",
     "traceback": [
      "\u001b[1;31m---------------------------------------------------------------------------\u001b[0m",
      "\u001b[1;31mValueError\u001b[0m                                Traceback (most recent call last)",
      "Input \u001b[1;32mIn [22]\u001b[0m, in \u001b[0;36m<cell line: 1>\u001b[1;34m()\u001b[0m\n\u001b[1;32m----> 1\u001b[0m \u001b[43mfile\u001b[49m\u001b[38;5;241;43m.\u001b[39;49m\u001b[43mread\u001b[49m\u001b[43m(\u001b[49m\u001b[43m)\u001b[49m\n",
      "\u001b[1;31mValueError\u001b[0m: I/O operation on closed file."
     ]
    }
   ],
   "source": [
    "file.read()"
   ]
  },
  {
   "cell_type": "code",
   "execution_count": 23,
   "id": "0729bd05",
   "metadata": {},
   "outputs": [],
   "source": [
    "f = open('two.txt', 'r')\n",
    "# print(f.readlines())\n",
    "\n",
    "# for line in f:\n",
    "#     print(line, end='')\n",
    "\n",
    "\n",
    "# If you want to read all the lines of a file in a list you can also use list(f) or f.readlines()\n",
    "# print(list(f))\n"
   ]
  },
  {
   "cell_type": "code",
   "execution_count": 24,
   "id": "8f7f6093",
   "metadata": {},
   "outputs": [
    {
     "data": {
      "text/plain": [
       "[\"'This is the first line of the file.'\\n\",\n",
       " \"'Second line of the file'\\n\",\n",
       " \"'7878950100'\\n\"]"
      ]
     },
     "execution_count": 24,
     "metadata": {},
     "output_type": "execute_result"
    }
   ],
   "source": [
    "list(f)"
   ]
  },
  {
   "cell_type": "code",
   "execution_count": 54,
   "id": "ff6c68e4",
   "metadata": {},
   "outputs": [
    {
     "ename": "UnicodeDecodeError",
     "evalue": "'charmap' codec can't decode byte 0x81 in position 637: character maps to <undefined>",
     "output_type": "error",
     "traceback": [
      "\u001b[1;31m---------------------------------------------------------------------------\u001b[0m",
      "\u001b[1;31mUnicodeDecodeError\u001b[0m                        Traceback (most recent call last)",
      "Input \u001b[1;32mIn [54]\u001b[0m, in \u001b[0;36m<cell line: 2>\u001b[1;34m()\u001b[0m\n\u001b[0;32m      1\u001b[0m f \u001b[38;5;241m=\u001b[39m \u001b[38;5;28mopen\u001b[39m(\u001b[38;5;124m'\u001b[39m\u001b[38;5;124mfirst.docx\u001b[39m\u001b[38;5;124m'\u001b[39m, \u001b[38;5;124m'\u001b[39m\u001b[38;5;124mr\u001b[39m\u001b[38;5;124m'\u001b[39m)\n\u001b[1;32m----> 2\u001b[0m \u001b[43mf\u001b[49m\u001b[38;5;241;43m.\u001b[39;49m\u001b[43mread\u001b[49m\u001b[43m(\u001b[49m\u001b[43m)\u001b[49m\n",
      "File \u001b[1;32mC:\\ProgramData\\Anaconda3\\lib\\encodings\\cp1252.py:23\u001b[0m, in \u001b[0;36mIncrementalDecoder.decode\u001b[1;34m(self, input, final)\u001b[0m\n\u001b[0;32m     22\u001b[0m \u001b[38;5;28;01mdef\u001b[39;00m \u001b[38;5;21mdecode\u001b[39m(\u001b[38;5;28mself\u001b[39m, \u001b[38;5;28minput\u001b[39m, final\u001b[38;5;241m=\u001b[39m\u001b[38;5;28;01mFalse\u001b[39;00m):\n\u001b[1;32m---> 23\u001b[0m     \u001b[38;5;28;01mreturn\u001b[39;00m \u001b[43mcodecs\u001b[49m\u001b[38;5;241;43m.\u001b[39;49m\u001b[43mcharmap_decode\u001b[49m\u001b[43m(\u001b[49m\u001b[38;5;28;43minput\u001b[39;49m\u001b[43m,\u001b[49m\u001b[38;5;28;43mself\u001b[39;49m\u001b[38;5;241;43m.\u001b[39;49m\u001b[43merrors\u001b[49m\u001b[43m,\u001b[49m\u001b[43mdecoding_table\u001b[49m\u001b[43m)\u001b[49m[\u001b[38;5;241m0\u001b[39m]\n",
      "\u001b[1;31mUnicodeDecodeError\u001b[0m: 'charmap' codec can't decode byte 0x81 in position 637: character maps to <undefined>"
     ]
    }
   ],
   "source": [
    "f = open('first.docx', 'r')\n",
    "f.read()"
   ]
  },
  {
   "cell_type": "code",
   "execution_count": 55,
   "id": "027ec8fe",
   "metadata": {},
   "outputs": [
    {
     "ename": "ModuleNotFoundError",
     "evalue": "No module named 'doxc'",
     "output_type": "error",
     "traceback": [
      "\u001b[1;31m---------------------------------------------------------------------------\u001b[0m",
      "\u001b[1;31mModuleNotFoundError\u001b[0m                       Traceback (most recent call last)",
      "Input \u001b[1;32mIn [55]\u001b[0m, in \u001b[0;36m<cell line: 1>\u001b[1;34m()\u001b[0m\n\u001b[1;32m----> 1\u001b[0m \u001b[38;5;28;01mimport\u001b[39;00m \u001b[38;5;21;01mdoxc\u001b[39;00m\n\u001b[0;32m      2\u001b[0m f \u001b[38;5;241m=\u001b[39m \u001b[38;5;28mopen\u001b[39m(\u001b[38;5;124m'\u001b[39m\u001b[38;5;124mfirst.docx\u001b[39m\u001b[38;5;124m'\u001b[39m, \u001b[38;5;124m'\u001b[39m\u001b[38;5;124mr\u001b[39m\u001b[38;5;124m'\u001b[39m)\n\u001b[0;32m      3\u001b[0m f\u001b[38;5;241m.\u001b[39mread()\n",
      "\u001b[1;31mModuleNotFoundError\u001b[0m: No module named 'doxc'"
     ]
    }
   ],
   "source": [
    "import doxc\n",
    "f = open('first.docx', 'r')\n",
    "f.read()"
   ]
  },
  {
   "cell_type": "code",
   "execution_count": null,
   "id": "e3773ab3",
   "metadata": {},
   "outputs": [],
   "source": []
  }
 ],
 "metadata": {
  "kernelspec": {
   "display_name": "Python 3 (ipykernel)",
   "language": "python",
   "name": "python3"
  },
  "language_info": {
   "codemirror_mode": {
    "name": "ipython",
    "version": 3
   },
   "file_extension": ".py",
   "mimetype": "text/x-python",
   "name": "python",
   "nbconvert_exporter": "python",
   "pygments_lexer": "ipython3",
   "version": "3.9.12"
  }
 },
 "nbformat": 4,
 "nbformat_minor": 5
}
