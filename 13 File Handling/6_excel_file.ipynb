{
 "cells": [
  {
   "cell_type": "code",
   "execution_count": 4,
   "id": "94e028e5",
   "metadata": {},
   "outputs": [],
   "source": [
    "import openpyxl"
   ]
  },
  {
   "cell_type": "code",
   "execution_count": 47,
   "id": "dd2d1f32",
   "metadata": {},
   "outputs": [
    {
     "name": "stdout",
     "output_type": "stream",
     "text": [
      "Name\n"
     ]
    }
   ],
   "source": [
    "import openpyxl\n",
    "\n",
    "path = \"gfg.xlsx\"\n",
    "\n",
    "wb_obj = openpyxl.load_workbook(path)\n",
    "\n",
    "sheet_obj = wb_obj.active\n",
    "\n",
    "cell_obj = sheet_obj.cell(row = 1, column = 1) \n",
    "\n",
    "\n",
    "print(cell_obj.value)"
   ]
  },
  {
   "cell_type": "markdown",
   "id": "e22d67a5",
   "metadata": {},
   "source": [
    "### Reading from Multiple Cells"
   ]
  },
  {
   "cell_type": "markdown",
   "id": "bd18a23f",
   "metadata": {},
   "source": [
    "`Method 1:` We can get the count of the total rows and columns using the max_row and max_column respectively."
   ]
  },
  {
   "cell_type": "code",
   "execution_count": 45,
   "id": "3936d24a",
   "metadata": {},
   "outputs": [
    {
     "name": "stdout",
     "output_type": "stream",
     "text": [
      "Total Rows: 6\n",
      "Total Column: 4\n",
      "\n",
      "Value of first column\n",
      "Name\n",
      "Ankit \n",
      "Rahul\n",
      "Priya\n",
      "Nikhil\n",
      "Nisha\n",
      "\n",
      "Value of first row\n",
      "Ankit  B.Tech CSE 4 "
     ]
    }
   ],
   "source": [
    "import openpyxl\n",
    "\n",
    "path = \"gfg.xlsx\"\n",
    "\n",
    "wb_obj = openpyxl.load_workbook(path)\n",
    "\n",
    "sheet_obj = wb_obj.active\n",
    "\n",
    "row = sheet_obj.max_row\n",
    "column = sheet_obj.max_column\n",
    "\n",
    "print(\"Total Rows:\", row)\n",
    "print(\"Total Column:\", column)\n",
    "\n",
    "print(\"\\nValue of first column\")\n",
    "for i in range(1, row+1):\n",
    "    cell_obj = sheet_obj.cell(row = i, column = 1)\n",
    "    print(cell_obj.value)\n",
    "\n",
    "print(\"\\nValue of first row\")\n",
    "for i in range(1, column+1):\n",
    "    cell_obj = sheet_obj.cell(row = 2, column = i)\n",
    "    print(cell_obj.value, end= \" \")\n"
   ]
  },
  {
   "cell_type": "markdown",
   "id": "fee187e0",
   "metadata": {},
   "source": [
    "`Method 2`: We can also read from multiple cells using the cell name. This can be seen as the list slicing of Python."
   ]
  },
  {
   "cell_type": "code",
   "execution_count": 55,
   "id": "e8dd63bf",
   "metadata": {},
   "outputs": [
    {
     "name": "stdout",
     "output_type": "stream",
     "text": [
      "Name Course Branch Semester\n",
      "Ankit  B.Tech CSE 4\n",
      "Rahul M.Tech CSE 2\n",
      "Priya MBA HR 3\n",
      "Nikhil B.Tech CSE 4\n",
      "Nisha B.Tech Biotech 5\n"
     ]
    }
   ],
   "source": [
    "import openpyxl\n",
    "\n",
    "path = \"gfg.xlsx\"\n",
    "\n",
    "wb_obj = openpyxl.load_workbook(path)\n",
    "\n",
    "sheet_obj = wb_obj.active\n",
    "\n",
    "cell_obj = sheet_obj['A1' : 'D6']\n",
    "\n",
    "for cell1, cell2, cell3, cell4, in cell_obj:\n",
    "    print(cell1.value, cell2.value, cell3.value, cell4.value)\n"
   ]
  },
  {
   "cell_type": "markdown",
   "id": "0613f9f5",
   "metadata": {},
   "source": [
    "### Writing to Spreadsheets\n",
    "An empty spreadsheet can be created using the Workbook() method."
   ]
  },
  {
   "cell_type": "code",
   "execution_count": 56,
   "id": "9b9a3a4e",
   "metadata": {},
   "outputs": [],
   "source": [
    "from openpyxl import Workbook\n",
    "\n",
    "\n",
    "workbook = Workbook()\n",
    "\n",
    "# Anytime you modify the Workbook object\n",
    "# or its sheets and cells, the spreadsheet\n",
    "# file will not be saved until you call\n",
    "# the save() workbook method.\n",
    "\n",
    "workbook.save(filename=\"sample.xlsx\")\n"
   ]
  },
  {
   "cell_type": "code",
   "execution_count": 60,
   "id": "75a64fa7",
   "metadata": {},
   "outputs": [],
   "source": [
    "\n",
    "import openpyxl\n",
    "\n",
    "wb = openpyxl.Workbook()\n",
    "\n",
    "sheet = wb.active\n",
    "\n",
    "c1 = sheet.cell(row = 1, column = 1)\n",
    "c1.value = \"Hello\"\n",
    "\n",
    "c2 = sheet.cell(row = 1, column = 2)\n",
    "c2.value = \"Word\"\n",
    "\n",
    "c3 = sheet['A2']\n",
    "c3.value = \"Welcome\"\n",
    "\n",
    "c4 = sheet['B2']\n",
    "c4.value = \"Everyone\"\n",
    "\n",
    "wb.save(\"sample.xlsx\")\n"
   ]
  },
  {
   "cell_type": "markdown",
   "id": "b51dd18c",
   "metadata": {},
   "source": [
    "### Appending to the Spreadsheet"
   ]
  },
  {
   "cell_type": "code",
   "execution_count": 62,
   "id": "ecad154e",
   "metadata": {},
   "outputs": [],
   "source": [
    "import openpyxl\n",
    "\n",
    "wb = openpyxl.load_workbook(\"sample.xlsx\")\n",
    "\n",
    "sheet = wb.active\n",
    "\n",
    "c = sheet['A3']\n",
    "c.value = 'New data'\n",
    "\n",
    "wb.save(\"sample.xlsx\")"
   ]
  },
  {
   "cell_type": "code",
   "execution_count": 67,
   "id": "9c58afa2",
   "metadata": {},
   "outputs": [],
   "source": [
    "import openpyxl\n",
    "\n",
    "wb = openpyxl.load_workbook(\"sample.xlsx\")\n",
    "\n",
    "sheet = wb.active\n",
    "\n",
    "data = [\n",
    "    [11, 22, 33],          # as a row and (11,22,33) is colunm \n",
    "    [44, 55, 66]\n",
    "]\n",
    "\n",
    "for row in data:\n",
    "    sheet.append(row)\n",
    "\n",
    "wb.save(\"sample.xlsx\")\n"
   ]
  },
  {
   "cell_type": "code",
   "execution_count": 2,
   "id": "b0abfd9b",
   "metadata": {},
   "outputs": [],
   "source": [
    "import openpyxl\n",
    "\n",
    "class ExcelFile:\n",
    "    def __init__(self, filename):\n",
    "        self.filename = filename\n",
    "        self.wb = openpyxl.load_workbook(filename)\n",
    "        self.sheet = self.wb.active\n",
    "\n",
    "    def add_data(self, data):\n",
    "        for row in data:\n",
    "            self.sheet.append(row)\n",
    "        self.wb.save(self.filename)\n",
    " "
   ]
  },
  {
   "cell_type": "code",
   "execution_count": 3,
   "id": "5dc3a758",
   "metadata": {},
   "outputs": [],
   "source": [
    "file = ExcelFile(\"sample.xlsx\")\n",
    "data = [\n",
    "    [11, 22, 33],\n",
    "    [44, 55, 66]\n",
    "]\n",
    "file.add_data(data)\n"
   ]
  },
  {
   "cell_type": "markdown",
   "id": "b18c379c",
   "metadata": {},
   "source": [
    "### Arithmetic Operation on Spreadsheet"
   ]
  },
  {
   "cell_type": "code",
   "execution_count": 70,
   "id": "06a4aa38",
   "metadata": {},
   "outputs": [],
   "source": [
    "import openpyxl\n",
    "\n",
    "wb = openpyxl.Workbook()\n",
    "\n",
    "sheet = wb.active\n",
    "\n",
    "# writing to the cell of an excel sheet\n",
    "sheet['A1'] = 200\n",
    "sheet['A2'] = 300\n",
    "sheet['A3'] = 400\n",
    "sheet['A4'] = 500\n",
    "sheet['A5'] = 600\n",
    "\n",
    "\n",
    "sheet['A7'] = '= SUM(A1:A5)'\n",
    "\n",
    "sheet['A9'] = '=AVERAGE(A1:A5)'\n",
    "\n",
    "# save the file\n",
    "wb.save(\"sum.xlsx\")\n"
   ]
  },
  {
   "cell_type": "code",
   "execution_count": 10,
   "id": "11e59f10",
   "metadata": {},
   "outputs": [],
   "source": [
    "import openpyxl\n",
    "\n",
    "class ExcelFile:\n",
    "    def __init__(self, filename):\n",
    "        self.filename = filename\n",
    "        self.wb = openpyxl.Workbook()\n",
    "        self.sheet = self.wb.active\n",
    "\n",
    "    def add_data(self, cell, data):\n",
    "        try:\n",
    "            self.sheet[cell] = data\n",
    "            self.wb.save(self.filename)\n",
    "            return True\n",
    "        except Exception as e:\n",
    "            return e\n",
    "\n",
    "    def add_formula(self, cell, formula):\n",
    "        self.sheet[cell] = formula\n",
    "        self.wb.save(self.filename)\n"
   ]
  },
  {
   "cell_type": "code",
   "execution_count": 11,
   "id": "b38274d9",
   "metadata": {},
   "outputs": [],
   "source": [
    "file = ExcelFile(\"sum.xlsx\")\n",
    "file.add_data('A1', 200)\n",
    "file.add_data('A2', 300)\n",
    "file.add_data('A3', 400)\n",
    "file.add_data('A4', 500)\n",
    "file.add_data('A5', 600)\n",
    "file.add_data('A6', 1000)\n",
    "\n",
    "file.add_formula('A8', '= SUM(A1:A6)')\n",
    "\n",
    "file.add_formula('A9', '=AVERAGE(A1:A6)')\n"
   ]
  },
  {
   "cell_type": "code",
   "execution_count": null,
   "id": "20cd0fe1",
   "metadata": {},
   "outputs": [],
   "source": []
  }
 ],
 "metadata": {
  "kernelspec": {
   "display_name": "Python 3 (ipykernel)",
   "language": "python",
   "name": "python3"
  },
  "language_info": {
   "codemirror_mode": {
    "name": "ipython",
    "version": 3
   },
   "file_extension": ".py",
   "mimetype": "text/x-python",
   "name": "python",
   "nbconvert_exporter": "python",
   "pygments_lexer": "ipython3",
   "version": "3.9.12"
  }
 },
 "nbformat": 4,
 "nbformat_minor": 5
}
