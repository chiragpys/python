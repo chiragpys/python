{
 "cells": [
  {
   "cell_type": "code",
   "execution_count": 2,
   "id": "f4955049",
   "metadata": {},
   "outputs": [],
   "source": [
    "import PyPDF3"
   ]
  },
  {
   "cell_type": "code",
   "execution_count": 31,
   "id": "f3dce2d3",
   "metadata": {},
   "outputs": [
    {
     "name": "stdout",
     "output_type": "stream",
     "text": [
      "263\n",
      "APracticalIntroductionto\n",
      "PythonProgramming\n",
      "BrianHeinold\n",
      "DepartmentofMathematicsandComputerScience\n",
      "MountSt.Mary'sUniversity\n",
      "\n"
     ]
    }
   ],
   "source": [
    "pdfobj = open('Apy.pdf', 'rb')\n",
    "pdfread = PyPDF3.PdfFileReader(pdfobj)\n",
    "print(pdfread.numPages)\n",
    "\n",
    "pageObj = pdfread.getPage(0)\n",
    "\n",
    "print(pageObj.extractText())\n",
    "pdfobj.close()"
   ]
  },
  {
   "cell_type": "markdown",
   "id": "b1e60265",
   "metadata": {},
   "source": [
    "### Rotating PDF pages"
   ]
  },
  {
   "cell_type": "code",
   "execution_count": 40,
   "id": "0fba5f5b",
   "metadata": {},
   "outputs": [],
   "source": [
    "import PyPDF3\n",
    "\n",
    "def PDFrotate(origFileName, newFileName, rotation):\n",
    "    pdfFileObj = open(origFileName, 'rb')\n",
    "\n",
    "# creating a pdf Reader object\n",
    "    pdfReader = PyPDF3.PdfFileReader(pdfFileObj)\n",
    "\n",
    "# creating a pdf writer object for new pdf\n",
    "    pdfWriter = PyPDF3.PdfFileWriter()\n",
    "\n",
    "# rotating each page\n",
    "    for page in range(pdfReader.numPages):\n",
    "        pageObj = pdfReader.getPage(page)\n",
    "        pageObj.rotateClockwise(rotation)\n",
    "        pdfWriter.addPage(pageObj)\n",
    "\n",
    "# new pdf file object\n",
    "    newFile = open(newFileName, 'wb')\n",
    "\n",
    "# writing rotated pages to new file\n",
    "    pdfWriter.write(newFile)\n",
    "\n",
    "# closing the original pdf file object\n",
    "    pdfFileObj.close()\n",
    "\n",
    "# closing the new pdf file object\n",
    "    newFile.close()\n",
    "\n",
    "\n",
    "def main():\n",
    "    \n",
    "    origFileName = 'Apy.pdf'\n",
    "\n",
    "# new pdf file name\n",
    "    newFileName = 'rotated_example.pdf'\n",
    "\n",
    "# rotation angle\n",
    "    rotation = 270\n",
    "\n",
    "# calling the PDFrotate function\n",
    "    PDFrotate(origFileName, newFileName, rotation)\n",
    "\n",
    "\n",
    "main()\n"
   ]
  },
  {
   "cell_type": "markdown",
   "id": "3170bb47",
   "metadata": {},
   "source": [
    "### Merging PDF files"
   ]
  },
  {
   "cell_type": "code",
   "execution_count": 42,
   "id": "ac2767c5",
   "metadata": {},
   "outputs": [],
   "source": [
    "import PyPDF3\n",
    "\n",
    "def PDFmerge(pdfs, output):\n",
    "    # creating pdf file merger object\n",
    "    pdfMerger = PyPDF3.PdfFileMerger()\n",
    "\n",
    "    # appending pdfs one by one\n",
    "    for pdf in pdfs:\n",
    "        pdfMerger.append(pdf)\n",
    "\n",
    "    # writing combined pdf to output pdf file\n",
    "    with open(output, 'wb') as f:\n",
    "        pdfMerger.write(f)\n",
    "\n",
    "\n",
    "def main():\n",
    "    # pdf files to merge\n",
    "    pdfs = ['Apy.pdf', 'rotated_example.pdf']\n",
    "\n",
    "    # output pdf file name\n",
    "    output = 'combined_example.pdf'\n",
    "\n",
    "    # calling pdf merge function\n",
    "    PDFmerge(pdfs=pdfs, output=output)\n",
    "\n",
    "main()\n"
   ]
  },
  {
   "cell_type": "markdown",
   "id": "27cd6277",
   "metadata": {},
   "source": [
    "### Splitting PDF file"
   ]
  },
  {
   "cell_type": "code",
   "execution_count": 45,
   "id": "639e7080",
   "metadata": {},
   "outputs": [],
   "source": [
    "import PyPDF3\n",
    "\n",
    "def PDFsplit(pdf, splits):\n",
    "    # creating input pdf file object\n",
    "    pdfFileObj = open(pdf, 'rb')\n",
    "\n",
    "    # creating pdf reader object\n",
    "    pdfReader = PyPDF3.PdfFileReader(pdfFileObj)\n",
    "\n",
    "    # starting index of first slice\n",
    "    start = 0\n",
    "\n",
    "    # starting index of last slice\n",
    "    end = splits[0]\n",
    "\n",
    "\n",
    "    for i in range(len(splits)+1):\n",
    "        # creating pdf writer object for (i+1)th split\n",
    "        pdfWriter = PyPDF3.PdfFileWriter()\n",
    "\n",
    "        # output pdf file name\n",
    "        outputpdf = pdf.split('.pdf')[0] + str(i) + '.pdf'\n",
    "\n",
    "    # adding pages to pdf writer object\n",
    "    for page in range(start,end):\n",
    "        pdfWriter.addPage(pdfReader.getPage(page))\n",
    "\n",
    "    # writing split pdf pages to pdf file\n",
    "    with open(outputpdf, \"wb\") as f:\n",
    "        pdfWriter.write(f)\n",
    "\n",
    "    # interchanging page split start position for next split\n",
    "    start = end\n",
    "    \n",
    "    try:\n",
    "        # setting split end position for next split\n",
    "        end = splits[i+1]\n",
    "    \n",
    "    except IndexError:\n",
    "        # setting split end position for last split\n",
    "        end = pdfReader.numPages\n",
    "\n",
    "    # closing the input pdf file object\n",
    "    pdfFileObj.close()\n",
    "\n",
    "def main():\n",
    "    # pdf file to split\n",
    "    pdf = 'Apy.pdf'\n",
    "\n",
    "    # split page positions\n",
    "    splits = [2,4]\n",
    "\n",
    "    # calling PDFsplit function to split pdf\n",
    "    PDFsplit(pdf, splits)\n",
    "\n",
    "main()\n"
   ]
  },
  {
   "cell_type": "code",
   "execution_count": null,
   "id": "39666797",
   "metadata": {},
   "outputs": [],
   "source": []
  }
 ],
 "metadata": {
  "kernelspec": {
   "display_name": "Python 3 (ipykernel)",
   "language": "python",
   "name": "python3"
  },
  "language_info": {
   "codemirror_mode": {
    "name": "ipython",
    "version": 3
   },
   "file_extension": ".py",
   "mimetype": "text/x-python",
   "name": "python",
   "nbconvert_exporter": "python",
   "pygments_lexer": "ipython3",
   "version": "3.9.12"
  }
 },
 "nbformat": 4,
 "nbformat_minor": 5
}
