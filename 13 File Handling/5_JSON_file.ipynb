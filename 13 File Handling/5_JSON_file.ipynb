{
 "cells": [
  {
   "cell_type": "code",
   "execution_count": null,
   "id": "3cfb19d3",
   "metadata": {},
   "outputs": [],
   "source": [
    "import json"
   ]
  },
  {
   "cell_type": "markdown",
   "id": "bfd53233",
   "metadata": {},
   "source": [
    "###  Convert from JSON to Python"
   ]
  },
  {
   "cell_type": "code",
   "execution_count": null,
   "id": "11dd09c1",
   "metadata": {},
   "outputs": [],
   "source": [
    "import json\n",
    "\n",
    "# JSON string\n",
    "employee = '{\"id\":\"09\", \"name\": \"Nitin\", \"department\":\"Finance\"}'\n",
    "print(\"This is JSON\", type(employee))\n",
    "print(employee)\n",
    "print(len(employee))\n",
    "\n",
    "\n",
    "print(\"\\nNow convert from JSON to Python\")\n",
    "# Convert string to Python dict\n",
    "employee_dict = json.loads(employee)\n",
    "print(\"Converted to Python\", type(employee_dict))\n",
    "print(employee_dict)\n",
    "\n",
    "print(employee_dict['name'])\n",
    "print(len(employee_dict))\n"
   ]
  },
  {
   "cell_type": "markdown",
   "id": "9ff41a4f",
   "metadata": {},
   "source": [
    "### Convert from Python to JSON"
   ]
  },
  {
   "cell_type": "code",
   "execution_count": null,
   "id": "a051213a",
   "metadata": {},
   "outputs": [],
   "source": [
    "import json\n",
    "\n",
    "# python data\n",
    "employee_dict = {'id': '09', 'name': 'Vidhan', 'department': 'Finance'}\n",
    "print(\"This is Python\", type(employee_dict))\n",
    "\n",
    "print(\"\\nNow Convert from Python to JSON\")\n",
    "\n",
    "# Convert Python dict to JSON\n",
    "json_object = json.dumps(employee_dict, indent=4)\n",
    "print(\"Converted to JSON\", type(json_object))\n",
    "print(json_object)\n"
   ]
  },
  {
   "cell_type": "markdown",
   "id": "e6fede29",
   "metadata": {},
   "source": [
    "#### When you convert from `Python to JSON` Python onject are convert into the `JSON equivalent`\n",
    "#### dict   --to-- object\n",
    "#### list   --to-- array\n",
    "#### tuple  --to-- array\n",
    "#### str    --to-- string\n",
    "#### int    --to-- Number\n",
    "#### float  --to-- Number\n",
    "#### True   --to-- true\n",
    "#### False  --to-- false\n",
    "#### None   --to-- null"
   ]
  },
  {
   "cell_type": "code",
   "execution_count": null,
   "id": "68b49adb",
   "metadata": {},
   "outputs": [],
   "source": [
    "import json\n",
    "                                                # Python ------ json\n",
    "print(json.dumps({\"name\": \"John\", \"age\": 30}))  # dict   --to-- object\n",
    "print(json.dumps([\"apple\", \"bananas\"])          # list   --to-- array\n",
    "print(json.dumps((\"apple\", \"bananas\"))          # tuple  --to-- array\n",
    "print(json.dumps(\"hello\"))                      # str    --to-- string\n",
    "print(json.dumps(42))                           # int    --to-- Number\n",
    "print(json.dumps(31.76))                        # float  --to-- Number\n",
    "print(json.dumps(True))                         # True   --to-- true\n",
    "print(json.dumps(False))                        # False  --to-- false\n",
    "print(json.dumps(None))                         # None   --to-- null"
   ]
  },
  {
   "cell_type": "code",
   "execution_count": 1,
   "id": "2bc7ad3f",
   "metadata": {},
   "outputs": [
    {
     "name": "stdout",
     "output_type": "stream",
     "text": [
      "{\"name\": \"John\", \"age\": 30, \"married\": true, \"divorced\": false, \"children\": [\"Ann\", \"Billy\"], \"pets\": null, \"cars\": [{\"model\": \"BMW 230\", \"mpg\": 27.5}, {\"model\": \"Ford Edge\", \"mpg\": 24.1}]}\n",
      "<class 'str'>\n",
      "{\n",
      "    \"name\": \"John\",\n",
      "    \"age\": 30,\n",
      "    \"married\": true,\n",
      "    \"divorced\": false,\n",
      "    \"children\": [\n",
      "        \"Ann\",\n",
      "        \"Billy\"\n",
      "    ],\n",
      "    \"pets\": null,\n",
      "    \"cars\": [\n",
      "        {\n",
      "            \"model\": \"BMW 230\",\n",
      "            \"mpg\": 27.5\n",
      "        },\n",
      "        {\n",
      "            \"model\": \"Ford Edge\",\n",
      "            \"mpg\": 24.1\n",
      "        }\n",
      "    ]\n",
      "}\n"
     ]
    }
   ],
   "source": [
    "import json\n",
    "\n",
    "x = {\n",
    "  \"name\": \"John\",\n",
    "  \"age\": 30,\n",
    "  \"married\": True,\n",
    "  \"divorced\": False,\n",
    "  \"children\": (\"Ann\",\"Billy\"),\n",
    "  \"pets\": None,\n",
    "  \"cars\": [\n",
    "    {\"model\": \"BMW 230\", \"mpg\": 27.5},\n",
    "    {\"model\": \"Ford Edge\", \"mpg\": 24.1}\n",
    "  ]\n",
    "}\n",
    "y = json.dumps(x)\n",
    "print(y)\n",
    "print(type(y))\n",
    "\n",
    "print(json.dumps(x, indent=4))\n",
    "\n"
   ]
  },
  {
   "cell_type": "code",
   "execution_count": 2,
   "id": "7be680fb",
   "metadata": {},
   "outputs": [
    {
     "name": "stdout",
     "output_type": "stream",
     "text": [
      "sort of keys\n",
      "{\n",
      "  \"age\": 30,\n",
      "  \"cars\": [\n",
      "    {\n",
      "      \"model\": \"BMW 230\",\n",
      "      \"mpg\": 27.5\n",
      "    },\n",
      "    {\n",
      "      \"model\": \"Ford Edge\",\n",
      "      \"mpg\": 24.1\n",
      "    }\n",
      "  ],\n",
      "  \"children\": [\n",
      "    \"Ann\",\n",
      "    \"Billy\"\n",
      "  ],\n",
      "  \"divorced\": false,\n",
      "  \"married\": true,\n",
      "  \"name\": \"John\",\n",
      "  \"pets\": null\n",
      "}\n"
     ]
    }
   ],
   "source": [
    "print(\"sort of keys\")\n",
    "print(json.dumps(x, sort_keys=True, indent=2))"
   ]
  },
  {
   "cell_type": "code",
   "execution_count": 9,
   "id": "29929d58",
   "metadata": {},
   "outputs": [
    {
     "name": "stdout",
     "output_type": "stream",
     "text": [
      "{\"name\" = \"John\". \"age\" = 30. \"married\" = true. \"divorced\" = false. \"children\" = [\"Ann\". \"Billy\"]. \"pets\" = null. \"cars\" = [{\"model\" = \"BMW 230\". \"mpg\" = 27.5}. {\"model\" = \"Ford Edge\". \"mpg\" = 24.1}]}\n"
     ]
    }
   ],
   "source": [
    "print(json.dumps(x,  separators=(\". \", \" = \")))"
   ]
  },
  {
   "cell_type": "markdown",
   "id": "3d6e8971",
   "metadata": {},
   "source": [
    "#### Difference between json.dump() and json.dumps()\n",
    "json.dumps() method can convert a Python object into a JSON string"
   ]
  },
  {
   "cell_type": "code",
   "execution_count": 10,
   "id": "636081d1",
   "metadata": {},
   "outputs": [
    {
     "name": "stdout",
     "output_type": "stream",
     "text": [
      "{\n",
      "    \"id\": \"04\",\n",
      "    \"name\": \"python\",\n",
      "    \"department\": \"IT\"\n",
      "}\n",
      "<class 'str'>\n"
     ]
    }
   ],
   "source": [
    "import json\n",
    "\n",
    "# Data to be written\n",
    "dictionary ={\n",
    "\"id\": \"04\",\n",
    "\"name\": \"python\",\n",
    "\"department\": \"IT\"\n",
    "}\n",
    "\n",
    "\n",
    "json_object = json.dumps(dictionary, indent = 4)\n",
    "print(json_object)\n",
    "print(type(json_object))"
   ]
  },
  {
   "cell_type": "markdown",
   "id": "642b072d",
   "metadata": {},
   "source": [
    "#### json.dump()\n",
    "json.dump() method can be used for writing to JSON file."
   ]
  },
  {
   "cell_type": "code",
   "execution_count": 13,
   "id": "118089ba",
   "metadata": {},
   "outputs": [],
   "source": [
    "import json\n",
    "\n",
    "# Data to be written\n",
    "dictionary ={\n",
    "    \"name\" : \"chirag\",\n",
    "    \"rollno\" : 506,\n",
    "    \"cgpa\" : 8.6,\n",
    "    \"phonenumber\" : \"7878950100\"\n",
    "}\n",
    "\n",
    "with open(\"sample.json\", \"w\") as outfile:\n",
    "    json.dump(dictionary, outfile)\n"
   ]
  },
  {
   "cell_type": "code",
   "execution_count": 14,
   "id": "3e59082d",
   "metadata": {},
   "outputs": [
    {
     "name": "stdout",
     "output_type": "stream",
     "text": [
      "{'name': 'chirag', 'rollno': 506, 'cgpa': 8.6, 'phonenumber': '7878950100'}\n"
     ]
    }
   ],
   "source": [
    "# with open(\"sample.json\", 'r') as f:     # reading of the json files\n",
    "#     data = json.load(f)\n",
    "#     print(data)"
   ]
  },
  {
   "cell_type": "markdown",
   "id": "510752b8",
   "metadata": {},
   "source": [
    "### Difference Between json.load() and json.loads()"
   ]
  },
  {
   "cell_type": "markdown",
   "id": "80b4c3c4",
   "metadata": {},
   "source": [
    "### json.load()\n",
    "json.load() takes a file object and returns the json object. It is used to read JSON encoded data from a file and convert it into a Python dictionary and deserialize a file itself i.e. it accepts a file object."
   ]
  },
  {
   "cell_type": "code",
   "execution_count": 15,
   "id": "ecb85fa9",
   "metadata": {},
   "outputs": [],
   "source": [
    "import json\n",
    "\n",
    "data = {\n",
    "    \"name\": \"Satyam kumar\",\n",
    "    \"place\": \"patna\",\n",
    "    \"skills\": [\n",
    "        \"Raspberry pi\",\n",
    "        \"Machine Learning\",\n",
    "        \"Web Development\"\n",
    "    ],\n",
    "    \"email\": \"xyz@gmail.com\",\n",
    "    \"projects\": [\n",
    "        \"Python Data Mining\",\n",
    "        \"Python Data Science\"\n",
    "    ]\n",
    "}\n",
    "with open(\"data_file.json\" , \"w\") as write:\n",
    "    json.dump(data , write)\n"
   ]
  },
  {
   "cell_type": "code",
   "execution_count": 16,
   "id": "c0620404",
   "metadata": {},
   "outputs": [
    {
     "name": "stdout",
     "output_type": "stream",
     "text": [
      "{'name': 'Satyam kumar', 'place': 'patna', 'skills': ['Raspberry pi', 'Machine Learning', 'Web Development'], 'email': 'xyz@gmail.com', 'projects': ['Python Data Mining', 'Python Data Science']}\n"
     ]
    }
   ],
   "source": [
    "with open(\"data_file.json\", \"r\") as read_content:\n",
    "    data = json.load(read_content)\n",
    "    print(data)\n"
   ]
  },
  {
   "cell_type": "markdown",
   "id": "1e85f001",
   "metadata": {},
   "source": [
    "### json.loads()\n",
    "json.loads() method can be used to parse a valid JSON string and convert it into a Python Dictionary."
   ]
  },
  {
   "cell_type": "code",
   "execution_count": 23,
   "id": "af34bf07",
   "metadata": {},
   "outputs": [
    {
     "name": "stdout",
     "output_type": "stream",
     "text": [
      "<class 'str'>\n",
      "{'Name': 'Jennifer Smith', 'Contact Number': 7867567898, 'Email': 'jen123@gmail.com', 'Hobbies': ['Reading', 'Sketching', 'Horse Riding']}\n",
      "<class 'dict'>\n",
      "['Reading', 'Sketching', 'Horse Riding']\n"
     ]
    }
   ],
   "source": [
    "import json\n",
    "# Multi-line string\n",
    "data = \"\"\"{\n",
    "    \"Name\": \"Jennifer Smith\",\n",
    "    \"Contact Number\": 7867567898,\n",
    "    \"Email\": \"jen123@gmail.com\",\n",
    "    \"Hobbies\":[\"Reading\", \"Sketching\", \"Horse Riding\"]\n",
    "    }\"\"\"\n",
    "\n",
    "print(type(data))   \n",
    "# parse data:\n",
    "res = json.loads(data)\n",
    "\n",
    "print(res)\n",
    "print(type(res))\n",
    "print(res[\"Hobbies\"])"
   ]
  },
  {
   "cell_type": "code",
   "execution_count": 2,
   "id": "c7747cbd",
   "metadata": {},
   "outputs": [],
   "source": [
    "import json"
   ]
  },
  {
   "cell_type": "code",
   "execution_count": 3,
   "id": "58272d6c",
   "metadata": {},
   "outputs": [],
   "source": [
    "l = ['chirag', 'python']\n",
    "\n",
    "with open('s.json', 'w') as f:\n",
    "    json.dump(l, f)"
   ]
  },
  {
   "cell_type": "code",
   "execution_count": 4,
   "id": "8e542e14",
   "metadata": {},
   "outputs": [
    {
     "name": "stdout",
     "output_type": "stream",
     "text": [
      "['chirag', 'python']\n"
     ]
    }
   ],
   "source": [
    "with open(\"s.json\", \"r\") as read_content:\n",
    "    data = json.load(read_content)\n",
    "    print(data)"
   ]
  },
  {
   "cell_type": "code",
   "execution_count": null,
   "id": "f067ec67",
   "metadata": {},
   "outputs": [],
   "source": []
  }
 ],
 "metadata": {
  "kernelspec": {
   "display_name": "Python 3 (ipykernel)",
   "language": "python",
   "name": "python3"
  },
  "language_info": {
   "codemirror_mode": {
    "name": "ipython",
    "version": 3
   },
   "file_extension": ".py",
   "mimetype": "text/x-python",
   "name": "python",
   "nbconvert_exporter": "python",
   "pygments_lexer": "ipython3",
   "version": "3.9.12"
  }
 },
 "nbformat": 4,
 "nbformat_minor": 5
}
