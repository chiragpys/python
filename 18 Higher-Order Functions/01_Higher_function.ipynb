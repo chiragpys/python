{
 "cells": [
  {
   "cell_type": "markdown",
   "id": "b71455c7",
   "metadata": {},
   "source": [
    "### Higher Order Function\n",
    "A function is called `Higher Order Function` if it contains other functions as a parameter or returns a function as an output i.e, the functions that operate with another function are known as Higher order Functions."
   ]
  },
  {
   "cell_type": "code",
   "execution_count": 1,
   "id": "f6976ec4",
   "metadata": {},
   "outputs": [],
   "source": [
    "def Upperstr(string):\n",
    "    return string.upper()\n"
   ]
  },
  {
   "cell_type": "code",
   "execution_count": 9,
   "id": "93c0f73b",
   "metadata": {
    "scrolled": true
   },
   "outputs": [
    {
     "name": "stdout",
     "output_type": "stream",
     "text": [
      "HELLO WORD\n",
      "PYTHON\n"
     ]
    },
    {
     "data": {
      "text/plain": [
       "function"
      ]
     },
     "execution_count": 9,
     "metadata": {},
     "output_type": "execute_result"
    }
   ],
   "source": [
    "print(Upperstr(\"Hello word\"))\n",
    "\n",
    "# Function as variable\n",
    "text = Upperstr\n",
    "print(text('python'))\n",
    "type(text)"
   ]
  },
  {
   "cell_type": "markdown",
   "id": "aea38970",
   "metadata": {},
   "source": [
    "### Function as a parameter"
   ]
  },
  {
   "cell_type": "code",
   "execution_count": 10,
   "id": "28d9e551",
   "metadata": {},
   "outputs": [],
   "source": [
    "def upperstr(string):\n",
    "    return string.upper()\n",
    "\n",
    "def lowerstr(string):\n",
    "    return string.lower()\n",
    "\n",
    "def common(func):\n",
    "    str1 = func(\"Hi, I am created by a function passed as an argument.\")\n",
    "    return str1"
   ]
  },
  {
   "cell_type": "code",
   "execution_count": 23,
   "id": "95322ee0",
   "metadata": {},
   "outputs": [
    {
     "name": "stdout",
     "output_type": "stream",
     "text": [
      "HI, I AM CREATED BY A FUNCTION PASSED AS AN ARGUMENT.\n",
      "hi, i am created by a function passed as an argument.\n"
     ]
    }
   ],
   "source": [
    "print(common(upperstr))\n",
    "print(common(lowerstr))"
   ]
  },
  {
   "cell_type": "markdown",
   "id": "4deed26f",
   "metadata": {},
   "source": [
    "### Function as a return value\n",
    "As functions are objects, we can also return a function from another function."
   ]
  },
  {
   "cell_type": "code",
   "execution_count": 24,
   "id": "72a82432",
   "metadata": {},
   "outputs": [],
   "source": [
    "def create_add(x):\n",
    "    def addition(y):\n",
    "        return x+y\n",
    "    return addition"
   ]
  },
  {
   "cell_type": "code",
   "execution_count": 31,
   "id": "fa87445a",
   "metadata": {},
   "outputs": [
    {
     "name": "stdout",
     "output_type": "stream",
     "text": [
      "25\n"
     ]
    }
   ],
   "source": [
    "add = create_add(10)\n",
    "print(add(15))"
   ]
  },
  {
   "cell_type": "markdown",
   "id": "95022cac",
   "metadata": {},
   "source": [
    "### Python Closures\n",
    "Python closure is a nested function that allows us to access variables of the outer function even after the outer function is closed."
   ]
  },
  {
   "cell_type": "code",
   "execution_count": 42,
   "id": "615e317b",
   "metadata": {},
   "outputs": [
    {
     "name": "stdout",
     "output_type": "stream",
     "text": [
      "Hello Python\n"
     ]
    }
   ],
   "source": [
    "def greet():\n",
    "    name = \"Python\"\n",
    "    \n",
    "    return lambda: \"Hello \" + name\n",
    "\n",
    "# call the outer function \n",
    "msg = greet()\n",
    "\n",
    "# call the inner function \n",
    "print(msg())"
   ]
  },
  {
   "cell_type": "code",
   "execution_count": 67,
   "id": "cc477053",
   "metadata": {},
   "outputs": [
    {
     "name": "stdout",
     "output_type": "stream",
     "text": [
      "2\n",
      "4\n",
      "6 \n",
      "\n",
      "Call the outer function again\n",
      "2\n"
     ]
    }
   ],
   "source": [
    "def calculate():\n",
    "    num = 0\n",
    "    def innerfunc():\n",
    "        nonlocal num\n",
    "        num += 2\n",
    "        return num\n",
    "    return innerfunc\n",
    "\n",
    "# call the outer function\n",
    "even = calculate()\n",
    "\n",
    "# call the inner function\n",
    "print(even())\n",
    "print(even())\n",
    "print(even(),\"\\n\")\n",
    "\n",
    "print(\"Call the outer function again\")\n",
    "even1 = calculate()\n",
    "print(even1())"
   ]
  },
  {
   "cell_type": "code",
   "execution_count": 80,
   "id": "da6a8021",
   "metadata": {},
   "outputs": [
    {
     "name": "stdout",
     "output_type": "stream",
     "text": [
      "4\n",
      "10\n",
      "20\n"
     ]
    }
   ],
   "source": [
    "def make_multiplier(n):\n",
    "    def multiplier(x):\n",
    "        return x * n\n",
    "    return multiplier\n",
    "\n",
    "\n",
    "# call the outer function\n",
    "times1 = make_multiplier(2)\n",
    "\n",
    "\n",
    "times2 = make_multiplier(5)\n",
    "\n",
    "# call the inner function\n",
    "print(times1(2))\n",
    "\n",
    "print(times2(2))\n",
    "\n",
    "print(times2(times1(2)))\n"
   ]
  },
  {
   "cell_type": "markdown",
   "id": "62c7e940",
   "metadata": {},
   "source": [
    "### Decorators\n",
    "`Decorators` are the `most common use of higher-order functions` in Python. It allows programmers to `modify the behavior of function or class`. Decorators allow us to wrap another function in order to extend the behavior of wrapped function, without permanently modifying it."
   ]
  },
  {
   "cell_type": "code",
   "execution_count": 85,
   "id": "7308d30f",
   "metadata": {},
   "outputs": [
    {
     "name": "stdout",
     "output_type": "stream",
     "text": [
      "I got decorated\n",
      "I am ordinary\n"
     ]
    }
   ],
   "source": [
    "def make(func):\n",
    "    # inner fuction\n",
    "    def inner():\n",
    "        print(\"I got decorated\")\n",
    "        func()\n",
    "    # rerurn inner function\n",
    "    return inner\n",
    "\n",
    "\n",
    "def ordinary():\n",
    "    print(\"I am ordinary\")\n",
    "    \n",
    "# Call the outer function   \n",
    "decorated_func = make(ordinary)\n",
    "\n",
    "# call the decorated function\n",
    "decorated_func()"
   ]
  },
  {
   "cell_type": "code",
   "execution_count": 88,
   "id": "ae1c67ad",
   "metadata": {},
   "outputs": [
    {
     "name": "stdout",
     "output_type": "stream",
     "text": [
      "I got decorated\n",
      "I am ordinary\n"
     ]
    }
   ],
   "source": [
    "def make(func):\n",
    "    # inner fuction\n",
    "    def inner():\n",
    "        print(\"I got decorated\")\n",
    "        func()\n",
    "    # return inner function\n",
    "    return inner\n",
    "\n",
    "# decorated\n",
    "@make\n",
    "def ordinary():\n",
    "    print(\"I am ordinary\")\n",
    "\n",
    "ordinary()"
   ]
  },
  {
   "cell_type": "markdown",
   "id": "3e2f2c8c",
   "metadata": {},
   "source": [
    "Here, the `ordinary()` function is decorated with the `make()` decorator using the `@make syntax`, which is equivalent to `calling ordinary = make(ordinary)`."
   ]
  },
  {
   "cell_type": "markdown",
   "id": "6c744317",
   "metadata": {},
   "source": [
    "### Decorating Functions with Parameters\n"
   ]
  },
  {
   "cell_type": "code",
   "execution_count": 91,
   "id": "896c0a98",
   "metadata": {},
   "outputs": [
    {
     "name": "stdout",
     "output_type": "stream",
     "text": [
      "I am going to divide 10 and 5\n",
      "2.0\n",
      "I am going to divide 2 and 0\n",
      "Whoops! cannot divide\n"
     ]
    }
   ],
   "source": [
    "# outer function \n",
    "def smart_divide(func):\n",
    "    # inner function \n",
    "    def inner(a, b):\n",
    "        print(\"I am going to divide\", a, \"and\", b)\n",
    "        if b == 0:\n",
    "            print(\"Ohhh No! cannot divide\")\n",
    "            return\n",
    "        # return the inner function\n",
    "        return func(a, b)\n",
    "    \n",
    "    # return inner function \n",
    "    return inner\n",
    "\n",
    "@smart_divide\n",
    "def divide(a, b):\n",
    "    print(a/b)\n",
    "\n",
    "divide(10,5)\n",
    "\n",
    "divide(2,0)"
   ]
  },
  {
   "cell_type": "code",
   "execution_count": 109,
   "id": "5996b957",
   "metadata": {},
   "outputs": [
    {
     "data": {
      "text/plain": [
       "400"
      ]
     },
     "execution_count": 109,
     "metadata": {},
     "output_type": "execute_result"
    }
   ],
   "source": [
    "def decor(func):\n",
    "    def inner():\n",
    "        x = func()\n",
    "        return x * x\n",
    "    return inner\n",
    "\n",
    "def decor1(func):\n",
    "    def inner():\n",
    "        x = func()\n",
    "        return 2 * x\n",
    "    return inner\n",
    "\n",
    "@decor\n",
    "@decor1\n",
    "def num():\n",
    "    return 10\n",
    "\n",
    "num()\n"
   ]
  },
  {
   "cell_type": "code",
   "execution_count": null,
   "id": "a0cfba5e",
   "metadata": {},
   "outputs": [],
   "source": []
  }
 ],
 "metadata": {
  "kernelspec": {
   "display_name": "Python 3 (ipykernel)",
   "language": "python",
   "name": "python3"
  },
  "language_info": {
   "codemirror_mode": {
    "name": "ipython",
    "version": 3
   },
   "file_extension": ".py",
   "mimetype": "text/x-python",
   "name": "python",
   "nbconvert_exporter": "python",
   "pygments_lexer": "ipython3",
   "version": "3.9.12"
  }
 },
 "nbformat": 4,
 "nbformat_minor": 5
}
