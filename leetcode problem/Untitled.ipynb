{
 "cells": [
  {
   "cell_type": "code",
   "execution_count": null,
   "id": "2b9c1c3f",
   "metadata": {},
   "outputs": [],
   "source": [
    "x = -1213\n",
    "num = 0"
   ]
  },
  {
   "cell_type": "code",
   "execution_count": null,
   "id": "6e62bd98",
   "metadata": {},
   "outputs": [],
   "source": [
    "while x > 0:\n",
    "    num = num * 10 + x % 10\n",
    "    x = x//10\n",
    "    "
   ]
  },
  {
   "cell_type": "code",
   "execution_count": null,
   "id": "9768be32",
   "metadata": {
    "scrolled": false
   },
   "outputs": [],
   "source": [
    "print(num)"
   ]
  },
  {
   "cell_type": "code",
   "execution_count": null,
   "id": "bb76b23b",
   "metadata": {},
   "outputs": [],
   "source": [
    "a = -123"
   ]
  },
  {
   "cell_type": "code",
   "execution_count": null,
   "id": "46c17de3",
   "metadata": {},
   "outputs": [],
   "source": [
    "a % 10"
   ]
  },
  {
   "cell_type": "code",
   "execution_count": null,
   "id": "85314959",
   "metadata": {},
   "outputs": [],
   "source": [
    "height = [1,8,6,2,5,4,8,3,7]\n",
    "maxarea = 0\n",
    "for i in range(len(height)):\n",
    "    for j in range(i+1, len(height)):\n",
    "        maxarea = max(maxarea, min(height[j], height[i]) * (j - i))\n",
    "        print(maxarea)\n",
    "    print()"
   ]
  },
  {
   "cell_type": "code",
   "execution_count": 3,
   "id": "26fd763a",
   "metadata": {},
   "outputs": [],
   "source": [
    "def intToRoman(num):\n",
    "    numlist = [1, 4, 5, 9, 10, 40, 50, 90, 100, 400, 500, 900, 1000]\n",
    "    romlist = [\"I\", \"IV\", \"V\", \"IX\", \"X\", \"XL\", \"L\", \"XC\", \"C\", \"CD\", \"D\", \"CM\", \"M\"]\n",
    "    i = 12\n",
    "\n",
    "    while num:\n",
    "        div = num // numlist[i]\n",
    "        num %= numlist[i]\n",
    "\n",
    "        while div:\n",
    "            print(romlist[i], end='')\n",
    "            div -= 1\n",
    "        i -= 1"
   ]
  },
  {
   "cell_type": "code",
   "execution_count": 6,
   "id": "13c59c69",
   "metadata": {},
   "outputs": [
    {
     "name": "stdout",
     "output_type": "stream",
     "text": [
      "MCMXCIV"
     ]
    }
   ],
   "source": [
    "i = 1994\n",
    "r = intToRoman(i)"
   ]
  },
  {
   "cell_type": "code",
   "execution_count": null,
   "id": "22b5c33a",
   "metadata": {},
   "outputs": [],
   "source": [
    "total = 0\n",
    "        for i in range(len(s) - 1):\n",
    "            if roman[s[i]] < roman[s[i+1]]:\n",
    "                total -= roman[s[i]]\n",
    "            else:\n",
    "                total += roman[s[i]]\n",
    "        return total + roman[s[-1]]\n",
    "    "
   ]
  },
  {
   "cell_type": "code",
   "execution_count": 20,
   "id": "1c53f9ca",
   "metadata": {},
   "outputs": [
    {
     "name": "stdout",
     "output_type": "stream",
     "text": [
      "[[-1, 0, 1], [-1, 0, 1]]\n"
     ]
    }
   ],
   "source": [
    "nums = [-1,0,1,2,-1,-4]\n",
    "nums.sort()\n",
    "new  = []\n",
    "for i in range(len(nums)):\n",
    "    for j in range(i+1, len(nums)):\n",
    "        for k in range(j+1, len(nums)):\n",
    "            if nums[i] !=nums[j] and nums[i] != nums[k] and nums[j] !=nums[k]:\n",
    "                if nums[i]+nums[j]+nums[k] == 0:\n",
    "                    new.append([nums[i],nums[j],nums[k]])\n",
    "print(new)"
   ]
  },
  {
   "cell_type": "code",
   "execution_count": null,
   "id": "9eff27f2",
   "metadata": {},
   "outputs": [],
   "source": []
  }
 ],
 "metadata": {
  "kernelspec": {
   "display_name": "Python 3 (ipykernel)",
   "language": "python",
   "name": "python3"
  },
  "language_info": {
   "codemirror_mode": {
    "name": "ipython",
    "version": 3
   },
   "file_extension": ".py",
   "mimetype": "text/x-python",
   "name": "python",
   "nbconvert_exporter": "python",
   "pygments_lexer": "ipython3",
   "version": "3.9.12"
  }
 },
 "nbformat": 4,
 "nbformat_minor": 5
}
