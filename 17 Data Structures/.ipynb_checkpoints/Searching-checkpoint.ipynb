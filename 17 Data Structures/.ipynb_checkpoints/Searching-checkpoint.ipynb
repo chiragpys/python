{
 "cells": [
  {
   "cell_type": "markdown",
   "id": "0eae771c",
   "metadata": {},
   "source": [
    "### Linear Search\n",
    "Linear search is a sequential searching algorithm where we start from one end and check every element of the list until the desired element is found. It is the simplest searching algorithm."
   ]
  },
  {
   "cell_type": "code",
   "execution_count": 1,
   "id": "ae908fe2",
   "metadata": {},
   "outputs": [],
   "source": [
    "def Linearsearch(arr, x):\n",
    "    for i in range(len(arr)):\n",
    "        if arr[i] == x:\n",
    "            return i\n",
    "    return -1"
   ]
  },
  {
   "cell_type": "code",
   "execution_count": 3,
   "id": "fc0ff059",
   "metadata": {},
   "outputs": [
    {
     "name": "stdout",
     "output_type": "stream",
     "text": [
      "4\n"
     ]
    }
   ],
   "source": [
    "arr = [2, 4, 0, 1, 9]\n",
    "result = Linearsearch(arr, 9)\n",
    "print(result)"
   ]
  },
  {
   "cell_type": "markdown",
   "id": "1a626ffb",
   "metadata": {},
   "source": [
    "### Binary Search\n",
    "Binary Search is a searching algorithm for finding an element's position in a sorted array.\n",
    "In this approach, the element is always searched in the middle of a portion of an array."
   ]
  },
  {
   "cell_type": "code",
   "execution_count": 6,
   "id": "3e3a6eb6",
   "metadata": {},
   "outputs": [
    {
     "name": "stdout",
     "output_type": "stream",
     "text": [
      "5\n"
     ]
    }
   ],
   "source": [
    "# Binary Search Iterative Method \n",
    "def binarySearch(array, x, low, high):\n",
    "    \n",
    "    while low <= high:\n",
    "\n",
    "        mid = (low + high)//2\n",
    "\n",
    "        if array[mid] == x:\n",
    "            return mid\n",
    "\n",
    "        elif array[mid] < x:\n",
    "            low = mid + 1\n",
    "\n",
    "        else:\n",
    "            high = mid - 1\n",
    "\n",
    "    return -1\n",
    "\n",
    "\n",
    "array = [3, 4, 5, 6, 7, 8, 9, 10, 12]\n",
    "x = 8\n",
    "\n",
    "result = binarySearch(array, x, 0, len(array)-1)\n",
    "print(result)"
   ]
  },
  {
   "cell_type": "code",
   "execution_count": 10,
   "id": "2ee74fe0",
   "metadata": {},
   "outputs": [
    {
     "name": "stdout",
     "output_type": "stream",
     "text": [
      "5\n"
     ]
    }
   ],
   "source": [
    "# Binary Search Recursive Method\n",
    "def binarySearch(array, x, low, high):\n",
    "\n",
    "    if high >= low:\n",
    "        mid = (low + high)//2\n",
    "\n",
    "        if array[mid] == x:\n",
    "            return mid\n",
    "\n",
    "        elif array[mid] > x:\n",
    "            return binarySearch(array, x, low, mid-1)\n",
    "\n",
    "        else:\n",
    "            return binarySearch(array, x, mid + 1, high)\n",
    "    else:\n",
    "        return -1\n",
    "\n",
    "\n",
    "array = [3, 4, 5, 6, 7, 8, 9, 10, 12]\n",
    "x = 8\n",
    "\n",
    "result = binarySearch(array, x, 0, len(array)-1)\n",
    "print(result)\n"
   ]
  },
  {
   "cell_type": "code",
   "execution_count": null,
   "id": "0862161b",
   "metadata": {},
   "outputs": [],
   "source": []
  }
 ],
 "metadata": {
  "kernelspec": {
   "display_name": "Python 3 (ipykernel)",
   "language": "python",
   "name": "python3"
  },
  "language_info": {
   "codemirror_mode": {
    "name": "ipython",
    "version": 3
   },
   "file_extension": ".py",
   "mimetype": "text/x-python",
   "name": "python",
   "nbconvert_exporter": "python",
   "pygments_lexer": "ipython3",
   "version": "3.9.12"
  }
 },
 "nbformat": 4,
 "nbformat_minor": 5
}
