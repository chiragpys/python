{
 "cells": [
  {
   "cell_type": "markdown",
   "id": "d67ac834",
   "metadata": {},
   "source": [
    "### Bubble sort\n",
    "Bubble sort is a sorting algorithm that compares two adjacent elements and swaps them until they are in the intended order.\n",
    "Bubble Sort is a simple sorting algorithm. This sorting algorithm repeatedly compares two adjacent elements and swaps them if they are in the wrong order. It is also known as the sinking sort."
   ]
  },
  {
   "cell_type": "code",
   "execution_count": 10,
   "id": "9e52fb91",
   "metadata": {},
   "outputs": [
    {
     "name": "stdout",
     "output_type": "stream",
     "text": [
      "Sorted array is:\n",
      "[1, 2, 10, 23]\n"
     ]
    }
   ],
   "source": [
    "def bubbleSort(arr):\n",
    "\n",
    "    n = len(arr)\n",
    "\n",
    "    # For loop to traverse through all\n",
    "    # element in an array\n",
    "    for i in range(n):\n",
    "        for j in range(0, n - i - 1):\n",
    "            \n",
    "            # Range of the array is from 0 to n-i-1\n",
    "            # Swap the elements if the element found\n",
    "            #is greater than the adjacent element\n",
    "            if arr[j] > arr[j + 1]:\n",
    "                arr[j], arr[j + 1] = arr[j + 1], arr[j]        \n",
    "\n",
    "arr = [ 2, 10, 23, 1]\n",
    "\n",
    "# Increasing Order:\n",
    "bubbleSort(arr)\n",
    "\n",
    "print(\"Sorted array is:\")\n",
    "print(arr)"
   ]
  },
  {
   "cell_type": "code",
   "execution_count": 9,
   "id": "06c6b301",
   "metadata": {},
   "outputs": [
    {
     "name": "stdout",
     "output_type": "stream",
     "text": [
      "Sorted array is:\n",
      "[23, 10, 2, 1]\n"
     ]
    }
   ],
   "source": [
    "def bubbleSort(arr):\n",
    "\n",
    "    n = len(arr)\n",
    "\n",
    "    # For loop to traverse through all\n",
    "    # element in an array\n",
    "    for i in range(n):\n",
    "        for j in range(0, n - i - 1):\n",
    "            if arr[j] < arr[j + 1]:\n",
    "                arr[j], arr[j + 1] = arr[j + 1], arr[j]        \n",
    "\n",
    "\n",
    "arr = [ 2, 1, 10, 23 ]\n",
    "\n",
    "# Decreasing Order\n",
    "bubbleSort(arr)\n",
    "\n",
    "print(\"Sorted array is:\")\n",
    "print(arr)"
   ]
  },
  {
   "cell_type": "markdown",
   "id": "6bbe15ac",
   "metadata": {},
   "source": [
    "### Merge Sort\n",
    "Merge Sort is one of the most popular sorting algorithms that is based on the principle of Divide and Conquer Algorithm.\n",
    "\n",
    "Here, a problem is divided into multiple sub-problems. Each sub-problem is solved individually. Finally, sub-problems are combined to form the final solution.\n",
    "\n"
   ]
  },
  {
   "cell_type": "code",
   "execution_count": 30,
   "id": "330c1cc7",
   "metadata": {
    "scrolled": true
   },
   "outputs": [
    {
     "name": "stdout",
     "output_type": "stream",
     "text": [
      "Sorted array is:\n",
      "[1, 5, 6, 9, 10, 12]\n"
     ]
    }
   ],
   "source": [
    "def mergeSort(array):\n",
    "    if len(array) > 1:\n",
    "\n",
    "        #  l is the point where the array is divided into two subarrays\n",
    "        l = len(array)//2\n",
    "        L = array[:l]\n",
    "        R = array[l:]\n",
    "\n",
    "        # Sort the two halves\n",
    "        mergeSort(L)\n",
    "        mergeSort(R)\n",
    "\n",
    "        i = j = k = 0    # when i--> is left side, j--> is right side and K--> value store \n",
    "\n",
    "        # Until we reach either end of either L or R, pick larger among\n",
    "        while i < len(L) and j < len(R):\n",
    "            if L[i] < R[j]:\n",
    "                array[k] = L[i]\n",
    "                i += 1\n",
    "            else:\n",
    "                array[k] = R[j]\n",
    "                j += 1\n",
    "            k += 1\n",
    "#         print(array)\n",
    "\n",
    "        # When we run out of elements in either L or R,\n",
    "        while i < len(L):\n",
    "            array[k] = L[i]\n",
    "            i += 1\n",
    "            k += 1\n",
    "\n",
    "        while j < len(R):\n",
    "            array[k] = R[j]\n",
    "            j += 1\n",
    "            k += 1\n",
    "\n",
    "array = [6, 5, 12, 10, 9, 1]\n",
    "\n",
    "mergeSort(array)\n",
    "\n",
    "print(\"Sorted array is:\")\n",
    "print(array)"
   ]
  },
  {
   "cell_type": "markdown",
   "id": "36570601",
   "metadata": {},
   "source": [
    "### Quicksort Algorithm\n",
    "Just unlikely merge Sort, QuickSort is a divide and conquer algorithm. It picks an element as a pivot and partitions the given array around the picked pivot.\n",
    "Always pick the last element as a pivot.\n"
   ]
  },
  {
   "cell_type": "code",
   "execution_count": 41,
   "id": "1eb95f17",
   "metadata": {},
   "outputs": [
    {
     "name": "stdout",
     "output_type": "stream",
     "text": [
      "Array:  [8, 7, 2, 1, 0, 9, 6]\n",
      "Sorted Array:  [0, 1, 2, 6, 7, 8, 9]\n"
     ]
    }
   ],
   "source": [
    "def partition(array, low, high):\n",
    "    pivot = array[high]\n",
    "    i = low - 1\n",
    "\n",
    "    for j in range(low, high):\n",
    "        if array[j] <= pivot:\n",
    "            i = i + 1\n",
    "            array[i], array[j] = array[j], array[i]\n",
    "\n",
    "    # swap the pivot element with the greater element specified by i\n",
    "    array[i + 1], array[high] = array[high], array[i + 1]\n",
    "\n",
    "    return i + 1\n",
    "\n",
    "\n",
    "def quickSort(array, low, high):\n",
    "    if low < high:\n",
    "\n",
    "        # find pivot element such that\n",
    "        pi = partition(array, low, high)\n",
    "\n",
    "        # recursive call on the left of pivot\n",
    "        quickSort(array, low, pi - 1)\n",
    "\n",
    "        # recursive call on the right of pivot\n",
    "        quickSort(array, pi + 1, high)\n",
    "\n",
    "\n",
    "data = [8, 7, 2, 1, 0, 9, 6]\n",
    "print(\"Array: \", data)\n",
    "\n",
    "quickSort(data, 0, len(data)- 1)\n",
    "\n",
    "print('Sorted Array: ', data)"
   ]
  },
  {
   "cell_type": "code",
   "execution_count": null,
   "id": "c2df320e",
   "metadata": {},
   "outputs": [],
   "source": []
  },
  {
   "cell_type": "code",
   "execution_count": null,
   "id": "f0f10d9d",
   "metadata": {},
   "outputs": [],
   "source": []
  }
 ],
 "metadata": {
  "kernelspec": {
   "display_name": "Python 3 (ipykernel)",
   "language": "python",
   "name": "python3"
  },
  "language_info": {
   "codemirror_mode": {
    "name": "ipython",
    "version": 3
   },
   "file_extension": ".py",
   "mimetype": "text/x-python",
   "name": "python",
   "nbconvert_exporter": "python",
   "pygments_lexer": "ipython3",
   "version": "3.9.12"
  }
 },
 "nbformat": 4,
 "nbformat_minor": 5
}
