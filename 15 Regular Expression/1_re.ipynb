{
 "cells": [
  {
   "cell_type": "code",
   "execution_count": 2,
   "id": "3e4b0614",
   "metadata": {
    "scrolled": true
   },
   "outputs": [
    {
     "name": "stdout",
     "output_type": "stream",
     "text": [
      "Start Index: 27\n",
      "End Index: 38\n",
      "<re.Match object; span=(27, 38), match='programming'>\n"
     ]
    }
   ],
   "source": [
    "import re\n",
    "\n",
    "s = 'Python: A computer science programming language'\n",
    "\n",
    "match = re.search(r'programming', s)\n",
    "\n",
    "print('Start Index:', match.start())\n",
    "print('End Index:', match.end())\n",
    "print(match)"
   ]
  },
  {
   "cell_type": "markdown",
   "id": "4463515f",
   "metadata": {},
   "source": [
    "### \\ – Backslash\n",
    "The backslash (\\) makes sure that the character is not treated in a special way. This can be considered a way of escaping metacharacters."
   ]
  },
  {
   "cell_type": "code",
   "execution_count": 42,
   "id": "94d474e3",
   "metadata": {},
   "outputs": [
    {
     "name": "stdout",
     "output_type": "stream",
     "text": [
      "<re.Match object; span=(0, 1), match='p'>\n",
      "<re.Match object; span=(6, 7), match='.'>\n"
     ]
    }
   ],
   "source": [
    "import re\n",
    "\n",
    "s = 'python.forpysquad'\n",
    "\n",
    "# without using \\\n",
    "match = re.search(r'.', s)\n",
    "print(match)\n",
    "\n",
    "# using \\\n",
    "match = re.search(r'\\.', s)\n",
    "print(match)\n"
   ]
  },
  {
   "cell_type": "markdown",
   "id": "b6d02921",
   "metadata": {},
   "source": [
    "### [] – Square Brackets\n",
    "Square Brackets ([]) represent a character class consisting of a set of characters that we wish to match. For example, the character class [abc] will match any single a, b, or c. "
   ]
  },
  {
   "cell_type": "code",
   "execution_count": 37,
   "id": "6a89ddcd",
   "metadata": {},
   "outputs": [
    {
     "name": "stdout",
     "output_type": "stream",
     "text": [
      "['h', 'e', 'i', 'c', 'k', 'b', 'f', 'j', 'm', 'e', 'h', 'e', 'l', 'a', 'd', 'g']\n"
     ]
    }
   ],
   "source": [
    "import re\n",
    "\n",
    "string = \"The quick brown fox jumps over the lazy dog\"\n",
    "pattern = \"[a-m]\"\n",
    "result = re.findall(pattern, string)\n",
    "\n",
    "print(result)\n"
   ]
  },
  {
   "cell_type": "code",
   "execution_count": 39,
   "id": "8e0f7724",
   "metadata": {},
   "outputs": [
    {
     "name": "stdout",
     "output_type": "stream",
     "text": [
      "['h', 'o', 'n']\n"
     ]
    }
   ],
   "source": [
    "s = \"python\"\n",
    "result = re.findall(\"[a-o]\", s)\n",
    "print(result)\n"
   ]
  },
  {
   "cell_type": "markdown",
   "id": "f68e9efb",
   "metadata": {},
   "source": [
    "### ^ – Caret\n",
    "Caret (^) symbol matches the beginning of the string i.e. checks whether the string starts with the given character(s) or not. For example –  ^g will check if the string starts with g such as geeks, globe, girl, g, etc."
   ]
  },
  {
   "cell_type": "code",
   "execution_count": 53,
   "id": "7e5c529e",
   "metadata": {},
   "outputs": [
    {
     "name": "stdout",
     "output_type": "stream",
     "text": [
      "Matched: The quick brown fox\n",
      "Matched: The lazy dog\n",
      "Not matched: A quick brown fox\n",
      "Matched: The python is easy\n"
     ]
    }
   ],
   "source": [
    "import re\n",
    "\n",
    "regex = r'^The'\n",
    "strings = ['The quick brown fox', 'The lazy dog', 'A quick brown fox','The python is easy']\n",
    "for string in strings:\n",
    "    if re.match(regex, string):\n",
    "        print(f'Matched: {string}')\n",
    "    else:\n",
    "        print(f'Not matched: {string}')\n"
   ]
  },
  {
   "cell_type": "markdown",
   "id": "a0be4e84",
   "metadata": {},
   "source": [
    "### $-Dollar\n"
   ]
  },
  {
   "cell_type": "code",
   "execution_count": 56,
   "id": "cd2781c9",
   "metadata": {},
   "outputs": [
    {
     "name": "stdout",
     "output_type": "stream",
     "text": [
      "Match found!\n",
      "<re.Match object; span=(6, 12), match='World!'>\n"
     ]
    }
   ],
   "source": [
    "import re\n",
    "\n",
    "string = \"Hello World!\"\n",
    "pattern = r\"World!$\"\n",
    "match = re.search(pattern, string)\n",
    "\n",
    "if match:\n",
    "    print(\"Match found!\")\n",
    "else:\n",
    "    print(\"Match not found.\")\n",
    "print(match)"
   ]
  },
  {
   "cell_type": "markdown",
   "id": "37ff8517",
   "metadata": {},
   "source": [
    "### (.) – Dot"
   ]
  },
  {
   "cell_type": "code",
   "execution_count": 19,
   "id": "12018fb3",
   "metadata": {},
   "outputs": [
    {
     "name": "stdout",
     "output_type": "stream",
     "text": [
      "Match found!\n",
      "<re.Match object; span=(10, 19), match='brown fox'>\n"
     ]
    }
   ],
   "source": [
    "import re\n",
    "\n",
    "string = \"The quick brown fox jumps over the lazy dog\"\n",
    "pattern = r\"brown.fox\"\n",
    "\n",
    "match = re.search(pattern, string)\n",
    "if match:\n",
    "    print(\"Match found!\")\n",
    "else:\n",
    "    print(\"Match not found.\")\n",
    "print(match)"
   ]
  },
  {
   "cell_type": "code",
   "execution_count": null,
   "id": "02d41d96",
   "metadata": {},
   "outputs": [],
   "source": []
  }
 ],
 "metadata": {
  "kernelspec": {
   "display_name": "Python 3 (ipykernel)",
   "language": "python",
   "name": "python3"
  },
  "language_info": {
   "codemirror_mode": {
    "name": "ipython",
    "version": 3
   },
   "file_extension": ".py",
   "mimetype": "text/x-python",
   "name": "python",
   "nbconvert_exporter": "python",
   "pygments_lexer": "ipython3",
   "version": "3.9.12"
  }
 },
 "nbformat": 4,
 "nbformat_minor": 5
}
