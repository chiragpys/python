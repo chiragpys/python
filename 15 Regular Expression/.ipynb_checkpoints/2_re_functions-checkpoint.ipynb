{
 "cells": [
  {
   "cell_type": "markdown",
   "id": "0ec73f0b",
   "metadata": {},
   "source": [
    "### re.findall()\n",
    "Return all non-overlapping matches of pattern in string, `as a list of strings`. The string is scanned left-to-right, and matches are returned in the order found."
   ]
  },
  {
   "cell_type": "code",
   "execution_count": null,
   "id": "7d19b72a",
   "metadata": {},
   "outputs": [],
   "source": [
    "import re\n",
    "\n",
    "string = ''' Hello my Number is a 7878950100\n",
    "and my friend number is a 9876543210\n",
    "'''\n",
    "match = re.findall('\\d+', string)\n",
    "print(match)"
   ]
  },
  {
   "cell_type": "markdown",
   "id": "594ffecd",
   "metadata": {},
   "source": [
    "### re.compile()\n",
    "Regular expressions are compiled into pattern objects, which have methods for various operations such as searching for pattern matches or performing string substitutions. "
   ]
  },
  {
   "cell_type": "code",
   "execution_count": null,
   "id": "b38c717f",
   "metadata": {},
   "outputs": [],
   "source": [
    "import re\n",
    "p = re.compile('[a-e]')\n",
    "\n",
    "print(p.findall(\"Aye, said Mr. Gibenson Stark\"))\n"
   ]
  },
  {
   "cell_type": "code",
   "execution_count": null,
   "id": "0606eb91",
   "metadata": {},
   "outputs": [],
   "source": [
    "import re\n",
    "\n",
    "p = re.compile('\\d')\n",
    "print(p.findall(\"I went to him at 11 A.M. on 4th July 1886\"))\n",
    "\n",
    "p = re.compile('\\d+')\n",
    "print(p.findall(\"I went to him at 11 A.M. on 4th July 1886\"))\n"
   ]
  },
  {
   "cell_type": "code",
   "execution_count": null,
   "id": "91e31454",
   "metadata": {},
   "outputs": [],
   "source": [
    "import re\n",
    "\n",
    "p = re.compile('\\w')\n",
    "print(p.findall(\"He said * in some_lang.\"))\n",
    "\n",
    "p = re.compile('\\w+')\n",
    "print(p.findall(\"I went to him at 11 A.M., he \\\n",
    "said *** in some_language.\"))\n",
    "\n",
    "\n",
    "p = re.compile('\\W')\n",
    "print(p.findall(\"he said *** in some_language.\"))\n"
   ]
  },
  {
   "cell_type": "code",
   "execution_count": null,
   "id": "fb74fc9d",
   "metadata": {},
   "outputs": [],
   "source": [
    "import re\n",
    "\n",
    "p = re.compile('ab*')\n",
    "print(p.findall(\"ababbaabbb\"))\n"
   ]
  },
  {
   "cell_type": "markdown",
   "id": "d29cf0c3",
   "metadata": {},
   "source": [
    "### re.split()\n",
    "The re.split method splits the string where there is a match and returns a list of strings where the splits have occurred."
   ]
  },
  {
   "cell_type": "code",
   "execution_count": null,
   "id": "272d825b",
   "metadata": {},
   "outputs": [],
   "source": [
    "from re import split\n",
    "\n",
    "print(split('\\W+', 'Words, words , Words'))\n",
    "print(split('\\W+', \"Word's words Words\"))\n",
    "\n",
    "\n",
    "print(split('\\W+', 'On 12th Jan 2016, at 11:02 AM'))\n",
    "\n",
    "\n",
    "print(split('\\d+', 'On 12th Jan 2016, at 11:02 AM'))\n"
   ]
  },
  {
   "cell_type": "code",
   "execution_count": null,
   "id": "4d666f5f",
   "metadata": {},
   "outputs": [],
   "source": [
    "import re\n",
    "\n",
    "print(re.findall('\\W+', 'Words, words , Words'))\n",
    "print(re.findall('\\W+', \"Word's words Words\"))\n",
    "\n",
    "print(re.findall('\\W+', 'On 12th Jan 2016, at 11:02 AM'))\n",
    "\n",
    "print(re.findall('\\d+', 'On 12th Jan 2016, at 11:02 AM'))"
   ]
  },
  {
   "cell_type": "code",
   "execution_count": null,
   "id": "d08a0e4d",
   "metadata": {},
   "outputs": [],
   "source": [
    "import re\n",
    "\n",
    "p = re.split('\\d+', 'On 12th Jan 2016, at 11:02 AM', 1)\n",
    "print(p)\n",
    "\n",
    "\n",
    "print(re.split('[a-f]+', 'Aey, Boy oh boy, come here', flags=re.IGNORECASE))\n",
    "print(re.split('[a-f]+', 'Aey, Boy oh boy, come here'))\n"
   ]
  },
  {
   "cell_type": "markdown",
   "id": "5d3f48d6",
   "metadata": {},
   "source": [
    "### re.sub() \n",
    "The `sub` in the function stands for SubString, a certain regular expression pattern is searched in the given string(3rd parameter), and upon finding the substring pattern is replaced by repl(2nd parameter), count checks and maintains the number of times this occurs."
   ]
  },
  {
   "cell_type": "code",
   "execution_count": null,
   "id": "1b9831f5",
   "metadata": {},
   "outputs": [],
   "source": [
    "import re\n",
    "print(re.sub('ub', '~*', 'Subject has Uber booked already',))\n",
    "print(re.sub('ub', '~*', 'Subject has Uber booked already', flags=re.IGNORECASE))\n",
    "\n",
    "print(re.sub('ub', '--', 'Subject has Uber booked already',count=1, flags=re.IGNORECASE))\n",
    "print(re.sub(r'\\sAND\\s', ' & ', 'Baked Beans And Spam', flags=re.IGNORECASE))\n"
   ]
  },
  {
   "cell_type": "markdown",
   "id": "a9a5c50e",
   "metadata": {},
   "source": [
    "### re.subn() \n",
    "subn() is similar to sub() in all ways, except in its way of providing output. It returns a tuple with a count of the total of replacement and the new string rather than just the string. "
   ]
  },
  {
   "cell_type": "code",
   "execution_count": null,
   "id": "d9fa7cd0",
   "metadata": {},
   "outputs": [],
   "source": [
    "import re\n",
    "\n",
    "print(re.subn('ub', '~*', 'Subject has Uber booked already'))\n",
    "\n",
    "t = re.subn('ub', '--', 'Subject has Uber booked already', count=0, flags=re.IGNORECASE)\n",
    "\n",
    "print(t)\n",
    "print(len(t))\n",
    "\n",
    "print(t[0])\n"
   ]
  },
  {
   "cell_type": "markdown",
   "id": "25f12515",
   "metadata": {},
   "source": [
    "### re.escape()\n",
    "Returns string with all non-alphanumerics backslashed(\\), this is useful if you want to match an arbitrary literal string that may have regular expression metacharacters in it."
   ]
  },
  {
   "cell_type": "code",
   "execution_count": null,
   "id": "f9534872",
   "metadata": {},
   "outputs": [],
   "source": [
    "import re\n",
    "s = \"This is Awesome even 1 AM\"\n",
    "print(re.escape(s))\n",
    "print(s)\n",
    "print(re.escape(\"I Asked what is this [a-9], he said \\t ^WoW\"))\n"
   ]
  },
  {
   "cell_type": "markdown",
   "id": "6d3d2cbe",
   "metadata": {},
   "source": [
    "### re.search()\n",
    "This method either returns None (if the pattern doesn’t match), or a re.MatchObject contains information about the matching part of the string."
   ]
  },
  {
   "cell_type": "code",
   "execution_count": null,
   "id": "20c6a134",
   "metadata": {},
   "outputs": [],
   "source": [
    "import re\n",
    "\n",
    "\n",
    "regex = r\"([a-zA-Z]+) (\\d+)\"\n",
    "\n",
    "match = re.search(regex, \"I was born on June 24\")\n",
    "\n",
    "if match != None:\n",
    "\n",
    "\n",
    "    print (\"Match at index %s, %s\" % (match.start(), match.end()))\n",
    "\n",
    "    print (\"Full match: %s\" % (match.group(0)))\n",
    "\n",
    "\n",
    "    print (\"Month: %s\" % (match.group(1)))\n",
    "\n",
    "    print (\"Day: %s\" % (match.group(2)))\n",
    "\n",
    "else:\n",
    "    print (\"The regex pattern does not match.\")\n",
    "print(match)\n"
   ]
  },
  {
   "cell_type": "markdown",
   "id": "07104be7",
   "metadata": {},
   "source": [
    "`match.re`-> attribute returns the regular expression passed and `match.string`-> attribute returns the string passed."
   ]
  },
  {
   "cell_type": "code",
   "execution_count": 4,
   "id": "6433d13c",
   "metadata": {},
   "outputs": [
    {
     "name": "stdout",
     "output_type": "stream",
     "text": [
      "re.compile('\\\\bPy')\n",
      "Welcome to Python\n"
     ]
    }
   ],
   "source": [
    "import re\n",
    "\n",
    "s = \"Welcome to Python\"\n",
    "\n",
    "# here x is the match object\n",
    "res = re.search(r\"\\bPy\", s)\n",
    "\n",
    "print(res.re)\n",
    "print(res.string)\n"
   ]
  },
  {
   "cell_type": "code",
   "execution_count": null,
   "id": "5b277140",
   "metadata": {},
   "outputs": [],
   "source": [
    "import re\n",
    "\n",
    "s = \"Welcome to Python\"\n",
    "\n",
    "res = re.search(r\"\\bPyth\", s)\n",
    "\n",
    "print(res.start())\n",
    "print(res.end())\n",
    "print(res.span())\n",
    "print(res)\n",
    "print(res.group())"
   ]
  },
  {
   "cell_type": "code",
   "execution_count": null,
   "id": "0122d1c5",
   "metadata": {},
   "outputs": [],
   "source": [
    "import re\n",
    "\n",
    "s = \"Welcome to Python\"\n",
    "\n",
    "# here x is the match object\n",
    "res = re.search(r\"\\D{2} t\", s)\n",
    "\n",
    "print(res.group())\n",
    "print(res)\n"
   ]
  },
  {
   "cell_type": "code",
   "execution_count": null,
   "id": "412db9a3",
   "metadata": {},
   "outputs": [],
   "source": []
  }
 ],
 "metadata": {
  "kernelspec": {
   "display_name": "Python 3 (ipykernel)",
   "language": "python",
   "name": "python3"
  },
  "language_info": {
   "codemirror_mode": {
    "name": "ipython",
    "version": 3
   },
   "file_extension": ".py",
   "mimetype": "text/x-python",
   "name": "python",
   "nbconvert_exporter": "python",
   "pygments_lexer": "ipython3",
   "version": "3.9.12"
  }
 },
 "nbformat": 4,
 "nbformat_minor": 5
}
